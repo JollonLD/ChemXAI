{
  "cells": [
    {
      "cell_type": "markdown",
      "metadata": {
        "id": "xWtCqjkXQHdy"
      },
      "source": [
        "# Instalação de Pacotes"
      ]
    },
    {
      "cell_type": "code",
      "source": [
        "!pip install -r requirements.txt"
      ],
      "metadata": {
        "colab": {
          "base_uri": "https://localhost:8080/"
        },
        "id": "Xl318kD9b0ii",
        "outputId": "569cec5a-7e03-4ca6-83d1-593b1f99949b"
      },
      "execution_count": null,
      "outputs": [
        {
          "output_type": "stream",
          "name": "stdout",
          "text": [
            "Collecting absl-py==2.1.0 (from -r requirements.txt (line 1))\n",
            "  Using cached absl_py-2.1.0-py3-none-any.whl.metadata (2.3 kB)\n",
            "Requirement already satisfied: alembic==1.14.0 in /usr/local/lib/python3.10/dist-packages (from -r requirements.txt (line 2)) (1.14.0)\n",
            "Requirement already satisfied: ase==3.23.0 in /usr/local/lib/python3.10/dist-packages (from -r requirements.txt (line 3)) (3.23.0)\n",
            "Collecting asttokens==2.4.1 (from -r requirements.txt (line 4))\n",
            "  Using cached asttokens-2.4.1-py2.py3-none-any.whl.metadata (5.2 kB)\n",
            "Requirement already satisfied: astunparse==1.6.3 in /usr/local/lib/python3.10/dist-packages (from -r requirements.txt (line 5)) (1.6.3)\n",
            "Requirement already satisfied: certifi==2024.8.30 in /usr/local/lib/python3.10/dist-packages (from -r requirements.txt (line 6)) (2024.8.30)\n",
            "Requirement already satisfied: charset-normalizer==3.4.0 in /usr/local/lib/python3.10/dist-packages (from -r requirements.txt (line 7)) (3.4.0)\n",
            "Collecting cloudpickle==3.0.0 (from -r requirements.txt (line 8))\n",
            "  Using cached cloudpickle-3.0.0-py3-none-any.whl.metadata (7.0 kB)\n",
            "Collecting colorama==0.4.6 (from -r requirements.txt (line 9))\n",
            "  Using cached colorama-0.4.6-py2.py3-none-any.whl.metadata (17 kB)\n",
            "Requirement already satisfied: colorlog==6.9.0 in /usr/local/lib/python3.10/dist-packages (from -r requirements.txt (line 10)) (6.9.0)\n",
            "Collecting comm==0.2.2 (from -r requirements.txt (line 11))\n",
            "  Using cached comm-0.2.2-py3-none-any.whl.metadata (3.7 kB)\n",
            "Requirement already satisfied: contourpy==1.3.0 in /usr/local/lib/python3.10/dist-packages (from -r requirements.txt (line 12)) (1.3.0)\n",
            "Requirement already satisfied: cycler==0.12.1 in /usr/local/lib/python3.10/dist-packages (from -r requirements.txt (line 13)) (0.12.1)\n",
            "Collecting debugpy==1.8.6 (from -r requirements.txt (line 14))\n",
            "  Using cached debugpy-1.8.6-cp310-cp310-manylinux_2_5_x86_64.manylinux1_x86_64.manylinux_2_17_x86_64.manylinux2014_x86_64.whl.metadata (1.1 kB)\n",
            "Collecting decorator==5.1.1 (from -r requirements.txt (line 15))\n",
            "  Using cached decorator-5.1.1-py3-none-any.whl.metadata (4.0 kB)\n",
            "Collecting deepchem==2.5.0 (from -r requirements.txt (line 16))\n",
            "  Using cached deepchem-2.5.0-py3-none-any.whl.metadata (1.1 kB)\n",
            "Requirement already satisfied: dscribe==2.1.1 in /usr/local/lib/python3.10/dist-packages (from -r requirements.txt (line 17)) (2.1.1)\n",
            "Collecting executing==2.1.0 (from -r requirements.txt (line 18))\n",
            "  Using cached executing-2.1.0-py2.py3-none-any.whl.metadata (8.9 kB)\n",
            "Requirement already satisfied: filelock==3.16.1 in /usr/local/lib/python3.10/dist-packages (from -r requirements.txt (line 19)) (3.16.1)\n",
            "Requirement already satisfied: flatbuffers==24.3.25 in /usr/local/lib/python3.10/dist-packages (from -r requirements.txt (line 20)) (24.3.25)\n",
            "Requirement already satisfied: fonttools==4.54.1 in /usr/local/lib/python3.10/dist-packages (from -r requirements.txt (line 21)) (4.54.1)\n",
            "Requirement already satisfied: fsspec==2024.10.0 in /usr/local/lib/python3.10/dist-packages (from -r requirements.txt (line 22)) (2024.10.0)\n",
            "Requirement already satisfied: gast==0.6.0 in /usr/local/lib/python3.10/dist-packages (from -r requirements.txt (line 23)) (0.6.0)\n",
            "Requirement already satisfied: google-pasta==0.2.0 in /usr/local/lib/python3.10/dist-packages (from -r requirements.txt (line 24)) (0.2.0)\n",
            "Requirement already satisfied: greenlet==3.1.1 in /usr/local/lib/python3.10/dist-packages (from -r requirements.txt (line 25)) (3.1.1)\n",
            "Collecting grpcio==1.66.2 (from -r requirements.txt (line 26))\n",
            "  Using cached grpcio-1.66.2-cp310-cp310-manylinux_2_17_x86_64.manylinux2014_x86_64.whl.metadata (3.9 kB)\n",
            "Requirement already satisfied: h5py==3.12.1 in /usr/local/lib/python3.10/dist-packages (from -r requirements.txt (line 27)) (3.12.1)\n",
            "Requirement already satisfied: idna==3.10 in /usr/local/lib/python3.10/dist-packages (from -r requirements.txt (line 28)) (3.10)\n",
            "Requirement already satisfied: imageio==2.36.0 in /usr/local/lib/python3.10/dist-packages (from -r requirements.txt (line 29)) (2.36.0)\n",
            "Collecting ipykernel==6.29.5 (from -r requirements.txt (line 30))\n",
            "  Using cached ipykernel-6.29.5-py3-none-any.whl.metadata (6.3 kB)\n",
            "Collecting ipython==8.28.0 (from -r requirements.txt (line 31))\n",
            "  Using cached ipython-8.28.0-py3-none-any.whl.metadata (5.0 kB)\n",
            "Collecting jedi==0.19.1 (from -r requirements.txt (line 32))\n",
            "  Using cached jedi-0.19.1-py2.py3-none-any.whl.metadata (22 kB)\n",
            "Requirement already satisfied: Jinja2==3.1.4 in /usr/local/lib/python3.10/dist-packages (from -r requirements.txt (line 33)) (3.1.4)\n",
            "Requirement already satisfied: joblib==1.4.2 in /usr/local/lib/python3.10/dist-packages (from -r requirements.txt (line 34)) (1.4.2)\n",
            "Collecting jupyter_client==8.6.3 (from -r requirements.txt (line 35))\n",
            "  Using cached jupyter_client-8.6.3-py3-none-any.whl.metadata (8.3 kB)\n",
            "Requirement already satisfied: jupyter_core==5.7.2 in /usr/local/lib/python3.10/dist-packages (from -r requirements.txt (line 36)) (5.7.2)\n",
            "Collecting keras==3.6.0 (from -r requirements.txt (line 37))\n",
            "  Using cached keras-3.6.0-py3-none-any.whl.metadata (5.8 kB)\n",
            "Requirement already satisfied: kiwisolver==1.4.7 in /usr/local/lib/python3.10/dist-packages (from -r requirements.txt (line 38)) (1.4.7)\n",
            "Requirement already satisfied: lazy_loader==0.4 in /usr/local/lib/python3.10/dist-packages (from -r requirements.txt (line 39)) (0.4)\n",
            "Requirement already satisfied: libclang==18.1.1 in /usr/local/lib/python3.10/dist-packages (from -r requirements.txt (line 40)) (18.1.1)\n",
            "Collecting lime==0.2.0.1 (from -r requirements.txt (line 41))\n",
            "  Using cached lime-0.2.0.1.tar.gz (275 kB)\n",
            "  Preparing metadata (setup.py) ... \u001b[?25l\u001b[?25hdone\n",
            "Requirement already satisfied: llvmlite==0.43.0 in /usr/local/lib/python3.10/dist-packages (from -r requirements.txt (line 42)) (0.43.0)\n",
            "Requirement already satisfied: Mako==1.3.6 in /usr/local/lib/python3.10/dist-packages (from -r requirements.txt (line 43)) (1.3.6)\n",
            "Requirement already satisfied: Markdown==3.7 in /usr/local/lib/python3.10/dist-packages (from -r requirements.txt (line 44)) (3.7)\n",
            "Requirement already satisfied: markdown-it-py==3.0.0 in /usr/local/lib/python3.10/dist-packages (from -r requirements.txt (line 45)) (3.0.0)\n",
            "Collecting MarkupSafe==3.0.1 (from -r requirements.txt (line 46))\n",
            "  Using cached MarkupSafe-3.0.1-cp310-cp310-manylinux_2_17_x86_64.manylinux2014_x86_64.whl.metadata (4.0 kB)\n",
            "Collecting matplotlib==3.9.2 (from -r requirements.txt (line 47))\n",
            "  Using cached matplotlib-3.9.2-cp310-cp310-manylinux_2_17_x86_64.manylinux2014_x86_64.whl.metadata (11 kB)\n",
            "Requirement already satisfied: matplotlib-inline==0.1.7 in /usr/local/lib/python3.10/dist-packages (from -r requirements.txt (line 48)) (0.1.7)\n",
            "Requirement already satisfied: mdurl==0.1.2 in /usr/local/lib/python3.10/dist-packages (from -r requirements.txt (line 49)) (0.1.2)\n",
            "Requirement already satisfied: ml-dtypes==0.4.1 in /usr/local/lib/python3.10/dist-packages (from -r requirements.txt (line 50)) (0.4.1)\n",
            "Requirement already satisfied: mpmath==1.3.0 in /usr/local/lib/python3.10/dist-packages (from -r requirements.txt (line 51)) (1.3.0)\n",
            "Requirement already satisfied: namex==0.0.8 in /usr/local/lib/python3.10/dist-packages (from -r requirements.txt (line 52)) (0.0.8)\n",
            "Requirement already satisfied: nest-asyncio==1.6.0 in /usr/local/lib/python3.10/dist-packages (from -r requirements.txt (line 53)) (1.6.0)\n",
            "Requirement already satisfied: networkx==3.4.2 in /usr/local/lib/python3.10/dist-packages (from -r requirements.txt (line 54)) (3.4.2)\n",
            "Requirement already satisfied: numba==0.60.0 in /usr/local/lib/python3.10/dist-packages (from -r requirements.txt (line 55)) (0.60.0)\n",
            "Requirement already satisfied: numpy==1.26.4 in /usr/local/lib/python3.10/dist-packages (from -r requirements.txt (line 56)) (1.26.4)\n",
            "Requirement already satisfied: opt_einsum==3.4.0 in /usr/local/lib/python3.10/dist-packages (from -r requirements.txt (line 57)) (3.4.0)\n",
            "Requirement already satisfied: optree==0.13.0 in /usr/local/lib/python3.10/dist-packages (from -r requirements.txt (line 58)) (0.13.0)\n",
            "Requirement already satisfied: optuna==4.0.0 in /usr/local/lib/python3.10/dist-packages (from -r requirements.txt (line 59)) (4.0.0)\n",
            "Requirement already satisfied: packaging==24.1 in /usr/local/lib/python3.10/dist-packages (from -r requirements.txt (line 60)) (24.1)\n",
            "Collecting pandas==2.2.3 (from -r requirements.txt (line 61))\n",
            "  Using cached pandas-2.2.3-cp310-cp310-manylinux_2_17_x86_64.manylinux2014_x86_64.whl.metadata (89 kB)\n",
            "Requirement already satisfied: parso==0.8.4 in /usr/local/lib/python3.10/dist-packages (from -r requirements.txt (line 62)) (0.8.4)\n",
            "Requirement already satisfied: pillow==10.4.0 in /usr/local/lib/python3.10/dist-packages (from -r requirements.txt (line 63)) (10.4.0)\n",
            "Requirement already satisfied: platformdirs==4.3.6 in /usr/local/lib/python3.10/dist-packages (from -r requirements.txt (line 64)) (4.3.6)\n",
            "Requirement already satisfied: prompt_toolkit==3.0.48 in /usr/local/lib/python3.10/dist-packages (from -r requirements.txt (line 65)) (3.0.48)\n",
            "Collecting protobuf==4.25.5 (from -r requirements.txt (line 66))\n",
            "  Using cached protobuf-4.25.5-cp37-abi3-manylinux2014_x86_64.whl.metadata (541 bytes)\n",
            "Collecting psutil==6.0.0 (from -r requirements.txt (line 67))\n",
            "  Using cached psutil-6.0.0-cp36-abi3-manylinux_2_12_x86_64.manylinux2010_x86_64.manylinux_2_17_x86_64.manylinux2014_x86_64.whl.metadata (21 kB)\n",
            "Collecting pure_eval==0.2.3 (from -r requirements.txt (line 68))\n",
            "  Using cached pure_eval-0.2.3-py3-none-any.whl.metadata (6.3 kB)\n",
            "Requirement already satisfied: Pygments==2.18.0 in /usr/local/lib/python3.10/dist-packages (from -r requirements.txt (line 69)) (2.18.0)\n",
            "Collecting pyparsing==3.1.4 (from -r requirements.txt (line 70))\n",
            "  Using cached pyparsing-3.1.4-py3-none-any.whl.metadata (5.1 kB)\n",
            "Collecting python-dateutil==2.9.0.post0 (from -r requirements.txt (line 71))\n",
            "  Using cached python_dateutil-2.9.0.post0-py2.py3-none-any.whl.metadata (8.4 kB)\n",
            "Requirement already satisfied: pytz==2024.2 in /usr/local/lib/python3.10/dist-packages (from -r requirements.txt (line 72)) (2024.2)\n",
            "\u001b[31mERROR: Ignored the following versions that require a different python version: 2.6.0.dev20220112162333 Requires-Python >=3.7,<3.10; 2.6.0.dev20220114040838 Requires-Python >=3.7,<3.10; 2.6.0.dev20220118010103 Requires-Python >=3.7,<3.10; 2.6.0.dev20220118135955 Requires-Python >=3.7,<3.10; 2.6.1 Requires-Python >=3.7,<3.10; 2.6.1.dev20220118213325 Requires-Python >=3.7,<3.10; 2.6.1.dev20220121040525 Requires-Python >=3.7,<3.10; 2.6.1.dev20220121191633 Requires-Python >=3.7,<3.10; 2.6.1.dev20220127040719 Requires-Python >=3.7,<3.10; 2.6.1.dev20220127201742 Requires-Python >=3.7,<3.10; 2.6.1.dev20220208165000 Requires-Python >=3.7,<3.10; 2.6.1.dev20220210194849 Requires-Python >=3.7,<3.10; 2.6.1.dev20220211203047 Requires-Python >=3.7,<3.10; 2.6.1.dev20220218060535 Requires-Python >=3.7,<3.10; 2.6.1.dev20220218194027 Requires-Python >=3.7,<3.10; 2.6.1.dev20220219162715 Requires-Python >=3.7,<3.10; 2.6.1.dev20220222165950 Requires-Python >=3.7,<3.10; 2.6.1.dev20220225175824 Requires-Python >=3.7,<3.10; 2.6.1.dev20220227101855 Requires-Python >=3.7,<3.10; 2.6.1.dev20220227151313 Requires-Python >=3.7,<3.10; 2.6.1.dev20220302165448 Requires-Python >=3.7,<3.10; 2.6.1.dev20220304075058 Requires-Python >=3.7,<3.10; 2.6.1.dev20220308000048 Requires-Python >=3.7,<3.10; 2.6.1.dev20220308161659 Requires-Python >=3.7,<3.10; 2.6.1.dev20220311045711 Requires-Python >=3.7,<3.10; 2.6.1.dev20220313143613 Requires-Python >=3.7,<3.10; 2.6.1.dev20220315063821 Requires-Python >=3.7,<3.10; 2.6.1.dev20220315094515 Requires-Python >=3.7,<3.10; 2.6.1.dev20220318165648 Requires-Python >=3.7,<3.10; 2.6.1.dev20220318180307 Requires-Python >=3.7,<3.10; 2.6.1.dev20220321161730 Requires-Python >=3.7,<3.10; 2.6.1.dev20220321180346 Requires-Python >=3.7,<3.10; 2.6.1.dev20220404084345 Requires-Python >=3.7,<3.10; 2.6.1.dev20220408022220 Requires-Python >=3.7,<3.10; 2.6.1.dev20220408031528 Requires-Python >=3.7,<3.10; 2.6.1.dev20220422173022 Requires-Python >=3.7,<3.10; 2.6.1.dev20220422185142 Requires-Python >=3.7,<3.10; 2.6.1.dev20220422203117 Requires-Python >=3.7,<3.10; 2.6.1.dev20220521111258 Requires-Python >=3.7,<3.10; 2.6.1.dev20220522043410 Requires-Python >=3.7,<3.10; 2.6.1.dev20220527180621 Requires-Python >=3.7,<3.10; 2.6.1.dev20220601053535 Requires-Python >=3.7,<3.10; 2.6.1.dev20220603100354 Requires-Python >=3.7,<3.10; 2.6.1.dev20220604054513 Requires-Python >=3.7,<3.10; 2.6.1.dev20220604074442 Requires-Python >=3.7,<3.10; 2.6.1.dev20220604123021 Requires-Python >=3.7,<3.10; 2.6.1.dev20220606165419 Requires-Python >=3.7,<3.10; 2.6.1.dev20220610173758 Requires-Python >=3.7,<3.10; 2.6.1.dev20220610173831 Requires-Python >=3.7,<3.10; 2.6.1.dev20220613223736 Requires-Python >=3.7,<3.10; 2.6.1.dev20220614070052 Requires-Python >=3.7,<3.10; 2.6.1.dev20220614151602 Requires-Python >=3.7,<3.10; 2.6.1.dev20220617104814 Requires-Python >=3.7,<3.10; 2.6.1.dev20220617151155 Requires-Python >=3.7,<3.10; 2.6.1.dev20220617195637 Requires-Python >=3.7,<3.10; 2.6.1.dev20220622181246 Requires-Python >=3.7,<3.10; 2.6.1.dev20220628094821 Requires-Python >=3.7,<3.10; 2.6.1.dev20220628165058 Requires-Python >=3.7,<3.10; 2.6.1.dev20220628194011 Requires-Python >=3.7,<3.10; 2.6.1.dev20220630161820 Requires-Python >=3.7,<3.10; 2.6.1.dev20220701023147 Requires-Python >=3.7,<3.10; 2.6.1.dev20220701031808 Requires-Python >=3.7,<3.10; 2.6.1.dev20220701165751 Requires-Python >=3.7,<3.10; 2.6.1.dev20220702162632 Requires-Python >=3.7,<3.10; 2.6.1.dev20220705162722 Requires-Python >=3.7,<3.10; 2.6.1.dev20220705191132 Requires-Python >=3.7,<3.10; 2.6.1.dev20220706044611 Requires-Python >=3.7,<3.10; 2.6.1.dev20220706163643 Requires-Python >=3.7,<3.10; 2.6.1.dev20220707192045 Requires-Python >=3.7,<3.10; 2.6.1.dev20220708070617 Requires-Python >=3.7,<3.10; 2.6.1.dev20220708083922 Requires-Python >=3.7,<3.10; 2.6.1.dev20220708160856 Requires-Python >=3.7,<3.10; 2.6.1.dev20220710185607 Requires-Python >=3.7,<3.10; 2.6.1.dev20220711161617 Requires-Python >=3.7,<3.10; 2.6.1.dev20220712155923 Requires-Python >=3.7,<3.10; 2.6.1.dev20220712164209 Requires-Python >=3.7,<3.10; 2.6.1.dev20220719033603 Requires-Python >=3.7,<3.10; 2.6.1.dev20220719164131 Requires-Python >=3.7,<3.10; 2.6.1.dev20220725165553 Requires-Python >=3.7,<3.10; 2.6.1.dev20220726034942 Requires-Python >=3.7,<3.10; 2.6.1.dev20220726064601 Requires-Python >=3.7,<3.10; 2.6.1.dev20220726064604 Requires-Python >=3.7,<3.10; 2.6.1.dev20220726172848 Requires-Python >=3.7,<3.10; 2.6.1.dev20220726181040 Requires-Python >=3.7,<3.10; 2.6.1.dev20220728170954 Requires-Python >=3.7,<3.10; 2.6.1.dev20220729224827 Requires-Python >=3.7,<3.10; 2.6.1.dev20220731183342 Requires-Python >=3.7,<3.10; 2.6.1.dev20220802165209 Requires-Python >=3.7,<3.10; 2.6.1.dev20220805061923 Requires-Python >=3.7,<3.10; 2.6.1.dev20220805165709 Requires-Python >=3.7,<3.10; 2.6.1.dev20220808184514 Requires-Python >=3.7,<3.10; 2.6.1.dev20220808203535 Requires-Python >=3.7,<3.10; 2.6.1.dev20220808203613 Requires-Python >=3.7,<3.10; 2.6.1.dev20220809051924 Requires-Python >=3.7,<3.10; 2.6.1.dev20220810054029 Requires-Python >=3.7,<3.10; 2.6.1.dev20220815161544 Requires-Python >=3.7,<3.10; 2.6.1.dev20220815165331 Requires-Python >=3.7,<3.10; 2.6.1.dev20220821180815 Requires-Python >=3.7,<3.10; 2.6.1.dev20220822182128 Requires-Python >=3.7,<3.10; 2.6.1.dev20220823161652 Requires-Python >=3.7,<3.10; 2.6.1.dev20220825105734 Requires-Python >=3.7,<3.10; 2.6.1.dev20220825205213 Requires-Python >=3.7,<3.10; 2.6.1.dev20220826024553 Requires-Python >=3.7,<3.10; 2.6.1.dev20220830162129 Requires-Python >=3.7,<3.10; 2.6.1.dev20220902195259 Requires-Python >=3.7,<3.10; 2.6.1.dev20220903083523 Requires-Python >=3.7,<3.10; 2.6.1.dev20220903102434 Requires-Python >=3.7,<3.10; 2.6.1.dev20220903134143 Requires-Python >=3.7,<3.10; 2.6.1.dev20220906165036 Requires-Python >=3.7,<3.10; 2.6.1.dev20220909142012 Requires-Python >=3.7,<3.10; 2.6.1.dev20220912080347 Requires-Python >=3.7,<3.10; 2.6.2.dev20220914075531 Requires-Python >=3.7,<3.10; 2.6.2.dev20220915143259 Requires-Python >=3.7,<3.10; 2.6.2.dev20220930024147 Requires-Python >=3.7,<3.10; 2.6.2.dev20220930084520 Requires-Python >=3.7,<3.10; 2.6.2.dev20221004063301 Requires-Python >=3.7,<3.10\u001b[0m\u001b[31m\n",
            "\u001b[0m\u001b[31mERROR: Could not find a version that satisfies the requirement pywin32==307 (from versions: none)\u001b[0m\u001b[31m\n",
            "\u001b[0m\u001b[31mERROR: No matching distribution found for pywin32==307\u001b[0m\u001b[31m\n",
            "\u001b[0m"
          ]
        }
      ]
    },
    {
      "cell_type": "code",
      "source": [
        "!pip show lime"
      ],
      "metadata": {
        "colab": {
          "base_uri": "https://localhost:8080/"
        },
        "id": "J_7UH4bFqP5r",
        "outputId": "2b6d8b22-c80d-4f3f-85ff-cef70b2ce56d"
      },
      "execution_count": null,
      "outputs": [
        {
          "output_type": "stream",
          "name": "stdout",
          "text": [
            "\u001b[33mWARNING: Package(s) not found: lime\u001b[0m\u001b[33m\n",
            "\u001b[0m"
          ]
        }
      ]
    },
    {
      "cell_type": "markdown",
      "metadata": {
        "id": "DkwmvnMVQNHA"
      },
      "source": [
        "# Carregamento Pacotes\n"
      ]
    },
    {
      "cell_type": "code",
      "execution_count": null,
      "metadata": {
        "colab": {
          "base_uri": "https://localhost:8080/"
        },
        "id": "Xi8EXxxhQF56",
        "outputId": "f05acd66-f36d-4b61-a705-7d90e7fd1dc6"
      },
      "outputs": [
        {
          "output_type": "stream",
          "name": "stdout",
          "text": [
            "2.5.0+cu121\n",
            "Executando em: cpu\n"
          ]
        }
      ],
      "source": [
        "import os\n",
        "import zipfile\n",
        "\n",
        "import numpy as np\n",
        "import matplotlib.pyplot as plt\n",
        "\n",
        "import optuna\n",
        "\n",
        "import torch\n",
        "import torch.nn as nn\n",
        "import torch.optim as optim\n",
        "from torch.utils.data import Dataset, DataLoader, random_split\n",
        "\n",
        "print(torch.__version__)\n",
        "device = torch.device(\"cuda\" if torch.cuda.is_available() else \"cpu\")\n",
        "print(f\"Executando em: {device}\")"
      ]
    },
    {
      "cell_type": "code",
      "execution_count": null,
      "metadata": {
        "id": "TvO3H93bUfLI"
      },
      "outputs": [],
      "source": [
        "torch.manual_seed(0)\n",
        "torch.cuda.manual_seed_all(0)\n",
        "np.random.seed(0)"
      ]
    },
    {
      "cell_type": "markdown",
      "metadata": {
        "id": "NzF5Qw6YQAT7"
      },
      "source": [
        "# Carregamento do Conjunto de Dados (QM9)\n",
        "\n",
        "## Dropbox link (Download)"
      ]
    },
    {
      "cell_type": "code",
      "execution_count": null,
      "metadata": {
        "colab": {
          "base_uri": "https://localhost:8080/"
        },
        "id": "_x7g1Ungd-W6",
        "outputId": "c210c9d8-ae75-47c7-bc73-dac246d20c8a"
      },
      "outputs": [
        {
          "output_type": "stream",
          "name": "stdout",
          "text": [
            "Dados salvos em: QM9Data\n"
          ]
        }
      ],
      "source": [
        "import os\n",
        "import zipfile\n",
        "import requests\n",
        "\n",
        "# URL do arquivo no Dropbox com `?dl=1` para forçar o download direto\n",
        "url = \"https://www.dropbox.com/scl/fi/lbs52lc0av3eqi9zws3wp/QM9.zip?rlkey=925vtuebvf7kf9ifq9143d6az&dl=1\"\n",
        "zip_path = \"QM9.zip\"\n",
        "qm9_folder = \"QM9Data\"\n",
        "\n",
        "# Baixar o arquivo se ele não existir localmente\n",
        "if not os.path.exists(zip_path):\n",
        "    print(\"Baixando o arquivo QM9.zip...\")\n",
        "    response = requests.get(url, stream=True)\n",
        "    with open(zip_path, \"wb\") as f:\n",
        "        for chunk in response.iter_content(chunk_size=8192):\n",
        "            f.write(chunk)\n",
        "    print(\"Download concluído.\")\n",
        "\n",
        "# Criar a pasta de extração, se necessário\n",
        "if not os.path.exists(qm9_folder):\n",
        "    os.makedirs(qm9_folder)\n",
        "\n",
        "# Extrair o conteúdo do arquivo zip\n",
        "with zipfile.ZipFile(zip_path, 'r') as zip_ref:\n",
        "    zip_ref.extractall(qm9_folder)\n",
        "\n",
        "print(f\"Dados salvos em: {qm9_folder}\")\n"
      ]
    },
    {
      "cell_type": "markdown",
      "metadata": {
        "id": "qBC_6bG1ytHM"
      },
      "source": [
        "# Extração e Preparação dos Dados\n"
      ]
    },
    {
      "cell_type": "code",
      "execution_count": null,
      "metadata": {
        "colab": {
          "base_uri": "https://localhost:8080/"
        },
        "id": "vM90JwWM0EMx",
        "outputId": "9e44488b-a0b3-49f8-ba7f-2dd8215cfd2a"
      },
      "outputs": [
        {
          "output_type": "stream",
          "name": "stdout",
          "text": [
            "16\n",
            "\n",
            "gdb 75700\t2.29421\t2.10153\t1.19281\t1.5927\t71.76\t-0.2569\t-0.021\t0.2359\t1002.3496\t0.125963\t-434.09168\t-434.083979\t-434.083035\t-434.123886\t28.894\t\n",
            "\n",
            "C\t 0.0082723652\t 1.4385040241\t 0.0216304465\t-0.368015\n",
            "\n",
            "N\t-0.0080626856\t-0.0080486441\t-0.0143324088\t-0.128223\n",
            "\n",
            "C\t-0.0025221437\t-0.7715337629\t-1.1909538518\t 0.388126\n",
            "\n",
            "N\t 0.0263387403\t-0.3906951642\t-2.3959782595\t-0.532716\n",
            "\n",
            "N\t-0.0435539427\t-2.1606959554\t-0.8372214133\t-0.113662\n",
            "\n",
            "C\t 1.1983737221\t-2.6000297832\t-0.1756188576\t-0.242408\n",
            "\n",
            "C\t 0.0113061798\t-2.2080435108\t 0.6349537932\t-0.162296\n",
            "\n",
            "C\t-0.0270216144\t-0.7926214222\t 1.1346516211\t 0.42506\n",
            "\n",
            "O\t-0.0955434019\t-0.3870203764\t 2.2694066024\t-0.371241\n",
            "\n",
            "H\t 0.9216696532\t 1.8340504971\t-0.4354195835\t 0.141444\n",
            "\n",
            "H\t-0.8595819793\t 1.8482562075\t-0.5050019382\t 0.146272\n",
            "\n",
            "H\t-0.0319704226\t 1.7357251605\t 1.0706204257\t 0.173704\n",
            "\n",
            "H\t 0.0660884133\t 0.6248858104\t-2.4690959743\t 0.222945\n",
            "\n",
            "H\t 1.4244948343\t-3.6539669067\t-0.2978095694\t 0.14517\n",
            "\n",
            "H\t 2.0547706395\t-1.9318987311\t-0.1997156332\t 0.140887\n",
            "\n",
            "H\t-0.5885282877\t-2.9489560327\t 1.1502816209\t 0.134952\n",
            "\n",
            "114.8971\t156.0344\t181.4536\t222.4783\t289.6406\t342.4776\t383.9108\t531.6825\t606.7765\t654.8158\t726.4123\t743.2719\t775.8113\t819.1963\t835.1968\t863.3752\t974.575\t988.4193\t1017.3039\t1068.8922\t1111.2543\t1149.8109\t1156.9358\t1165.9378\t1212.256\t1266.9288\t1299.8348\t1342.6807\t1411.3007\t1454.1074\t1492.7876\t1505.1204\t1513.6903\t1754.5533\t1844.5096\t3034.3494\t3095.271\t3121.9429\t3150.0722\t3190.3306\t3218.0495\t3502.8963\n",
            "\n",
            "CN1C(=N)N2CC2C1=O\tCN1[C]([NH])N2C[C@H]2C1=O\t\n",
            "\n",
            "InChI=1S/C5H7N3O/c1-7-4(9)3-2-8(3)5(7)6/h3,6H,2H2,1H3\tInChI=1S/C5H7N3O/c1-7-4(9)3-2-8(3)5(7)6/h3,6H,2H2,1H3/t3-,8?/m0/s1\n",
            "\n"
          ]
        }
      ],
      "source": [
        "with open(qm9_folder+\"/dsgdb9nsd_075700.xyz\") as file:\n",
        "    for line in file:\n",
        "        print(line)"
      ]
    },
    {
      "cell_type": "code",
      "execution_count": null,
      "metadata": {
        "id": "tVfUvjv1y-IF"
      },
      "outputs": [],
      "source": [
        "def load_qm9_xyz(file_path):\n",
        "    \"\"\"Load a single QM9.xyz file.\"\"\"\n",
        "    with open(file_path, 'r') as f:\n",
        "        # Number of atoms\n",
        "        natoms = int(f.readline())\n",
        "        # Properties are in the second line\n",
        "        properties = list(map(float, f.readline().split()[2:]))\n",
        "        # Read atomic coordinates and types\n",
        "        atoms = []\n",
        "        coordinates = []\n",
        "        # print(properties)\n",
        "        for num_line, line in enumerate(f):\n",
        "            # print(num_line, line)\n",
        "            if num_line >= 0 and num_line < natoms:\n",
        "                info = line.replace(\"*^\",\"e\").split()\n",
        "                atoms.append(info[0])\n",
        "                coordinates.append(list(map(float, info[1:-1])))\n",
        "\n",
        "    return {\n",
        "        \"natoms\": natoms,\n",
        "        \"atoms\": atoms,\n",
        "        \"coordinates\": np.array(coordinates),\n",
        "        \"properties\": properties\n",
        "    }\n",
        "\n",
        "def load_qm9_dataset(directory_path, list_mols=[]):\n",
        "    \"\"\"Load the entire QM9 dataset from a directory containing .xyz files.\"\"\"\n",
        "    X = []\n",
        "    Y = []\n",
        "    S = []\n",
        "    for file_name in os.listdir(directory_path):\n",
        "        if file_name.endswith(\".xyz\"):\n",
        "            file_path = os.path.join(directory_path, file_name)\n",
        "            molecule_data = load_qm9_xyz(file_path)\n",
        "            if molecule_data['natoms'] in list_mols or len(list_mols)==0:\n",
        "              X.append([molecule_data['atoms'], molecule_data['coordinates']])\n",
        "              Y.append(molecule_data['properties'])\n",
        "              S.append(molecule_data['natoms'])\n",
        "    return X, Y, S"
      ]
    },
    {
      "cell_type": "code",
      "execution_count": null,
      "metadata": {
        "colab": {
          "base_uri": "https://localhost:8080/"
        },
        "id": "YZt3vxtC8ZsX",
        "outputId": "ba2d10e7-65a6-4d82-e732-510c1a2ef152"
      },
      "outputs": [
        {
          "output_type": "stream",
          "name": "stdout",
          "text": [
            "Numero Moléculas: 133885\n",
            "Primeira Molécula: [['O', 'C', 'C', 'O', 'C', 'C', 'O', 'C', 'C', 'H', 'H', 'H', 'H', 'H', 'H'], array([[ 0.02357102,  0.92573576,  1.58429548],\n",
            "       [-0.02585037,  1.4160204 ,  0.47549997],\n",
            "       [-1.37654544,  1.86495537, -0.08391578],\n",
            "       [-1.43539921,  2.01547325, -1.47904061],\n",
            "       [-0.91772959,  3.22378564, -1.97349621],\n",
            "       [ 0.60376273,  3.28073209, -2.11732547],\n",
            "       [ 1.09977905,  4.11315065, -2.84759721],\n",
            "       [ 1.48628276,  2.33617496, -1.38128172],\n",
            "       [ 1.22673904,  1.56748784, -0.31245123],\n",
            "       [-2.10286898,  1.09701515,  0.19586179],\n",
            "       [-1.66530212,  2.7938882 ,  0.43591959],\n",
            "       [-1.33327147,  3.37596609, -2.97335656],\n",
            "       [-1.23063074,  4.08149739, -1.35466783],\n",
            "       [ 2.5047307 ,  2.37056364, -1.76048904],\n",
            "       [ 2.04452154,  1.00756912,  0.1346948 ]])]\n",
            "Propriedades Mol[0]: [ 3.14044000e+00  1.31863000e+00  9.79600000e-01  5.88700000e-01\n",
            "  7.08500000e+01 -2.53700000e-01 -1.01500000e-01  1.52200000e-01\n",
            "  1.13488610e+03  1.12511000e-01 -4.57788313e+02 -4.57780513e+02\n",
            " -4.57779568e+02 -4.57821825e+02  2.83850000e+01]\n"
          ]
        }
      ],
      "source": [
        "# Loading\n",
        "# segundo parâmetro: lista com o tamanho das moléculas desejadas | [] para selecionar todas]\n",
        "XYZ, Y, natoms = load_qm9_dataset(qm9_folder)\n",
        "Y = np.array(Y)\n",
        "\n",
        "samples =  len(XYZ)\n",
        "print(f\"Numero Moléculas: {samples}\")\n",
        "print(f\"Primeira Molécula: {XYZ[0]}\")\n",
        "print(f\"Propriedades Mol[0]: {Y[0]}\")\n"
      ]
    },
    {
      "cell_type": "code",
      "execution_count": null,
      "metadata": {
        "colab": {
          "base_uri": "https://localhost:8080/"
        },
        "id": "PR3MuNsMPf1q",
        "outputId": "15d2cdf0-8e0c-4599-e045-50ffd9a3368d"
      },
      "outputs": [
        {
          "output_type": "stream",
          "name": "stdout",
          "text": [
            "Menor Molécula: 3\n",
            "Maior Molécula: 29\n"
          ]
        }
      ],
      "source": [
        "natoms = np.array(natoms)\n",
        "min_atoms = np.min(natoms)\n",
        "max_atoms = np.max(natoms)\n",
        "print(f\"Menor Molécula: {min_atoms}\")\n",
        "print(f\"Maior Molécula: {max_atoms}\")"
      ]
    },
    {
      "cell_type": "markdown",
      "metadata": {
        "id": "fOAEWkqyJFDm"
      },
      "source": [
        "# Geração dos Descritores (DScribe)\n",
        "\n",
        "- Matriz de Coulomb (CM)\n",
        "- Atom-centered Symmetry Functions (ACSF)\n",
        "- Smooth Overlap of Atomic Positions (SOAP)\n",
        "- Many-body Tensor Representation (MBTR)\n"
      ]
    },
    {
      "cell_type": "code",
      "execution_count": null,
      "metadata": {
        "id": "4c0c2fNHJPv7"
      },
      "outputs": [],
      "source": [
        "from ase import Atoms"
      ]
    },
    {
      "cell_type": "code",
      "execution_count": null,
      "metadata": {
        "id": "67iWY6ShJSut"
      },
      "outputs": [],
      "source": [
        "from dscribe.descriptors import CoulombMatrix, ACSF, SOAP, MBTR\n",
        "\n",
        "mols = [Atoms(positions=coordinates, symbols=symbols) for (symbols, coordinates) in XYZ]\n",
        "\n",
        "# informa o tipo de descritor selecionado\n",
        "descriptor = 'CM' # CM, SOAP, MBTR, ACSF"
      ]
    },
    {
      "cell_type": "markdown",
      "metadata": {
        "id": "Y7MLaAetQMI9"
      },
      "source": [
        "## Matriz de Coulomb (CM)"
      ]
    },
    {
      "cell_type": "code",
      "execution_count": null,
      "metadata": {
        "colab": {
          "base_uri": "https://localhost:8080/"
        },
        "id": "zbRvJiJ9Kz8i",
        "outputId": "89dd05e3-c29b-411b-f92a-da7fce33cfe0"
      },
      "outputs": [
        {
          "output_type": "stream",
          "name": "stdout",
          "text": [
            "(133885, 29)\n"
          ]
        }
      ],
      "source": [
        "if descriptor == 'CM':\n",
        "    cm = CoulombMatrix(n_atoms_max=max_atoms, permutation=\"eigenspectrum\")\n",
        "    X = cm.create(mols)\n",
        "    print(X.shape)"
      ]
    },
    {
      "cell_type": "markdown",
      "metadata": {
        "id": "nNKSPxoDRiGH"
      },
      "source": [
        "## Atom-centered Symmetry Functions (ACSF)\n",
        "\n",
        "---\n",
        "\n"
      ]
    },
    {
      "cell_type": "code",
      "execution_count": null,
      "metadata": {
        "id": "HHNkY471RpTA"
      },
      "outputs": [],
      "source": [
        "if descriptor == 'ACSF':\n",
        "    acsf = ACSF(\n",
        "        species=[\"H\", \"C\", \"O\", \"N\", \"F\"],\n",
        "        r_cut=6.0,\n",
        "        g2_params=[[1, 1], [1, 2], [1, 3]],\n",
        "        g4_params=[[1, 1, 1], [1, 2, 1], [1, 1, -1], [1, 2, -1]],\n",
        "    )\n",
        "    centers = samples*[[0]]\n",
        "    X = acsf.create(mols, centers).reshape([samples,-1])\n",
        "    print(X.shape)"
      ]
    },
    {
      "cell_type": "markdown",
      "metadata": {
        "id": "LV-KUPnsQQlc"
      },
      "source": [
        "## Smooth Overlap of Atomic Positions (SOAP)"
      ]
    },
    {
      "cell_type": "code",
      "execution_count": null,
      "metadata": {
        "id": "eyCdXhkRK3jh"
      },
      "outputs": [],
      "source": [
        "if descriptor == 'SOAP':\n",
        "    soap = SOAP(\n",
        "        species=[\"H\", \"C\", \"O\", \"N\", \"F\"],\n",
        "        periodic=False,\n",
        "        r_cut=6.0,\n",
        "        n_max=8,\n",
        "        l_max=6,\n",
        "    )\n",
        "\n",
        "    centers = samples*[[0]]\n",
        "    X = soap.create(mols, centers).reshape([samples, -1])\n",
        "    print(X.shape)"
      ]
    },
    {
      "cell_type": "markdown",
      "metadata": {
        "id": "472T-DiJRMy8"
      },
      "source": [
        "## Many-body Tensor Representation (MBTR)"
      ]
    },
    {
      "cell_type": "code",
      "execution_count": null,
      "metadata": {
        "id": "KQB8RbDCRWSi"
      },
      "outputs": [],
      "source": [
        "if descriptor == 'MBTR':\n",
        "  mbtr = MBTR(\n",
        "      species=[\"H\", \"C\", \"O\", \"N\", \"F\"],\n",
        "      geometry={\"function\": \"distance\"},\n",
        "      grid={\"min\": 0.4, \"max\": 8, \"sigma\": 0.1, \"n\": 100},\n",
        "      periodic=False,\n",
        "      sparse=False,\n",
        "      normalization=\"l2\",\n",
        "  )\n",
        "\n",
        "  X = mbtr.create(mols)\n",
        "  print(X.shape)"
      ]
    },
    {
      "cell_type": "markdown",
      "metadata": {
        "id": "KLKClLjrygKn"
      },
      "source": [
        "# Preparação dos Dados\n"
      ]
    },
    {
      "cell_type": "code",
      "execution_count": null,
      "metadata": {
        "id": "CEAv1ZJmU8sW"
      },
      "outputs": [],
      "source": [
        "from sklearn.utils import shuffle\n",
        "X, Y = shuffle(X, Y, random_state=0)"
      ]
    },
    {
      "cell_type": "markdown",
      "metadata": {
        "id": "LnrSdudeeBgB"
      },
      "source": [
        "**Q9 Dataset: Propriedades**\n",
        "\n",
        "0. Rotational constant A: GHz\n",
        "1. Rotational constant B: GHz\n",
        "2. Rotational constant C: GHz\n",
        "3. Dipole moment (μ): Debye (D)\n",
        "4. Isotropic polarizability (α): atomic units (a.u.)\n",
        "5. Energy of HOMO (ϵHOMO): Hartree (Ha)\n",
        "6. Energy of LUMO (ϵLUMO): Hartree (Ha)\n",
        "7. Gap (ϵgap): Hartree (Ha)\n",
        "8. Electronic spatial extent: atomic units (a.u.)\n",
        "9. Zero point vibrational energy (zpve): Hartree (Ha)\n",
        "10. Internal energy at 0 K (U0): Hartree (Ha)\n",
        "11. Internal energy at 298.15 K (U): Hartree (Ha)\n",
        "12. Enthalpy at 298.15 K (H): Hartree (Ha)\n",
        "13. Free energy at 298.15 K (G): Hartree (Ha)\n",
        "15. Heat capacity at 298.15 K (Cv): cal/mol·K\n",
        "\n"
      ]
    },
    {
      "cell_type": "code",
      "execution_count": null,
      "metadata": {
        "colab": {
          "base_uri": "https://localhost:8080/",
          "height": 472
        },
        "id": "0BG5b8VO1A7d",
        "outputId": "02c17519-4f58-4418-bed6-a92e476d0010"
      },
      "outputs": [
        {
          "output_type": "display_data",
          "data": {
            "text/plain": [
              "<Figure size 640x480 with 1 Axes>"
            ],
            "image/png": "[encoded data removed]"
          },
          "metadata": {}
        }
      ],
      "source": [
        "# Seleção da propriedade alvo\n",
        "att_alvo = 10 # 15 propriedades [0-14]\n",
        "Ys = Y[:,att_alvo].reshape(-1,1)\n",
        "plt.hist(Y[:,att_alvo], bins=50, edgecolor='black', alpha=0.7)\n",
        "plt.xlabel('Propriedade')\n",
        "plt.ylabel('Frequencia')\n",
        "plt.title('Distribuição da Propriedade Selecionada')\n",
        "plt.grid(True)\n",
        "plt.show()\n"
      ]
    },
    {
      "cell_type": "code",
      "execution_count": null,
      "metadata": {
        "id": "eryeTB6JSxGP"
      },
      "outputs": [],
      "source": [
        "# Normalização, Split, DataLoader\n",
        "from sklearn.preprocessing import StandardScaler\n",
        "scaler = StandardScaler()\n",
        "Xn = scaler.fit_transform(X)"
      ]
    },
    {
      "cell_type": "code",
      "execution_count": null,
      "metadata": {
        "id": "m9t3hx_-VCtt"
      },
      "outputs": [],
      "source": [
        "class Data(Dataset):\n",
        "    def __init__(self, data, targets):\n",
        "        self.data = data\n",
        "        self.targets = targets\n",
        "\n",
        "    def __len__(self):\n",
        "        return len(self.data)\n",
        "\n",
        "    def __getitem__(self, idx):\n",
        "        return torch.from_numpy(self.data[idx]).float(), torch.from_numpy(self.targets[idx]).float()\n",
        "\n",
        "dataset = Data(Xn,Ys)"
      ]
    },
    {
      "cell_type": "code",
      "execution_count": null,
      "metadata": {
        "id": "Wq6c43ueHRvP"
      },
      "outputs": [],
      "source": [
        "batch_size = 256\n",
        "\n",
        "train_len = int(0.8 * len(dataset))\n",
        "val_len = int(0.1 * len(dataset))\n",
        "test_len = len(dataset) - train_len - val_len\n",
        "\n",
        "train_dataset, val_dataset, test_dataset = random_split(dataset, [train_len, val_len, test_len])\n",
        "\n",
        "train_loader = DataLoader(train_dataset, batch_size=batch_size, shuffle=True)\n",
        "val_loader = DataLoader(val_dataset, batch_size=batch_size, shuffle=False)\n",
        "test_loader = DataLoader(test_dataset, batch_size=batch_size, shuffle=False)"
      ]
    },
    {
      "cell_type": "markdown",
      "metadata": {
        "id": "KxWBYScQSZL9"
      },
      "source": [
        "# Rede Neural\n"
      ]
    },
    {
      "cell_type": "markdown",
      "metadata": {
        "id": "35CD53rZSt-C"
      },
      "source": [
        "## Modelo (Pytorch)"
      ]
    },
    {
      "cell_type": "code",
      "execution_count": null,
      "metadata": {
        "id": "OT-v1W3CA5TF"
      },
      "outputs": [],
      "source": [
        "class MLP(nn.Module):\n",
        "    def __init__(self, input_dim, output_dim, layers, lr=0.001):\n",
        "        super(MLP, self).__init__()\n",
        "        all_layers = []\n",
        "        prev_dim = input_dim\n",
        "\n",
        "        # Camadas ocultas\n",
        "        for layer_dim in layers:\n",
        "            all_layers.append(nn.Linear(prev_dim, layer_dim))\n",
        "            all_layers.append(nn.ReLU())\n",
        "            prev_dim = layer_dim\n",
        "\n",
        "        # Camada de saída (ativação linear - regressão)\n",
        "        all_layers.append(nn.Linear(prev_dim, output_dim))\n",
        "\n",
        "        # Combinando as camadas\n",
        "        self.layers = nn.Sequential(*all_layers)\n",
        "\n",
        "        self.criterion = nn.L1Loss() #nn.MSELoss()\n",
        "        self.optimizer = optim.Adam(self.parameters(), lr=lr)\n",
        "\n",
        "    def forward(self, x):\n",
        "        return self.layers(x)\n",
        "\n",
        "    def train_model(self, dataloader):\n",
        "        self.train()\n",
        "        total_loss = 0\n",
        "        for batch_x, batch_y in dataloader:\n",
        "            batch_x, batch_y = batch_x.to(device), batch_y.to(device)\n",
        "            self.optimizer.zero_grad()\n",
        "            outputs = self(batch_x)\n",
        "            loss = self.criterion(outputs, batch_y)\n",
        "            loss.backward()\n",
        "            self.optimizer.step()\n",
        "            total_loss += loss.item()\n",
        "        return total_loss / len(dataloader)\n",
        "\n",
        "    def validate_model(self, dataloader):\n",
        "        self.eval()\n",
        "        total_loss = 0\n",
        "        with torch.no_grad():\n",
        "            for batch_x, batch_y in dataloader:\n",
        "                batch_x, batch_y = batch_x.to(device), batch_y.to(device)\n",
        "                outputs = self(batch_x)\n",
        "                loss = self.criterion(outputs, batch_y)\n",
        "                total_loss += loss.item()\n",
        "        return total_loss / len(dataloader)\n",
        "\n",
        "    def test_model(self, dataloader):\n",
        "        self.eval()\n",
        "        predictions = []\n",
        "        targets = []\n",
        "        total_loss = 0\n",
        "        with torch.no_grad():\n",
        "            for batch_x, batch_y in dataloader:\n",
        "                batch_x, batch_y = batch_x.to(device), batch_y.to(device)\n",
        "                outputs = self(batch_x)\n",
        "                loss = self.criterion(outputs, batch_y)\n",
        "                total_loss += loss.item()\n",
        "                predictions.extend(outputs.cpu().tolist())\n",
        "                targets.extend(batch_y.cpu().tolist())\n",
        "        return predictions, targets, total_loss / len(dataloader)\n",
        "\n",
        "    def predict(self, dataloader):\n",
        "        self.eval()\n",
        "        predictions = []\n",
        "        with torch.no_grad():\n",
        "            for batch_x, _ in dataloader:\n",
        "                batch_x = batch_x.to(device)\n",
        "                outputs = self(batch_x)\n",
        "                predictions.extend(outputs.cpu().tolist())\n",
        "        return predictions"
      ]
    },
    {
      "cell_type": "code",
      "execution_count": null,
      "metadata": {
        "id": "MBJgmmiEtc84"
      },
      "outputs": [],
      "source": [
        "class EarlyStopping:\n",
        "    def __init__(self, patience=5, verbose=False, delta=0):\n",
        "        \"\"\"\n",
        "        Args:\n",
        "            patience (int): How long to wait after last time validation loss improved.\n",
        "            verbose (bool): If True, prints a message for each validation loss improvement.\n",
        "            delta (float): Minimum change in the monitored quantity to qualify as an improvement.\n",
        "        \"\"\"\n",
        "        self.patience = patience\n",
        "        self.verbose = verbose\n",
        "        self.counter = 0\n",
        "        self.best_score = None\n",
        "        self.early_stop = False\n",
        "        self.val_loss_min = float('inf')\n",
        "        self.delta = delta\n",
        "\n",
        "    def __call__(self, val_loss, model):\n",
        "\n",
        "        score = -val_loss\n",
        "\n",
        "        if self.best_score is None:\n",
        "            self.best_score = score\n",
        "            self.save_checkpoint(val_loss, model)\n",
        "        elif score < self.best_score + self.delta:\n",
        "            self.counter += 1\n",
        "            if self.verbose:\n",
        "                print(f'EarlyStopping counter: {self.counter} out of {self.patience}')\n",
        "            if self.counter >= self.patience:\n",
        "                self.early_stop = True\n",
        "        else:\n",
        "            self.best_score = score\n",
        "            self.save_checkpoint(val_loss, model)\n",
        "            self.counter = 0\n",
        "\n",
        "    def save_checkpoint(self, val_loss, model):\n",
        "        '''Saves model when validation loss decreases.'''\n",
        "        if self.verbose:\n",
        "            print(f'Validation loss decreased ({self.val_loss_min:.6f} --> {val_loss:.6f}).  Saving model ...')\n",
        "        torch.save(model.state_dict(), 'checkpoint.pt')\n",
        "        self.val_loss_min = val_loss\n"
      ]
    },
    {
      "cell_type": "markdown",
      "metadata": {
        "id": "9I3h9Lo95YGY"
      },
      "source": [
        "## Otimizando os Hiperparâmetros"
      ]
    },
    {
      "cell_type": "markdown",
      "metadata": {
        "id": "UiHEvNrPo5Bu"
      },
      "source": [
        "### Função Objetivo Optuna"
      ]
    },
    {
      "cell_type": "code",
      "execution_count": null,
      "metadata": {
        "id": "eJPoq6IV5bc2"
      },
      "outputs": [],
      "source": [
        "def objective(trial):\n",
        "    early_stopping = EarlyStopping(patience=7, verbose=False)\n",
        "    # lr = trial.suggest_float('lr', 1e-5, 1e-1, log=True)\n",
        "    lr = 0.001\n",
        "    n_layers = trial.suggest_int('n_layers', 1, 3)\n",
        "    layers = []\n",
        "    for i in range(n_layers):\n",
        "        layers.append(trial.suggest_int(f'n_units_l{i+1}', 20, 400, 20))\n",
        "\n",
        "    model = MLP(input_dim=X.shape[1], output_dim=1, layers=layers, lr=lr).to(device)\n",
        "    optimizer = torch.optim.Adam(model.parameters(), lr=lr)\n",
        "    for epoch in range(2000): # máximo épocas\n",
        "        train_loss = model.train_model(train_loader)\n",
        "        val_loss = model.validate_model(val_loader)\n",
        "        early_stopping(val_loss, model)\n",
        "        if early_stopping.early_stop:\n",
        "            break\n",
        "    return val_loss\n"
      ]
    },
    {
      "cell_type": "markdown",
      "metadata": {
        "id": "avslFaZHo8c5"
      },
      "source": [
        "### Otimização\n",
        "\n",
        "**Cuidado:** O custo computacional pode ser elevado"
      ]
    },
    {
      "cell_type": "code",
      "execution_count": null,
      "metadata": {
        "colab": {
          "base_uri": "https://localhost:8080/"
        },
        "id": "eZpIsU-Go82f",
        "outputId": "f19b0ad3-4696-4f7d-bd7a-83a7b344f96e"
      },
      "outputs": [
        {
          "output_type": "stream",
          "name": "stderr",
          "text": [
            "[I 2024-11-08 15:53:57,477] A new study created in memory with name: no-name-69017d03-d630-445a-b0ec-61069c1bc29f\n",
            "<ipython-input-77-1ab0a2b2131c>:8: FutureWarning: suggest_int() got {'step'} as positional arguments but they were expected to be given as keyword arguments.\n",
            "  layers.append(trial.suggest_int(f'n_units_l{i+1}', 20, 400, 20))\n",
            "[I 2024-11-08 15:56:39,989] Trial 0 finished with value: 1.187651479019309 and parameters: {'n_layers': 3, 'n_units_l1': 80, 'n_units_l2': 120, 'n_units_l3': 260}. Best is trial 0 with value: 1.187651479019309.\n",
            "[I 2024-11-08 16:00:50,362] Trial 1 finished with value: 0.9806900361798844 and parameters: {'n_layers': 3, 'n_units_l1': 240, 'n_units_l2': 240, 'n_units_l3': 100}. Best is trial 1 with value: 0.9806900361798844.\n",
            "[I 2024-11-08 16:03:04,663] Trial 2 finished with value: 0.3338164282294939 and parameters: {'n_layers': 2, 'n_units_l1': 120, 'n_units_l2': 20}. Best is trial 2 with value: 0.3338164282294939.\n",
            "[I 2024-11-08 16:05:20,832] Trial 3 finished with value: 0.2999730846791897 and parameters: {'n_layers': 1, 'n_units_l1': 400}. Best is trial 3 with value: 0.2999730846791897.\n",
            "[I 2024-11-08 16:07:18,545] Trial 4 finished with value: 0.2119699739060312 and parameters: {'n_layers': 1, 'n_units_l1': 400}. Best is trial 4 with value: 0.2119699739060312.\n",
            "[I 2024-11-08 16:11:00,871] Trial 5 finished with value: 2.008886586945012 and parameters: {'n_layers': 3, 'n_units_l1': 220, 'n_units_l2': 200, 'n_units_l3': 240}. Best is trial 4 with value: 0.2119699739060312.\n",
            "[I 2024-11-08 16:12:58,515] Trial 6 finished with value: 0.7586486328322932 and parameters: {'n_layers': 3, 'n_units_l1': 140, 'n_units_l2': 160, 'n_units_l3': 100}. Best is trial 4 with value: 0.2119699739060312.\n",
            "[I 2024-11-08 16:19:46,195] Trial 7 finished with value: 0.23412154586809986 and parameters: {'n_layers': 1, 'n_units_l1': 40}. Best is trial 4 with value: 0.2119699739060312.\n",
            "[I 2024-11-08 16:24:01,545] Trial 8 finished with value: 0.17417147952430653 and parameters: {'n_layers': 1, 'n_units_l1': 100}. Best is trial 8 with value: 0.17417147952430653.\n",
            "[I 2024-11-08 16:25:40,952] Trial 9 finished with value: 0.4751831079429051 and parameters: {'n_layers': 2, 'n_units_l1': 100, 'n_units_l2': 100}. Best is trial 8 with value: 0.17417147952430653.\n"
          ]
        },
        {
          "output_type": "stream",
          "name": "stdout",
          "text": [
            "Número de tentativas:  10\n",
            "Melhor Resultado:\n",
            "MAE:  0.17417147952430653\n",
            "Hiperparâmetros: \n",
            "    n_layers: 1\n",
            "    n_units_l1: 100\n"
          ]
        }
      ],
      "source": [
        "study = optuna.create_study(direction='minimize')\n",
        "study.optimize(objective, n_trials=10)\n",
        "\n",
        "print('Número de tentativas: ', len(study.trials))\n",
        "print('Melhor Resultado:')\n",
        "trial = study.best_trial\n",
        "\n",
        "print('MAE: ', trial.value)\n",
        "print('Hiperparâmetros: ')\n",
        "for key, value in trial.params.items():\n",
        "    print(f'    {key}: {value}')\n"
      ]
    },
    {
      "cell_type": "markdown",
      "metadata": {
        "id": "CTcKgcEZStxX"
      },
      "source": [
        "## Treinamento"
      ]
    },
    {
      "cell_type": "code",
      "execution_count": null,
      "metadata": {
        "id": "AVDVjaFSqpXY",
        "colab": {
          "base_uri": "https://localhost:8080/",
          "height": 719
        },
        "outputId": "305a3817-6cb5-4417-f7b7-dc662a9c3d67"
      },
      "outputs": [
        {
          "output_type": "stream",
          "name": "stdout",
          "text": [
            "Época 10/1000, Train Loss: 6.1888, Validation Loss: 5.1392\n",
            "Época 20/1000, Train Loss: 0.3586, Validation Loss: 0.3761\n",
            "Época 30/1000, Train Loss: 0.1971, Validation Loss: 0.2137\n",
            "Época 40/1000, Train Loss: 0.1654, Validation Loss: 0.1568\n",
            "Época 50/1000, Train Loss: 0.1549, Validation Loss: 0.1757\n",
            "Época 60/1000, Train Loss: 0.1573, Validation Loss: 0.1798\n",
            "Época 70/1000, Train Loss: 0.1554, Validation Loss: 0.1656\n",
            "Época 80/1000, Train Loss: 0.1566, Validation Loss: 0.1382\n",
            "Época 90/1000, Train Loss: 0.1538, Validation Loss: 0.1433\n",
            "Early stopping\n"
          ]
        },
        {
          "output_type": "display_data",
          "data": {
            "text/plain": [
              "<Figure size 600x600 with 1 Axes>"
            ],
            "image/png": "[encoded data removed]"
          },
          "metadata": {}
        }
      ],
      "source": [
        "num_epochs = 1000\n",
        "learning_rate = 0.001\n",
        "# Definição do Modelo\n",
        "model = MLP(input_dim=X.shape[1], output_dim=1, layers=[180], lr=learning_rate).to(device)\n",
        "\n",
        "# Early Stop\n",
        "early_stopping = EarlyStopping(patience=20, verbose=False)\n",
        "\n",
        "tloss = []\n",
        "vloss = []\n",
        "for epoch in range(num_epochs):\n",
        "    train_loss = model.train_model(train_loader)\n",
        "    val_loss = model.validate_model(val_loader)\n",
        "    tloss.append(train_loss)\n",
        "    vloss.append(val_loss)\n",
        "    if (epoch+1) % 10 == 0:\n",
        "        print(f\"Época {epoch+1}/{num_epochs}, Train Loss: {train_loss:.4f}, Validation Loss: {val_loss:.4f}\")\n",
        "    early_stopping(val_loss, model)\n",
        "    if early_stopping.early_stop:\n",
        "        print(\"Early stopping\")\n",
        "        break\n",
        "\n",
        "fig, ax = plt.subplots(figsize=(6, 6))\n",
        "ax.set_title(\"Curva de Erro\")\n",
        "ax.plot(tloss,'blue', label='Treino')\n",
        "ax.plot(vloss,'red', label='Validação')\n",
        "ax.legend()\n",
        "ax.grid(True)\n",
        "plt.show()\n"
      ]
    },
    {
      "cell_type": "code",
      "execution_count": null,
      "metadata": {
        "id": "hafA_hyYt7jc",
        "colab": {
          "base_uri": "https://localhost:8080/",
          "height": 581
        },
        "outputId": "5e4a2c80-d6ab-4113-adb5-ef37483b7a5a"
      },
      "outputs": [
        {
          "output_type": "stream",
          "name": "stdout",
          "text": [
            "Erro de predição (MAE) no conjunto de teste: 0.12507572770118713\n"
          ]
        },
        {
          "output_type": "display_data",
          "data": {
            "text/plain": [
              "<Figure size 600x600 with 1 Axes>"
            ],
            "image/png": "[encoded data removed]"
          },
          "metadata": {}
        }
      ],
      "source": [
        "Yp, Yt, loss_test = model.test_model(test_loader)\n",
        "\n",
        "plt.figure(figsize=(6, 6))\n",
        "plt.scatter(Yp, Yt, alpha=0.6)\n",
        "\n",
        "max_val = max(max(Yt), max(Yp))\n",
        "min_val = min(min(Yt), min(Yp))\n",
        "plt.plot([min_val, max_val], [min_val, max_val], 'r', linestyle='--')\n",
        "\n",
        "plt.xlabel('Valor Real')\n",
        "plt.ylabel('Valor Predito')\n",
        "plt.title('Predito vs. Real')\n",
        "plt.grid(True)\n",
        "\n",
        "print(f\"Erro de predição (MAE) no conjunto de teste: {loss_test}\")\n",
        "\n",
        "plt.show()\n",
        "\n"
      ]
    },
    {
      "cell_type": "code",
      "source": [
        "import importlib\n",
        "import chemXAI  # Importa o módulo inicialmente\n",
        "\n",
        "# ... faça algumas modificações no arquivo do seu_modulo ...\n",
        "\n",
        "importlib.reload(chemXAI)  # Recarrega o módulo com as modificações"
      ],
      "metadata": {
        "colab": {
          "base_uri": "https://localhost:8080/"
        },
        "id": "XF5-rEYKvPLd",
        "outputId": "c35cdcb2-e36e-4e27-b4f9-ab4a04809d77"
      },
      "execution_count": 126,
      "outputs": [
        {
          "output_type": "execute_result",
          "data": {
            "text/plain": [
              "<module 'chemXAI' from '/content/chemXAI.py'>"
            ]
          },
          "metadata": {},
          "execution_count": 126
        }
      ]
    },
    {
      "cell_type": "markdown",
      "metadata": {
        "id": "OJ5T2WVVBjaP"
      },
      "source": [
        "# Explicação com Shap"
      ]
    },
    {
      "cell_type": "code",
      "execution_count": 111,
      "metadata": {
        "id": "n80SD5Z_sVsB"
      },
      "outputs": [],
      "source": [
        "from chemXAI import Shap"
      ]
    },
    {
      "cell_type": "code",
      "execution_count": 112,
      "metadata": {
        "id": "XftykGIUBjaP",
        "colab": {
          "base_uri": "https://localhost:8080/",
          "height": 136,
          "referenced_widgets": [
            "90dd233a563e4e999b7a1d61c29c8045",
            "a183e56629e14a3bbed162650eb9c5a2",
            "f20a1f023cd24a1e8d1cf9b45461703b",
            "60c150c2701f454e97fa937c10d3dcc3",
            "7fb9fa084d274f5fade6d4ed1d086789",
            "21b87b4a7e4c4a088ba691df1475d1b6",
            "f35aedd0fddb4498a5eef40cd7a3cf70",
            "28971421969a4dab86468967193f3a9a",
            "e2a7ef73561645cd9ca5fba9540640dd",
            "5f1b87de1af744a193c49832d39a8dfd",
            "c4d40d5ea9694657900291a589af07c2"
          ]
        },
        "outputId": "a7208f99-2bc3-4cd4-acf0-148f1bf22515"
      },
      "outputs": [
        {
          "output_type": "stream",
          "name": "stderr",
          "text": [
            "WARNING:shap:Using 256 background data samples could cause slower run times. Consider using shap.sample(data, K) or shap.kmeans(data, K) to summarize the background as K samples.\n"
          ]
        },
        {
          "output_type": "stream",
          "name": "stdout",
          "text": [
            "Background shape: (256, 29)\n",
            "Test data shape: (256, 29)\n"
          ]
        },
        {
          "output_type": "display_data",
          "data": {
            "text/plain": [
              "  0%|          | 0/256 [00:00<?, ?it/s]"
            ],
            "application/vnd.jupyter.widget-view+json": {
              "version_major": 2,
              "version_minor": 0,
              "model_id": "90dd233a563e4e999b7a1d61c29c8045"
            }
          },
          "metadata": {}
        },
        {
          "output_type": "stream",
          "name": "stdout",
          "text": [
            "Local SHAP values shape: (29,)\n",
            "Global SHAP values shape: (29,)\n"
          ]
        }
      ],
      "source": [
        "# Inicializa a classe Shap com o modelo e DataLoaders\n",
        "shap_explainer = Shap(model, train_loader, test_loader, device)\n",
        "\n",
        "# Gera e exibe uma explicação local para a primeira instância no batch de teste\n",
        "local_explanation = shap_explainer.local_explanation(0)\n",
        "\n",
        "# Gera e exibe a explicação global\n",
        "global_explanation = shap_explainer.global_explanation()"
      ]
    },
    {
      "cell_type": "code",
      "execution_count": 113,
      "metadata": {
        "id": "_dgLW6S7hj3w",
        "colab": {
          "base_uri": "https://localhost:8080/"
        },
        "outputId": "a2d0f3de-c29c-48c6-c9f4-8fd96a9ff032"
      },
      "outputs": [
        {
          "output_type": "stream",
          "name": "stdout",
          "text": [
            "    Feature Index  SHAP Value\n",
            "0              11    0.076665\n",
            "1              13    0.043402\n",
            "2              12    0.040609\n",
            "3              14    0.030483\n",
            "4              10    0.028477\n",
            "5              15    0.026699\n",
            "6              16    0.020237\n",
            "7               9    0.013731\n",
            "8              21    0.007556\n",
            "9              26    0.005956\n",
            "10             27    0.000000\n",
            "11             25    0.000000\n",
            "12             24    0.000000\n",
            "13             22    0.000000\n",
            "14             28    0.000000\n",
            "15             23   -0.007080\n",
            "16             20   -0.016445\n",
            "17             19   -0.020952\n",
            "18             18   -0.032446\n",
            "19             17   -0.121064\n",
            "20              6   -0.850976\n",
            "21              7   -1.093824\n",
            "22              8   -1.739369\n",
            "23              5   -2.473748\n",
            "24              0   -4.400051\n",
            "25              4   -6.044655\n",
            "26              2  -10.742649\n",
            "27              3  -12.071439\n",
            "28              1  -28.967463\n"
          ]
        }
      ],
      "source": [
        "print(local_explanation)"
      ]
    },
    {
      "cell_type": "code",
      "execution_count": 114,
      "metadata": {
        "id": "v31F00evhqJy",
        "colab": {
          "base_uri": "https://localhost:8080/"
        },
        "outputId": "57492472-5af4-4969-aab6-f677825d5897"
      },
      "outputs": [
        {
          "output_type": "stream",
          "name": "stdout",
          "text": [
            "    Feature Index  Importance\n",
            "0               0   11.881087\n",
            "1               1    7.627872\n",
            "2               2    7.216624\n",
            "3               3    5.151014\n",
            "4               4    3.267092\n",
            "5               5    2.615938\n",
            "6               6    2.146208\n",
            "7               8    1.933986\n",
            "8               7    1.727913\n",
            "9              12    0.194102\n",
            "10             13    0.180238\n",
            "11             11    0.123870\n",
            "12             10    0.100744\n",
            "13             14    0.081444\n",
            "14             15    0.055903\n",
            "15             16    0.054700\n",
            "16             18    0.048462\n",
            "17             19    0.038560\n",
            "18             17    0.038325\n",
            "19             20    0.035977\n",
            "20              9    0.033281\n",
            "21             23    0.018472\n",
            "22             21    0.017547\n",
            "23             22    0.008453\n",
            "24             24    0.004262\n",
            "25             25    0.003941\n",
            "26             26    0.003915\n",
            "27             27    0.000000\n",
            "28             28    0.000000\n"
          ]
        }
      ],
      "source": [
        "print(global_explanation)"
      ]
    },
    {
      "cell_type": "markdown",
      "source": [
        "# Explicação com LIME"
      ],
      "metadata": {
        "id": "uzzeJV8ztoud"
      }
    },
    {
      "cell_type": "code",
      "source": [
        "from chemXAI import LIME"
      ],
      "metadata": {
        "id": "D9Uo6qaRt0DB"
      },
      "execution_count": 128,
      "outputs": []
    },
    {
      "cell_type": "code",
      "source": [
        "# Instancia a explicação\n",
        "lime_explainer = LIME(model, train_loader, test_loader, device, mode='regression')\n",
        "\n",
        "# Gera e exibe uma explicação local para a primeira instância no batch de teste\n",
        "local_explanation = lime_explainer.local_explanation(0)"
      ],
      "metadata": {
        "id": "kkkzzvS5tsdZ",
        "colab": {
          "base_uri": "https://localhost:8080/"
        },
        "outputId": "5a92b1f7-f33d-445b-ed5e-5c50ac9426e2"
      },
      "execution_count": 136,
      "outputs": [
        {
          "output_type": "stream",
          "name": "stdout",
          "text": [
            "Intercept -391.7303488780705\n",
            "Prediction_local [-469.58754551]\n",
            "Right: -476.4426\n"
          ]
        }
      ]
    },
    {
      "cell_type": "code",
      "source": [
        "local_explanation"
      ],
      "metadata": {
        "colab": {
          "base_uri": "https://localhost:8080/",
          "height": 959
        },
        "id": "TAI16TuLuz6j",
        "outputId": "fdb67809-254c-4abb-b56a-c121e0b47b70"
      },
      "execution_count": 137,
      "outputs": [
        {
          "output_type": "execute_result",
          "data": {
            "text/plain": [
              "                        Feature  LIME Value\n",
              "10  -0.80 < Feature 13 <= -0.13    1.127341\n",
              "12   -0.23 < Feature 10 <= 0.21    0.948692\n",
              "13          Feature 15 <= -0.39    0.732706\n",
              "14           Feature 20 <= 0.11    0.715445\n",
              "19           Feature 19 <= 0.22    0.381331\n",
              "27           Feature 27 <= 0.01    0.000000\n",
              "26           Feature 26 <= 0.00    0.000000\n",
              "25           Feature 25 <= 0.01    0.000000\n",
              "24           Feature 23 <= 0.07    0.000000\n",
              "28           Feature 28 <= 0.00    0.000000\n",
              "23   -0.27 < Feature 18 <= 0.45   -0.129120\n",
              "22  -0.59 < Feature 12 <= -0.18   -0.155222\n",
              "21   -0.72 < Feature 16 <= 0.09   -0.247423\n",
              "20   -0.82 < Feature 14 <= 0.33   -0.256206\n",
              "18            Feature 17 > 0.72   -0.475806\n",
              "17           Feature 24 <= 0.02   -0.538532\n",
              "16           Feature 21 <= 0.09   -0.704376\n",
              "15    -0.22 < Feature 9 <= 0.15   -0.708920\n",
              "11  -0.61 < Feature 11 <= -0.16   -1.024547\n",
              "9      0.05 < Feature 7 <= 0.54   -1.396337\n",
              "8            Feature 22 <= 0.10   -1.593118\n",
              "7      0.06 < Feature 6 <= 0.71   -2.386914\n",
              "6              Feature 8 > 0.59   -4.338058\n",
              "5              Feature 5 > 0.62   -5.800873\n",
              "4      0.11 < Feature 0 <= 0.66   -7.029286\n",
              "3              Feature 4 > 0.49   -9.261959\n",
              "2              Feature 3 > 0.68  -11.909615\n",
              "1              Feature 2 > 0.68  -14.698811\n",
              "0              Feature 1 > 0.68  -19.107590"
            ],
            "text/html": [
              "\n",
              "  <div id=\"df-7bf9cd0a-c451-4c86-b2c8-8c8e3a795bb5\" class=\"colab-df-container\">\n",
              "    <div>\n",
              "<style scoped>\n",
              "    .dataframe tbody tr th:only-of-type {\n",
              "        vertical-align: middle;\n",
              "    }\n",
              "\n",
              "    .dataframe tbody tr th {\n",
              "        vertical-align: top;\n",
              "    }\n",
              "\n",
              "    .dataframe thead th {\n",
              "        text-align: right;\n",
              "    }\n",
              "</style>\n",
              "<table border=\"1\" class=\"dataframe\">\n",
              "  <thead>\n",
              "    <tr style=\"text-align: right;\">\n",
              "      <th></th>\n",
              "      <th>Feature</th>\n",
              "      <th>LIME Value</th>\n",
              "    </tr>\n",
              "  </thead>\n",
              "  <tbody>\n",
              "    <tr>\n",
              "      <th>10</th>\n",
              "      <td>-0.80 &lt; Feature 13 &lt;= -0.13</td>\n",
              "      <td>1.127341</td>\n",
              "    </tr>\n",
              "    <tr>\n",
              "      <th>12</th>\n",
              "      <td>-0.23 &lt; Feature 10 &lt;= 0.21</td>\n",
              "      <td>0.948692</td>\n",
              "    </tr>\n",
              "    <tr>\n",
              "      <th>13</th>\n",
              "      <td>Feature 15 &lt;= -0.39</td>\n",
              "      <td>0.732706</td>\n",
              "    </tr>\n",
              "    <tr>\n",
              "      <th>14</th>\n",
              "      <td>Feature 20 &lt;= 0.11</td>\n",
              "      <td>0.715445</td>\n",
              "    </tr>\n",
              "    <tr>\n",
              "      <th>19</th>\n",
              "      <td>Feature 19 &lt;= 0.22</td>\n",
              "      <td>0.381331</td>\n",
              "    </tr>\n",
              "    <tr>\n",
              "      <th>27</th>\n",
              "      <td>Feature 27 &lt;= 0.01</td>\n",
              "      <td>0.000000</td>\n",
              "    </tr>\n",
              "    <tr>\n",
              "      <th>26</th>\n",
              "      <td>Feature 26 &lt;= 0.00</td>\n",
              "      <td>0.000000</td>\n",
              "    </tr>\n",
              "    <tr>\n",
              "      <th>25</th>\n",
              "      <td>Feature 25 &lt;= 0.01</td>\n",
              "      <td>0.000000</td>\n",
              "    </tr>\n",
              "    <tr>\n",
              "      <th>24</th>\n",
              "      <td>Feature 23 &lt;= 0.07</td>\n",
              "      <td>0.000000</td>\n",
              "    </tr>\n",
              "    <tr>\n",
              "      <th>28</th>\n",
              "      <td>Feature 28 &lt;= 0.00</td>\n",
              "      <td>0.000000</td>\n",
              "    </tr>\n",
              "    <tr>\n",
              "      <th>23</th>\n",
              "      <td>-0.27 &lt; Feature 18 &lt;= 0.45</td>\n",
              "      <td>-0.129120</td>\n",
              "    </tr>\n",
              "    <tr>\n",
              "      <th>22</th>\n",
              "      <td>-0.59 &lt; Feature 12 &lt;= -0.18</td>\n",
              "      <td>-0.155222</td>\n",
              "    </tr>\n",
              "    <tr>\n",
              "      <th>21</th>\n",
              "      <td>-0.72 &lt; Feature 16 &lt;= 0.09</td>\n",
              "      <td>-0.247423</td>\n",
              "    </tr>\n",
              "    <tr>\n",
              "      <th>20</th>\n",
              "      <td>-0.82 &lt; Feature 14 &lt;= 0.33</td>\n",
              "      <td>-0.256206</td>\n",
              "    </tr>\n",
              "    <tr>\n",
              "      <th>18</th>\n",
              "      <td>Feature 17 &gt; 0.72</td>\n",
              "      <td>-0.475806</td>\n",
              "    </tr>\n",
              "    <tr>\n",
              "      <th>17</th>\n",
              "      <td>Feature 24 &lt;= 0.02</td>\n",
              "      <td>-0.538532</td>\n",
              "    </tr>\n",
              "    <tr>\n",
              "      <th>16</th>\n",
              "      <td>Feature 21 &lt;= 0.09</td>\n",
              "      <td>-0.704376</td>\n",
              "    </tr>\n",
              "    <tr>\n",
              "      <th>15</th>\n",
              "      <td>-0.22 &lt; Feature 9 &lt;= 0.15</td>\n",
              "      <td>-0.708920</td>\n",
              "    </tr>\n",
              "    <tr>\n",
              "      <th>11</th>\n",
              "      <td>-0.61 &lt; Feature 11 &lt;= -0.16</td>\n",
              "      <td>-1.024547</td>\n",
              "    </tr>\n",
              "    <tr>\n",
              "      <th>9</th>\n",
              "      <td>0.05 &lt; Feature 7 &lt;= 0.54</td>\n",
              "      <td>-1.396337</td>\n",
              "    </tr>\n",
              "    <tr>\n",
              "      <th>8</th>\n",
              "      <td>Feature 22 &lt;= 0.10</td>\n",
              "      <td>-1.593118</td>\n",
              "    </tr>\n",
              "    <tr>\n",
              "      <th>7</th>\n",
              "      <td>0.06 &lt; Feature 6 &lt;= 0.71</td>\n",
              "      <td>-2.386914</td>\n",
              "    </tr>\n",
              "    <tr>\n",
              "      <th>6</th>\n",
              "      <td>Feature 8 &gt; 0.59</td>\n",
              "      <td>-4.338058</td>\n",
              "    </tr>\n",
              "    <tr>\n",
              "      <th>5</th>\n",
              "      <td>Feature 5 &gt; 0.62</td>\n",
              "      <td>-5.800873</td>\n",
              "    </tr>\n",
              "    <tr>\n",
              "      <th>4</th>\n",
              "      <td>0.11 &lt; Feature 0 &lt;= 0.66</td>\n",
              "      <td>-7.029286</td>\n",
              "    </tr>\n",
              "    <tr>\n",
              "      <th>3</th>\n",
              "      <td>Feature 4 &gt; 0.49</td>\n",
              "      <td>-9.261959</td>\n",
              "    </tr>\n",
              "    <tr>\n",
              "      <th>2</th>\n",
              "      <td>Feature 3 &gt; 0.68</td>\n",
              "      <td>-11.909615</td>\n",
              "    </tr>\n",
              "    <tr>\n",
              "      <th>1</th>\n",
              "      <td>Feature 2 &gt; 0.68</td>\n",
              "      <td>-14.698811</td>\n",
              "    </tr>\n",
              "    <tr>\n",
              "      <th>0</th>\n",
              "      <td>Feature 1 &gt; 0.68</td>\n",
              "      <td>-19.107590</td>\n",
              "    </tr>\n",
              "  </tbody>\n",
              "</table>\n",
              "</div>\n",
              "    <div class=\"colab-df-buttons\">\n",
              "\n",
              "  <div class=\"colab-df-container\">\n",
              "    <button class=\"colab-df-convert\" onclick=\"convertToInteractive('df-7bf9cd0a-c451-4c86-b2c8-8c8e3a795bb5')\"\n",
              "            title=\"Convert this dataframe to an interactive table.\"\n",
              "            style=\"display:none;\">\n",
              "\n",
              "  <svg xmlns=\"http://www.w3.org/2000/svg\" height=\"24px\" viewBox=\"0 -960 960 960\">\n",
              "    <path d=\"M120-120v-720h720v720H120Zm60-500h600v-160H180v160Zm220 220h160v-160H400v160Zm0 220h160v-160H400v160ZM180-400h160v-160H180v160Zm440 0h160v-160H620v160ZM180-180h160v-160H180v160Zm440 0h160v-160H620v160Z\"/>\n",
              "  </svg>\n",
              "    </button>\n",
              "\n",
              "  <style>\n",
              "    .colab-df-container {\n",
              "      display:flex;\n",
              "      gap: 12px;\n",
              "    }\n",
              "\n",
              "    .colab-df-convert {\n",
              "      background-color: #E8F0FE;\n",
              "      border: none;\n",
              "      border-radius: 50%;\n",
              "      cursor: pointer;\n",
              "      display: none;\n",
              "      fill: #1967D2;\n",
              "      height: 32px;\n",
              "      padding: 0 0 0 0;\n",
              "      width: 32px;\n",
              "    }\n",
              "\n",
              "    .colab-df-convert:hover {\n",
              "      background-color: #E2EBFA;\n",
              "      box-shadow: 0px 1px 2px rgba(60, 64, 67, 0.3), 0px 1px 3px 1px rgba(60, 64, 67, 0.15);\n",
              "      fill: #174EA6;\n",
              "    }\n",
              "\n",
              "    .colab-df-buttons div {\n",
              "      margin-bottom: 4px;\n",
              "    }\n",
              "\n",
              "    [theme=dark] .colab-df-convert {\n",
              "      background-color: #3B4455;\n",
              "      fill: #D2E3FC;\n",
              "    }\n",
              "\n",
              "    [theme=dark] .colab-df-convert:hover {\n",
              "      background-color: #434B5C;\n",
              "      box-shadow: 0px 1px 3px 1px rgba(0, 0, 0, 0.15);\n",
              "      filter: drop-shadow(0px 1px 2px rgba(0, 0, 0, 0.3));\n",
              "      fill: #FFFFFF;\n",
              "    }\n",
              "  </style>\n",
              "\n",
              "    <script>\n",
              "      const buttonEl =\n",
              "        document.querySelector('#df-7bf9cd0a-c451-4c86-b2c8-8c8e3a795bb5 button.colab-df-convert');\n",
              "      buttonEl.style.display =\n",
              "        google.colab.kernel.accessAllowed ? 'block' : 'none';\n",
              "\n",
              "      async function convertToInteractive(key) {\n",
              "        const element = document.querySelector('#df-7bf9cd0a-c451-4c86-b2c8-8c8e3a795bb5');\n",
              "        const dataTable =\n",
              "          await google.colab.kernel.invokeFunction('convertToInteractive',\n",
              "                                                    [key], {});\n",
              "        if (!dataTable) return;\n",
              "\n",
              "        const docLinkHtml = 'Like what you see? Visit the ' +\n",
              "          '<a target=\"_blank\" href=https://colab.research.google.com/notebooks/data_table.ipynb>data table notebook</a>'\n",
              "          + ' to learn more about interactive tables.';\n",
              "        element.innerHTML = '';\n",
              "        dataTable['output_type'] = 'display_data';\n",
              "        await google.colab.output.renderOutput(dataTable, element);\n",
              "        const docLink = document.createElement('div');\n",
              "        docLink.innerHTML = docLinkHtml;\n",
              "        element.appendChild(docLink);\n",
              "      }\n",
              "    </script>\n",
              "  </div>\n",
              "\n",
              "\n",
              "<div id=\"df-39f6752f-2017-44bd-b43f-36da8ec73f81\">\n",
              "  <button class=\"colab-df-quickchart\" onclick=\"quickchart('df-39f6752f-2017-44bd-b43f-36da8ec73f81')\"\n",
              "            title=\"Suggest charts\"\n",
              "            style=\"display:none;\">\n",
              "\n",
              "<svg xmlns=\"http://www.w3.org/2000/svg\" height=\"24px\"viewBox=\"0 0 24 24\"\n",
              "     width=\"24px\">\n",
              "    <g>\n",
              "        <path d=\"M19 3H5c-1.1 0-2 .9-2 2v14c0 1.1.9 2 2 2h14c1.1 0 2-.9 2-2V5c0-1.1-.9-2-2-2zM9 17H7v-7h2v7zm4 0h-2V7h2v10zm4 0h-2v-4h2v4z\"/>\n",
              "    </g>\n",
              "</svg>\n",
              "  </button>\n",
              "\n",
              "<style>\n",
              "  .colab-df-quickchart {\n",
              "      --bg-color: #E8F0FE;\n",
              "      --fill-color: #1967D2;\n",
              "      --hover-bg-color: #E2EBFA;\n",
              "      --hover-fill-color: #174EA6;\n",
              "      --disabled-fill-color: #AAA;\n",
              "      --disabled-bg-color: #DDD;\n",
              "  }\n",
              "\n",
              "  [theme=dark] .colab-df-quickchart {\n",
              "      --bg-color: #3B4455;\n",
              "      --fill-color: #D2E3FC;\n",
              "      --hover-bg-color: #434B5C;\n",
              "      --hover-fill-color: #FFFFFF;\n",
              "      --disabled-bg-color: #3B4455;\n",
              "      --disabled-fill-color: #666;\n",
              "  }\n",
              "\n",
              "  .colab-df-quickchart {\n",
              "    background-color: var(--bg-color);\n",
              "    border: none;\n",
              "    border-radius: 50%;\n",
              "    cursor: pointer;\n",
              "    display: none;\n",
              "    fill: var(--fill-color);\n",
              "    height: 32px;\n",
              "    padding: 0;\n",
              "    width: 32px;\n",
              "  }\n",
              "\n",
              "  .colab-df-quickchart:hover {\n",
              "    background-color: var(--hover-bg-color);\n",
              "    box-shadow: 0 1px 2px rgba(60, 64, 67, 0.3), 0 1px 3px 1px rgba(60, 64, 67, 0.15);\n",
              "    fill: var(--button-hover-fill-color);\n",
              "  }\n",
              "\n",
              "  .colab-df-quickchart-complete:disabled,\n",
              "  .colab-df-quickchart-complete:disabled:hover {\n",
              "    background-color: var(--disabled-bg-color);\n",
              "    fill: var(--disabled-fill-color);\n",
              "    box-shadow: none;\n",
              "  }\n",
              "\n",
              "  .colab-df-spinner {\n",
              "    border: 2px solid var(--fill-color);\n",
              "    border-color: transparent;\n",
              "    border-bottom-color: var(--fill-color);\n",
              "    animation:\n",
              "      spin 1s steps(1) infinite;\n",
              "  }\n",
              "\n",
              "  @keyframes spin {\n",
              "    0% {\n",
              "      border-color: transparent;\n",
              "      border-bottom-color: var(--fill-color);\n",
              "      border-left-color: var(--fill-color);\n",
              "    }\n",
              "    20% {\n",
              "      border-color: transparent;\n",
              "      border-left-color: var(--fill-color);\n",
              "      border-top-color: var(--fill-color);\n",
              "    }\n",
              "    30% {\n",
              "      border-color: transparent;\n",
              "      border-left-color: var(--fill-color);\n",
              "      border-top-color: var(--fill-color);\n",
              "      border-right-color: var(--fill-color);\n",
              "    }\n",
              "    40% {\n",
              "      border-color: transparent;\n",
              "      border-right-color: var(--fill-color);\n",
              "      border-top-color: var(--fill-color);\n",
              "    }\n",
              "    60% {\n",
              "      border-color: transparent;\n",
              "      border-right-color: var(--fill-color);\n",
              "    }\n",
              "    80% {\n",
              "      border-color: transparent;\n",
              "      border-right-color: var(--fill-color);\n",
              "      border-bottom-color: var(--fill-color);\n",
              "    }\n",
              "    90% {\n",
              "      border-color: transparent;\n",
              "      border-bottom-color: var(--fill-color);\n",
              "    }\n",
              "  }\n",
              "</style>\n",
              "\n",
              "  <script>\n",
              "    async function quickchart(key) {\n",
              "      const quickchartButtonEl =\n",
              "        document.querySelector('#' + key + ' button');\n",
              "      quickchartButtonEl.disabled = true;  // To prevent multiple clicks.\n",
              "      quickchartButtonEl.classList.add('colab-df-spinner');\n",
              "      try {\n",
              "        const charts = await google.colab.kernel.invokeFunction(\n",
              "            'suggestCharts', [key], {});\n",
              "      } catch (error) {\n",
              "        console.error('Error during call to suggestCharts:', error);\n",
              "      }\n",
              "      quickchartButtonEl.classList.remove('colab-df-spinner');\n",
              "      quickchartButtonEl.classList.add('colab-df-quickchart-complete');\n",
              "    }\n",
              "    (() => {\n",
              "      let quickchartButtonEl =\n",
              "        document.querySelector('#df-39f6752f-2017-44bd-b43f-36da8ec73f81 button');\n",
              "      quickchartButtonEl.style.display =\n",
              "        google.colab.kernel.accessAllowed ? 'block' : 'none';\n",
              "    })();\n",
              "  </script>\n",
              "</div>\n",
              "\n",
              "  <div id=\"id_47bd6626-c166-4c4c-929d-702a257d3228\">\n",
              "    <style>\n",
              "      .colab-df-generate {\n",
              "        background-color: #E8F0FE;\n",
              "        border: none;\n",
              "        border-radius: 50%;\n",
              "        cursor: pointer;\n",
              "        display: none;\n",
              "        fill: #1967D2;\n",
              "        height: 32px;\n",
              "        padding: 0 0 0 0;\n",
              "        width: 32px;\n",
              "      }\n",
              "\n",
              "      .colab-df-generate:hover {\n",
              "        background-color: #E2EBFA;\n",
              "        box-shadow: 0px 1px 2px rgba(60, 64, 67, 0.3), 0px 1px 3px 1px rgba(60, 64, 67, 0.15);\n",
              "        fill: #174EA6;\n",
              "      }\n",
              "\n",
              "      [theme=dark] .colab-df-generate {\n",
              "        background-color: #3B4455;\n",
              "        fill: #D2E3FC;\n",
              "      }\n",
              "\n",
              "      [theme=dark] .colab-df-generate:hover {\n",
              "        background-color: #434B5C;\n",
              "        box-shadow: 0px 1px 3px 1px rgba(0, 0, 0, 0.15);\n",
              "        filter: drop-shadow(0px 1px 2px rgba(0, 0, 0, 0.3));\n",
              "        fill: #FFFFFF;\n",
              "      }\n",
              "    </style>\n",
              "    <button class=\"colab-df-generate\" onclick=\"generateWithVariable('local_explanation')\"\n",
              "            title=\"Generate code using this dataframe.\"\n",
              "            style=\"display:none;\">\n",
              "\n",
              "  <svg xmlns=\"http://www.w3.org/2000/svg\" height=\"24px\"viewBox=\"0 0 24 24\"\n",
              "       width=\"24px\">\n",
              "    <path d=\"M7,19H8.4L18.45,9,17,7.55,7,17.6ZM5,21V16.75L18.45,3.32a2,2,0,0,1,2.83,0l1.4,1.43a1.91,1.91,0,0,1,.58,1.4,1.91,1.91,0,0,1-.58,1.4L9.25,21ZM18.45,9,17,7.55Zm-12,3A5.31,5.31,0,0,0,4.9,8.1,5.31,5.31,0,0,0,1,6.5,5.31,5.31,0,0,0,4.9,4.9,5.31,5.31,0,0,0,6.5,1,5.31,5.31,0,0,0,8.1,4.9,5.31,5.31,0,0,0,12,6.5,5.46,5.46,0,0,0,6.5,12Z\"/>\n",
              "  </svg>\n",
              "    </button>\n",
              "    <script>\n",
              "      (() => {\n",
              "      const buttonEl =\n",
              "        document.querySelector('#id_47bd6626-c166-4c4c-929d-702a257d3228 button.colab-df-generate');\n",
              "      buttonEl.style.display =\n",
              "        google.colab.kernel.accessAllowed ? 'block' : 'none';\n",
              "\n",
              "      buttonEl.onclick = () => {\n",
              "        google.colab.notebook.generateWithVariable('local_explanation');\n",
              "      }\n",
              "      })();\n",
              "    </script>\n",
              "  </div>\n",
              "\n",
              "    </div>\n",
              "  </div>\n"
            ],
            "application/vnd.google.colaboratory.intrinsic+json": {
              "type": "dataframe",
              "variable_name": "local_explanation",
              "summary": "{\n  \"name\": \"local_explanation\",\n  \"rows\": 29,\n  \"fields\": [\n    {\n      \"column\": \"Feature\",\n      \"properties\": {\n        \"dtype\": \"string\",\n        \"num_unique_values\": 29,\n        \"samples\": [\n          \"Feature 2 > 0.68\",\n          \"Feature 21 <= 0.09\",\n          \"-0.72 < Feature 16 <= 0.09\"\n        ],\n        \"semantic_type\": \"\",\n        \"description\": \"\"\n      }\n    },\n    {\n      \"column\": \"LIME Value\",\n      \"properties\": {\n        \"dtype\": \"number\",\n        \"std\": 5.063576388480476,\n        \"min\": -19.107589646001326,\n        \"max\": 1.1273412021167755,\n        \"num_unique_values\": 25,\n        \"samples\": [\n          -0.247423001295027,\n          -1.593117559647245,\n          1.1273412021167755\n        ],\n        \"semantic_type\": \"\",\n        \"description\": \"\"\n      }\n    }\n  ]\n}"
            }
          },
          "metadata": {},
          "execution_count": 137
        }
      ]
    },
    {
      "cell_type": "markdown",
      "metadata": {
        "id": "HDLwbbGwSbOD"
      },
      "source": [
        "# Experimentos (Sugestões)\n",
        "\n",
        "\n",
        "\n"
      ]
    },
    {
      "cell_type": "markdown",
      "metadata": {
        "id": "aQvrlGWch6Ta"
      },
      "source": [
        "\n",
        "1. Verificar o modelo para os outros descritores\n",
        "2. Verificar por que os valores de shapley e os valores do LIME mostram diferentes tipos de explicação\n"
      ]
    },
    {
      "cell_type": "code",
      "execution_count": null,
      "metadata": {
        "id": "Bv27SFrFBsBP"
      },
      "outputs": [],
      "source": []
    }
  ],
  "metadata": {
    "accelerator": "GPU",
    "colab": {
      "gpuType": "T4",
      "provenance": []
    },
    "kernelspec": {
      "display_name": "venv",
      "language": "python",
      "name": "python3"
    },
    "language_info": {
      "codemirror_mode": {
        "name": "ipython",
        "version": 3
      },
      "file_extension": ".py",
      "mimetype": "text/x-python",
      "name": "python",
      "nbconvert_exporter": "python",
      "pygments_lexer": "ipython3",
      "version": "3.12.1"
    },
    "widgets": {
      "application/vnd.jupyter.widget-state+json": {
        "90dd233a563e4e999b7a1d61c29c8045": {
          "model_module": "@jupyter-widgets/controls",
          "model_name": "HBoxModel",
          "model_module_version": "1.5.0",
          "state": {
            "_dom_classes": [],
            "_model_module": "@jupyter-widgets/controls",
            "_model_module_version": "1.5.0",
            "_model_name": "HBoxModel",
            "_view_count": null,
            "_view_module": "@jupyter-widgets/controls",
            "_view_module_version": "1.5.0",
            "_view_name": "HBoxView",
            "box_style": "",
            "children": [
              "IPY_MODEL_a183e56629e14a3bbed162650eb9c5a2",
              "IPY_MODEL_f20a1f023cd24a1e8d1cf9b45461703b",
              "IPY_MODEL_60c150c2701f454e97fa937c10d3dcc3"
            ],
            "layout": "IPY_MODEL_7fb9fa084d274f5fade6d4ed1d086789"
          }
        },
        "a183e56629e14a3bbed162650eb9c5a2": {
          "model_module": "@jupyter-widgets/controls",
          "model_name": "HTMLModel",
          "model_module_version": "1.5.0",
          "state": {
            "_dom_classes": [],
            "_model_module": "@jupyter-widgets/controls",
            "_model_module_version": "1.5.0",
            "_model_name": "HTMLModel",
            "_view_count": null,
            "_view_module": "@jupyter-widgets/controls",
            "_view_module_version": "1.5.0",
            "_view_name": "HTMLView",
            "description": "",
            "description_tooltip": null,
            "layout": "IPY_MODEL_21b87b4a7e4c4a088ba691df1475d1b6",
            "placeholder": "​",
            "style": "IPY_MODEL_f35aedd0fddb4498a5eef40cd7a3cf70",
            "value": "100%"
          }
        },
        "f20a1f023cd24a1e8d1cf9b45461703b": {
          "model_module": "@jupyter-widgets/controls",
          "model_name": "FloatProgressModel",
          "model_module_version": "1.5.0",
          "state": {
            "_dom_classes": [],
            "_model_module": "@jupyter-widgets/controls",
            "_model_module_version": "1.5.0",
            "_model_name": "FloatProgressModel",
            "_view_count": null,
            "_view_module": "@jupyter-widgets/controls",
            "_view_module_version": "1.5.0",
            "_view_name": "ProgressView",
            "bar_style": "success",
            "description": "",
            "description_tooltip": null,
            "layout": "IPY_MODEL_28971421969a4dab86468967193f3a9a",
            "max": 256,
            "min": 0,
            "orientation": "horizontal",
            "style": "IPY_MODEL_e2a7ef73561645cd9ca5fba9540640dd",
            "value": 256
          }
        },
        "60c150c2701f454e97fa937c10d3dcc3": {
          "model_module": "@jupyter-widgets/controls",
          "model_name": "HTMLModel",
          "model_module_version": "1.5.0",
          "state": {
            "_dom_classes": [],
            "_model_module": "@jupyter-widgets/controls",
            "_model_module_version": "1.5.0",
            "_model_name": "HTMLModel",
            "_view_count": null,
            "_view_module": "@jupyter-widgets/controls",
            "_view_module_version": "1.5.0",
            "_view_name": "HTMLView",
            "description": "",
            "description_tooltip": null,
            "layout": "IPY_MODEL_5f1b87de1af744a193c49832d39a8dfd",
            "placeholder": "​",
            "style": "IPY_MODEL_c4d40d5ea9694657900291a589af07c2",
            "value": " 256/256 [17:12&lt;00:00,  4.14s/it]"
          }
        },
        "7fb9fa084d274f5fade6d4ed1d086789": {
          "model_module": "@jupyter-widgets/base",
          "model_name": "LayoutModel",
          "model_module_version": "1.2.0",
          "state": {
            "_model_module": "@jupyter-widgets/base",
            "_model_module_version": "1.2.0",
            "_model_name": "LayoutModel",
            "_view_count": null,
            "_view_module": "@jupyter-widgets/base",
            "_view_module_version": "1.2.0",
            "_view_name": "LayoutView",
            "align_content": null,
            "align_items": null,
            "align_self": null,
            "border": null,
            "bottom": null,
            "display": null,
            "flex": null,
            "flex_flow": null,
            "grid_area": null,
            "grid_auto_columns": null,
            "grid_auto_flow": null,
            "grid_auto_rows": null,
            "grid_column": null,
            "grid_gap": null,
            "grid_row": null,
            "grid_template_areas": null,
            "grid_template_columns": null,
            "grid_template_rows": null,
            "height": null,
            "justify_content": null,
            "justify_items": null,
            "left": null,
            "margin": null,
            "max_height": null,
            "max_width": null,
            "min_height": null,
            "min_width": null,
            "object_fit": null,
            "object_position": null,
            "order": null,
            "overflow": null,
            "overflow_x": null,
            "overflow_y": null,
            "padding": null,
            "right": null,
            "top": null,
            "visibility": null,
            "width": null
          }
        },
        "21b87b4a7e4c4a088ba691df1475d1b6": {
          "model_module": "@jupyter-widgets/base",
          "model_name": "LayoutModel",
          "model_module_version": "1.2.0",
          "state": {
            "_model_module": "@jupyter-widgets/base",
            "_model_module_version": "1.2.0",
            "_model_name": "LayoutModel",
            "_view_count": null,
            "_view_module": "@jupyter-widgets/base",
            "_view_module_version": "1.2.0",
            "_view_name": "LayoutView",
            "align_content": null,
            "align_items": null,
            "align_self": null,
            "border": null,
            "bottom": null,
            "display": null,
            "flex": null,
            "flex_flow": null,
            "grid_area": null,
            "grid_auto_columns": null,
            "grid_auto_flow": null,
            "grid_auto_rows": null,
            "grid_column": null,
            "grid_gap": null,
            "grid_row": null,
            "grid_template_areas": null,
            "grid_template_columns": null,
            "grid_template_rows": null,
            "height": null,
            "justify_content": null,
            "justify_items": null,
            "left": null,
            "margin": null,
            "max_height": null,
            "max_width": null,
            "min_height": null,
            "min_width": null,
            "object_fit": null,
            "object_position": null,
            "order": null,
            "overflow": null,
            "overflow_x": null,
            "overflow_y": null,
            "padding": null,
            "right": null,
            "top": null,
            "visibility": null,
            "width": null
          }
        },
        "f35aedd0fddb4498a5eef40cd7a3cf70": {
          "model_module": "@jupyter-widgets/controls",
          "model_name": "DescriptionStyleModel",
          "model_module_version": "1.5.0",
          "state": {
            "_model_module": "@jupyter-widgets/controls",
            "_model_module_version": "1.5.0",
            "_model_name": "DescriptionStyleModel",
            "_view_count": null,
            "_view_module": "@jupyter-widgets/base",
            "_view_module_version": "1.2.0",
            "_view_name": "StyleView",
            "description_width": ""
          }
        },
        "28971421969a4dab86468967193f3a9a": {
          "model_module": "@jupyter-widgets/base",
          "model_name": "LayoutModel",
          "model_module_version": "1.2.0",
          "state": {
            "_model_module": "@jupyter-widgets/base",
            "_model_module_version": "1.2.0",
            "_model_name": "LayoutModel",
            "_view_count": null,
            "_view_module": "@jupyter-widgets/base",
            "_view_module_version": "1.2.0",
            "_view_name": "LayoutView",
            "align_content": null,
            "align_items": null,
            "align_self": null,
            "border": null,
            "bottom": null,
            "display": null,
            "flex": null,
            "flex_flow": null,
            "grid_area": null,
            "grid_auto_columns": null,
            "grid_auto_flow": null,
            "grid_auto_rows": null,
            "grid_column": null,
            "grid_gap": null,
            "grid_row": null,
            "grid_template_areas": null,
            "grid_template_columns": null,
            "grid_template_rows": null,
            "height": null,
            "justify_content": null,
            "justify_items": null,
            "left": null,
            "margin": null,
            "max_height": null,
            "max_width": null,
            "min_height": null,
            "min_width": null,
            "object_fit": null,
            "object_position": null,
            "order": null,
            "overflow": null,
            "overflow_x": null,
            "overflow_y": null,
            "padding": null,
            "right": null,
            "top": null,
            "visibility": null,
            "width": null
          }
        },
        "e2a7ef73561645cd9ca5fba9540640dd": {
          "model_module": "@jupyter-widgets/controls",
          "model_name": "ProgressStyleModel",
          "model_module_version": "1.5.0",
          "state": {
            "_model_module": "@jupyter-widgets/controls",
            "_model_module_version": "1.5.0",
            "_model_name": "ProgressStyleModel",
            "_view_count": null,
            "_view_module": "@jupyter-widgets/base",
            "_view_module_version": "1.2.0",
            "_view_name": "StyleView",
            "bar_color": null,
            "description_width": ""
          }
        },
        "5f1b87de1af744a193c49832d39a8dfd": {
          "model_module": "@jupyter-widgets/base",
          "model_name": "LayoutModel",
          "model_module_version": "1.2.0",
          "state": {
            "_model_module": "@jupyter-widgets/base",
            "_model_module_version": "1.2.0",
            "_model_name": "LayoutModel",
            "_view_count": null,
            "_view_module": "@jupyter-widgets/base",
            "_view_module_version": "1.2.0",
            "_view_name": "LayoutView",
            "align_content": null,
            "align_items": null,
            "align_self": null,
            "border": null,
            "bottom": null,
            "display": null,
            "flex": null,
            "flex_flow": null,
            "grid_area": null,
            "grid_auto_columns": null,
            "grid_auto_flow": null,
            "grid_auto_rows": null,
            "grid_column": null,
            "grid_gap": null,
            "grid_row": null,
            "grid_template_areas": null,
            "grid_template_columns": null,
            "grid_template_rows": null,
            "height": null,
            "justify_content": null,
            "justify_items": null,
            "left": null,
            "margin": null,
            "max_height": null,
            "max_width": null,
            "min_height": null,
            "min_width": null,
            "object_fit": null,
            "object_position": null,
            "order": null,
            "overflow": null,
            "overflow_x": null,
            "overflow_y": null,
            "padding": null,
            "right": null,
            "top": null,
            "visibility": null,
            "width": null
          }
        },
        "c4d40d5ea9694657900291a589af07c2": {
          "model_module": "@jupyter-widgets/controls",
          "model_name": "DescriptionStyleModel",
          "model_module_version": "1.5.0",
          "state": {
            "_model_module": "@jupyter-widgets/controls",
            "_model_module_version": "1.5.0",
            "_model_name": "DescriptionStyleModel",
            "_view_count": null,
            "_view_module": "@jupyter-widgets/base",
            "_view_module_version": "1.2.0",
            "_view_name": "StyleView",
            "description_width": ""
          }
        }
      }
    }
  },
  "nbformat": 4,
  "nbformat_minor": 0
}