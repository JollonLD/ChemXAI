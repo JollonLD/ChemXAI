{
  "cells": [
    {
      "cell_type": "markdown",
      "metadata": {
        "id": "xWtCqjkXQHdy"
      },
      "source": [
        "# Instalação de Pacotes"
      ]
    },
    {
      "cell_type": "code",
      "execution_count": 2,
      "metadata": {
        "colab": {
          "base_uri": "https://localhost:8080/"
        },
        "id": "YdEEh4jKR2MC",
        "outputId": "2760b525-d815-4ef6-8578-3eb0fa38cff5"
      },
      "outputs": [
        {
          "output_type": "stream",
          "name": "stdout",
          "text": [
            "\u001b[2K   \u001b[90m━━━━━━━━━━━━━━━━━━━━━━━━━━━━━━━━━━━━━━━━\u001b[0m \u001b[32m32.8/32.8 MB\u001b[0m \u001b[31m14.5 MB/s\u001b[0m eta \u001b[36m0:00:00\u001b[0m\n",
            "\u001b[2K   \u001b[90m━━━━━━━━━━━━━━━━━━━━━━━━━━━━━━━━━━━━━━━━\u001b[0m \u001b[32m2.9/2.9 MB\u001b[0m \u001b[31m26.5 MB/s\u001b[0m eta \u001b[36m0:00:00\u001b[0m\n",
            "\u001b[2K   \u001b[90m━━━━━━━━━━━━━━━━━━━━━━━━━━━━━━━━━━━━━━━━\u001b[0m \u001b[32m12.5/12.5 MB\u001b[0m \u001b[31m77.5 MB/s\u001b[0m eta \u001b[36m0:00:00\u001b[0m\n",
            "\u001b[2K   \u001b[90m━━━━━━━━━━━━━━━━━━━━━━━━━━━━━━━━━━━━━━━━\u001b[0m \u001b[32m237.3/237.3 kB\u001b[0m \u001b[31m11.2 MB/s\u001b[0m eta \u001b[36m0:00:00\u001b[0m\n",
            "\u001b[2K   \u001b[90m━━━━━━━━━━━━━━━━━━━━━━━━━━━━━━━━━━━━━━━━\u001b[0m \u001b[32m362.8/362.8 kB\u001b[0m \u001b[31m6.2 MB/s\u001b[0m eta \u001b[36m0:00:00\u001b[0m\n",
            "\u001b[2K   \u001b[90m━━━━━━━━━━━━━━━━━━━━━━━━━━━━━━━━━━━━━━━━\u001b[0m \u001b[32m233.5/233.5 kB\u001b[0m \u001b[31m15.7 MB/s\u001b[0m eta \u001b[36m0:00:00\u001b[0m\n",
            "\u001b[2K   \u001b[90m━━━━━━━━━━━━━━━━━━━━━━━━━━━━━━━━━━━━━━━━\u001b[0m \u001b[32m78.6/78.6 kB\u001b[0m \u001b[31m5.0 MB/s\u001b[0m eta \u001b[36m0:00:00\u001b[0m\n",
            "\u001b[?25h\u001b[31mERROR: Could not open requirements file: [Errno 2] No such file or directory: 'requirements.txt'\u001b[0m\u001b[31m\n",
            "\u001b[0m"
          ]
        }
      ],
      "source": [
        "!pip install --quiet rdkit\n",
        "!pip install --quiet ase\n",
        "!pip install --quiet dscribe\n",
        "!pip install --quiet optuna\n",
        "!pip install --quiet requests\n",
        "!pip install -r requirements.txt"
      ]
    },
    {
      "cell_type": "markdown",
      "metadata": {
        "id": "DkwmvnMVQNHA"
      },
      "source": [
        "# Carregamento Pacotes\n"
      ]
    },
    {
      "cell_type": "code",
      "execution_count": 3,
      "metadata": {
        "colab": {
          "base_uri": "https://localhost:8080/"
        },
        "id": "Xi8EXxxhQF56",
        "outputId": "768f529a-eaa6-4780-e572-4704d46542b4"
      },
      "outputs": [
        {
          "output_type": "stream",
          "name": "stdout",
          "text": [
            "2.5.0+cu121\n",
            "Executando em: cpu\n"
          ]
        }
      ],
      "source": [
        "import os\n",
        "import zipfile\n",
        "\n",
        "import numpy as np\n",
        "import matplotlib.pyplot as plt\n",
        "\n",
        "import optuna\n",
        "\n",
        "import torch\n",
        "import torch.nn as nn\n",
        "import torch.optim as optim\n",
        "from torch.utils.data import Dataset, DataLoader, random_split\n",
        "\n",
        "print(torch.__version__)\n",
        "device = torch.device(\"cuda\" if torch.cuda.is_available() else \"cpu\")\n",
        "print(f\"Executando em: {device}\")"
      ]
    },
    {
      "cell_type": "code",
      "execution_count": 4,
      "metadata": {
        "id": "TvO3H93bUfLI"
      },
      "outputs": [],
      "source": [
        "torch.manual_seed(0)\n",
        "torch.cuda.manual_seed_all(0)\n",
        "np.random.seed(0)"
      ]
    },
    {
      "cell_type": "markdown",
      "metadata": {
        "id": "NzF5Qw6YQAT7"
      },
      "source": [
        "# Carregamento do Conjunto de Dados (QM9)\n",
        "\n",
        "## Dropbox link (Download)"
      ]
    },
    {
      "cell_type": "code",
      "execution_count": 5,
      "metadata": {
        "colab": {
          "base_uri": "https://localhost:8080/"
        },
        "id": "_x7g1Ungd-W6",
        "outputId": "a1e4786e-0ba3-463b-cd78-f2c2a2b00d69"
      },
      "outputs": [
        {
          "output_type": "stream",
          "name": "stdout",
          "text": [
            "Baixando o arquivo QM9.zip...\n",
            "Download concluído.\n",
            "Dados salvos em: QM9Data\n"
          ]
        }
      ],
      "source": [
        "import os\n",
        "import zipfile\n",
        "import requests\n",
        "\n",
        "# URL do arquivo no Dropbox com `?dl=1` para forçar o download direto\n",
        "url = \"https://www.dropbox.com/scl/fi/lbs52lc0av3eqi9zws3wp/QM9.zip?rlkey=925vtuebvf7kf9ifq9143d6az&dl=1\"\n",
        "zip_path = \"QM9.zip\"\n",
        "qm9_folder = \"QM9Data\"\n",
        "\n",
        "# Baixar o arquivo se ele não existir localmente\n",
        "if not os.path.exists(zip_path):\n",
        "    print(\"Baixando o arquivo QM9.zip...\")\n",
        "    response = requests.get(url, stream=True)\n",
        "    with open(zip_path, \"wb\") as f:\n",
        "        for chunk in response.iter_content(chunk_size=8192):\n",
        "            f.write(chunk)\n",
        "    print(\"Download concluído.\")\n",
        "\n",
        "# Criar a pasta de extração, se necessário\n",
        "if not os.path.exists(qm9_folder):\n",
        "    os.makedirs(qm9_folder)\n",
        "\n",
        "# Extrair o conteúdo do arquivo zip\n",
        "with zipfile.ZipFile(zip_path, 'r') as zip_ref:\n",
        "    zip_ref.extractall(qm9_folder)\n",
        "\n",
        "print(f\"Dados salvos em: {qm9_folder}\")\n"
      ]
    },
    {
      "cell_type": "markdown",
      "metadata": {
        "id": "qBC_6bG1ytHM"
      },
      "source": [
        "# Extração e Preparação dos Dados\n"
      ]
    },
    {
      "cell_type": "code",
      "execution_count": 6,
      "metadata": {
        "colab": {
          "base_uri": "https://localhost:8080/"
        },
        "id": "vM90JwWM0EMx",
        "outputId": "9ede3d6b-6618-488a-cb34-16742e855bbc"
      },
      "outputs": [
        {
          "output_type": "stream",
          "name": "stdout",
          "text": [
            "16\n",
            "\n",
            "gdb 75700\t2.29421\t2.10153\t1.19281\t1.5927\t71.76\t-0.2569\t-0.021\t0.2359\t1002.3496\t0.125963\t-434.09168\t-434.083979\t-434.083035\t-434.123886\t28.894\t\n",
            "\n",
            "C\t 0.0082723652\t 1.4385040241\t 0.0216304465\t-0.368015\n",
            "\n",
            "N\t-0.0080626856\t-0.0080486441\t-0.0143324088\t-0.128223\n",
            "\n",
            "C\t-0.0025221437\t-0.7715337629\t-1.1909538518\t 0.388126\n",
            "\n",
            "N\t 0.0263387403\t-0.3906951642\t-2.3959782595\t-0.532716\n",
            "\n",
            "N\t-0.0435539427\t-2.1606959554\t-0.8372214133\t-0.113662\n",
            "\n",
            "C\t 1.1983737221\t-2.6000297832\t-0.1756188576\t-0.242408\n",
            "\n",
            "C\t 0.0113061798\t-2.2080435108\t 0.6349537932\t-0.162296\n",
            "\n",
            "C\t-0.0270216144\t-0.7926214222\t 1.1346516211\t 0.42506\n",
            "\n",
            "O\t-0.0955434019\t-0.3870203764\t 2.2694066024\t-0.371241\n",
            "\n",
            "H\t 0.9216696532\t 1.8340504971\t-0.4354195835\t 0.141444\n",
            "\n",
            "H\t-0.8595819793\t 1.8482562075\t-0.5050019382\t 0.146272\n",
            "\n",
            "H\t-0.0319704226\t 1.7357251605\t 1.0706204257\t 0.173704\n",
            "\n",
            "H\t 0.0660884133\t 0.6248858104\t-2.4690959743\t 0.222945\n",
            "\n",
            "H\t 1.4244948343\t-3.6539669067\t-0.2978095694\t 0.14517\n",
            "\n",
            "H\t 2.0547706395\t-1.9318987311\t-0.1997156332\t 0.140887\n",
            "\n",
            "H\t-0.5885282877\t-2.9489560327\t 1.1502816209\t 0.134952\n",
            "\n",
            "114.8971\t156.0344\t181.4536\t222.4783\t289.6406\t342.4776\t383.9108\t531.6825\t606.7765\t654.8158\t726.4123\t743.2719\t775.8113\t819.1963\t835.1968\t863.3752\t974.575\t988.4193\t1017.3039\t1068.8922\t1111.2543\t1149.8109\t1156.9358\t1165.9378\t1212.256\t1266.9288\t1299.8348\t1342.6807\t1411.3007\t1454.1074\t1492.7876\t1505.1204\t1513.6903\t1754.5533\t1844.5096\t3034.3494\t3095.271\t3121.9429\t3150.0722\t3190.3306\t3218.0495\t3502.8963\n",
            "\n",
            "CN1C(=N)N2CC2C1=O\tCN1[C]([NH])N2C[C@H]2C1=O\t\n",
            "\n",
            "InChI=1S/C5H7N3O/c1-7-4(9)3-2-8(3)5(7)6/h3,6H,2H2,1H3\tInChI=1S/C5H7N3O/c1-7-4(9)3-2-8(3)5(7)6/h3,6H,2H2,1H3/t3-,8?/m0/s1\n",
            "\n"
          ]
        }
      ],
      "source": [
        "with open(qm9_folder+\"/dsgdb9nsd_075700.xyz\") as file:\n",
        "    for line in file:\n",
        "        print(line)"
      ]
    },
    {
      "cell_type": "code",
      "execution_count": 7,
      "metadata": {
        "id": "tVfUvjv1y-IF"
      },
      "outputs": [],
      "source": [
        "def load_qm9_xyz(file_path):\n",
        "    \"\"\"Load a single QM9.xyz file.\"\"\"\n",
        "    with open(file_path, 'r') as f:\n",
        "        # Number of atoms\n",
        "        natoms = int(f.readline())\n",
        "        # Properties are in the second line\n",
        "        properties = list(map(float, f.readline().split()[2:]))\n",
        "        # Read atomic coordinates and types\n",
        "        atoms = []\n",
        "        coordinates = []\n",
        "        # print(properties)\n",
        "        for num_line, line in enumerate(f):\n",
        "            # print(num_line, line)\n",
        "            if num_line >= 0 and num_line < natoms:\n",
        "                info = line.replace(\"*^\",\"e\").split()\n",
        "                atoms.append(info[0])\n",
        "                coordinates.append(list(map(float, info[1:-1])))\n",
        "\n",
        "    return {\n",
        "        \"natoms\": natoms,\n",
        "        \"atoms\": atoms,\n",
        "        \"coordinates\": np.array(coordinates),\n",
        "        \"properties\": properties\n",
        "    }\n",
        "\n",
        "def load_qm9_dataset(directory_path, list_mols=[]):\n",
        "    \"\"\"Load the entire QM9 dataset from a directory containing .xyz files.\"\"\"\n",
        "    X = []\n",
        "    Y = []\n",
        "    S = []\n",
        "    for file_name in os.listdir(directory_path):\n",
        "        if file_name.endswith(\".xyz\"):\n",
        "            file_path = os.path.join(directory_path, file_name)\n",
        "            molecule_data = load_qm9_xyz(file_path)\n",
        "            if molecule_data['natoms'] in list_mols or len(list_mols)==0:\n",
        "              X.append([molecule_data['atoms'], molecule_data['coordinates']])\n",
        "              Y.append(molecule_data['properties'])\n",
        "              S.append(molecule_data['natoms'])\n",
        "    return X, Y, S"
      ]
    },
    {
      "cell_type": "code",
      "execution_count": 8,
      "metadata": {
        "colab": {
          "base_uri": "https://localhost:8080/"
        },
        "id": "YZt3vxtC8ZsX",
        "outputId": "ca857a4b-389e-4ed9-fe46-dfa39ccf60cb"
      },
      "outputs": [
        {
          "output_type": "stream",
          "name": "stdout",
          "text": [
            "Numero Moléculas: 133885\n",
            "Primeira Molécula: [['O', 'C', 'C', 'O', 'C', 'C', 'O', 'C', 'C', 'H', 'H', 'H', 'H', 'H', 'H'], array([[ 0.02357102,  0.92573576,  1.58429548],\n",
            "       [-0.02585037,  1.4160204 ,  0.47549997],\n",
            "       [-1.37654544,  1.86495537, -0.08391578],\n",
            "       [-1.43539921,  2.01547325, -1.47904061],\n",
            "       [-0.91772959,  3.22378564, -1.97349621],\n",
            "       [ 0.60376273,  3.28073209, -2.11732547],\n",
            "       [ 1.09977905,  4.11315065, -2.84759721],\n",
            "       [ 1.48628276,  2.33617496, -1.38128172],\n",
            "       [ 1.22673904,  1.56748784, -0.31245123],\n",
            "       [-2.10286898,  1.09701515,  0.19586179],\n",
            "       [-1.66530212,  2.7938882 ,  0.43591959],\n",
            "       [-1.33327147,  3.37596609, -2.97335656],\n",
            "       [-1.23063074,  4.08149739, -1.35466783],\n",
            "       [ 2.5047307 ,  2.37056364, -1.76048904],\n",
            "       [ 2.04452154,  1.00756912,  0.1346948 ]])]\n",
            "Propriedades Mol[0]: [ 3.14044000e+00  1.31863000e+00  9.79600000e-01  5.88700000e-01\n",
            "  7.08500000e+01 -2.53700000e-01 -1.01500000e-01  1.52200000e-01\n",
            "  1.13488610e+03  1.12511000e-01 -4.57788313e+02 -4.57780513e+02\n",
            " -4.57779568e+02 -4.57821825e+02  2.83850000e+01]\n"
          ]
        }
      ],
      "source": [
        "# Loading\n",
        "# segundo parâmetro: lista com o tamanho das moléculas desejadas | [] para selecionar todas]\n",
        "XYZ, Y, natoms = load_qm9_dataset(qm9_folder)\n",
        "Y = np.array(Y)\n",
        "\n",
        "samples =  len(XYZ)\n",
        "print(f\"Numero Moléculas: {samples}\")\n",
        "print(f\"Primeira Molécula: {XYZ[0]}\")\n",
        "print(f\"Propriedades Mol[0]: {Y[0]}\")\n"
      ]
    },
    {
      "cell_type": "code",
      "execution_count": 9,
      "metadata": {
        "colab": {
          "base_uri": "https://localhost:8080/"
        },
        "id": "PR3MuNsMPf1q",
        "outputId": "5c098c31-d94e-4f71-ee5a-cb801e17b786"
      },
      "outputs": [
        {
          "output_type": "stream",
          "name": "stdout",
          "text": [
            "Menor Molécula: 3\n",
            "Maior Molécula: 29\n"
          ]
        }
      ],
      "source": [
        "natoms = np.array(natoms)\n",
        "min_atoms = np.min(natoms)\n",
        "max_atoms = np.max(natoms)\n",
        "print(f\"Menor Molécula: {min_atoms}\")\n",
        "print(f\"Maior Molécula: {max_atoms}\")"
      ]
    },
    {
      "cell_type": "markdown",
      "metadata": {
        "id": "fOAEWkqyJFDm"
      },
      "source": [
        "# Geração dos Descritores (DScribe)\n",
        "\n",
        "- Matriz de Coulomb (CM)\n",
        "- Atom-centered Symmetry Functions (ACSF)\n",
        "- Smooth Overlap of Atomic Positions (SOAP)\n",
        "- Many-body Tensor Representation (MBTR)\n"
      ]
    },
    {
      "cell_type": "code",
      "execution_count": 10,
      "metadata": {
        "id": "4c0c2fNHJPv7"
      },
      "outputs": [],
      "source": [
        "from ase import Atoms"
      ]
    },
    {
      "cell_type": "code",
      "execution_count": 11,
      "metadata": {
        "id": "67iWY6ShJSut"
      },
      "outputs": [],
      "source": [
        "from dscribe.descriptors import CoulombMatrix, ACSF, SOAP, MBTR\n",
        "\n",
        "mols = [Atoms(positions=coordinates, symbols=symbols) for (symbols, coordinates) in XYZ]\n",
        "\n",
        "# informa o tipo de descritor selecionado\n",
        "descriptor = 'CM' # CM, SOAP, MBTR, ACSF"
      ]
    },
    {
      "cell_type": "markdown",
      "metadata": {
        "id": "Y7MLaAetQMI9"
      },
      "source": [
        "## Matriz de Coulomb (CM)"
      ]
    },
    {
      "cell_type": "code",
      "execution_count": 12,
      "metadata": {
        "colab": {
          "base_uri": "https://localhost:8080/"
        },
        "id": "zbRvJiJ9Kz8i",
        "outputId": "c5000e35-007c-43db-9b50-d10572caf97f"
      },
      "outputs": [
        {
          "output_type": "stream",
          "name": "stdout",
          "text": [
            "(133885, 29)\n"
          ]
        }
      ],
      "source": [
        "if descriptor == 'CM':\n",
        "    cm = CoulombMatrix(n_atoms_max=max_atoms, permutation=\"eigenspectrum\")\n",
        "    X = cm.create(mols)\n",
        "    print(X.shape)"
      ]
    },
    {
      "cell_type": "markdown",
      "metadata": {
        "id": "nNKSPxoDRiGH"
      },
      "source": [
        "## Atom-centered Symmetry Functions (ACSF)\n",
        "\n",
        "---\n",
        "\n"
      ]
    },
    {
      "cell_type": "code",
      "execution_count": 13,
      "metadata": {
        "id": "HHNkY471RpTA"
      },
      "outputs": [],
      "source": [
        "if descriptor == 'ACSF':\n",
        "    acsf = ACSF(\n",
        "        species=[\"H\", \"C\", \"O\", \"N\", \"F\"],\n",
        "        r_cut=6.0,\n",
        "        g2_params=[[1, 1], [1, 2], [1, 3]],\n",
        "        g4_params=[[1, 1, 1], [1, 2, 1], [1, 1, -1], [1, 2, -1]],\n",
        "    )\n",
        "    centers = samples*[[0]]\n",
        "    X = acsf.create(mols, centers).reshape([samples,-1])\n",
        "    print(X.shape)"
      ]
    },
    {
      "cell_type": "markdown",
      "metadata": {
        "id": "LV-KUPnsQQlc"
      },
      "source": [
        "## Smooth Overlap of Atomic Positions (SOAP)"
      ]
    },
    {
      "cell_type": "code",
      "execution_count": 14,
      "metadata": {
        "id": "eyCdXhkRK3jh"
      },
      "outputs": [],
      "source": [
        "if descriptor == 'SOAP':\n",
        "    soap = SOAP(\n",
        "        species=[\"H\", \"C\", \"O\", \"N\", \"F\"],\n",
        "        periodic=False,\n",
        "        r_cut=6.0,\n",
        "        n_max=8,\n",
        "        l_max=6,\n",
        "    )\n",
        "\n",
        "    centers = samples*[[0]]\n",
        "    X = soap.create(mols, centers).reshape([samples, -1])\n",
        "    print(X.shape)"
      ]
    },
    {
      "cell_type": "markdown",
      "metadata": {
        "id": "472T-DiJRMy8"
      },
      "source": [
        "## Many-body Tensor Representation (MBTR)"
      ]
    },
    {
      "cell_type": "code",
      "execution_count": 15,
      "metadata": {
        "id": "KQB8RbDCRWSi"
      },
      "outputs": [],
      "source": [
        "if descriptor == 'MBTR':\n",
        "  mbtr = MBTR(\n",
        "      species=[\"H\", \"C\", \"O\", \"N\", \"F\"],\n",
        "      geometry={\"function\": \"distance\"},\n",
        "      grid={\"min\": 0.4, \"max\": 8, \"sigma\": 0.1, \"n\": 100},\n",
        "      periodic=False,\n",
        "      sparse=False,\n",
        "      normalization=\"l2\",\n",
        "  )\n",
        "\n",
        "  X = mbtr.create(mols)\n",
        "  print(X.shape)"
      ]
    },
    {
      "cell_type": "markdown",
      "metadata": {
        "id": "KLKClLjrygKn"
      },
      "source": [
        "# Preparação dos Dados\n"
      ]
    },
    {
      "cell_type": "code",
      "execution_count": 16,
      "metadata": {
        "id": "CEAv1ZJmU8sW"
      },
      "outputs": [],
      "source": [
        "from sklearn.utils import shuffle\n",
        "X, Y = shuffle(X, Y, random_state=0)"
      ]
    },
    {
      "cell_type": "markdown",
      "metadata": {
        "id": "LnrSdudeeBgB"
      },
      "source": [
        "**Q9 Dataset: Propriedades**\n",
        "\n",
        "0. Rotational constant A: GHz\n",
        "1. Rotational constant B: GHz\n",
        "2. Rotational constant C: GHz\n",
        "3. Dipole moment (μ): Debye (D)\n",
        "4. Isotropic polarizability (α): atomic units (a.u.)\n",
        "5. Energy of HOMO (ϵHOMO): Hartree (Ha)\n",
        "6. Energy of LUMO (ϵLUMO): Hartree (Ha)\n",
        "7. Gap (ϵgap): Hartree (Ha)\n",
        "8. Electronic spatial extent: atomic units (a.u.)\n",
        "9. Zero point vibrational energy (zpve): Hartree (Ha)\n",
        "10. Internal energy at 0 K (U0): Hartree (Ha)\n",
        "11. Internal energy at 298.15 K (U): Hartree (Ha)\n",
        "12. Enthalpy at 298.15 K (H): Hartree (Ha)\n",
        "13. Free energy at 298.15 K (G): Hartree (Ha)\n",
        "15. Heat capacity at 298.15 K (Cv): cal/mol·K\n",
        "\n"
      ]
    },
    {
      "cell_type": "code",
      "execution_count": 17,
      "metadata": {
        "colab": {
          "base_uri": "https://localhost:8080/",
          "height": 472
        },
        "id": "0BG5b8VO1A7d",
        "outputId": "a8b835c7-a187-475b-cb66-351e016fcbed"
      },
      "outputs": [
        {
          "output_type": "display_data",
          "data": {
            "text/plain": [
              "<Figure size 640x480 with 1 Axes>"
            ],
            "image/png": "[encoded data removed]"
          },
          "metadata": {}
        }
      ],
      "source": [
        "# Seleção da propriedade alvo\n",
        "att_alvo = 10 # 15 propriedades [0-14]\n",
        "Ys = Y[:,att_alvo].reshape(-1,1)\n",
        "plt.hist(Y[:,att_alvo], bins=50, edgecolor='black', alpha=0.7)\n",
        "plt.xlabel('Propriedade')\n",
        "plt.ylabel('Frequencia')\n",
        "plt.title('Distribuição da Propriedade Selecionada')\n",
        "plt.grid(True)\n",
        "plt.show()\n"
      ]
    },
    {
      "cell_type": "code",
      "execution_count": 18,
      "metadata": {
        "id": "eryeTB6JSxGP"
      },
      "outputs": [],
      "source": [
        "# Normalização, Split, DataLoader\n",
        "from sklearn.preprocessing import StandardScaler\n",
        "scaler = StandardScaler()\n",
        "Xn = scaler.fit_transform(X)"
      ]
    },
    {
      "cell_type": "code",
      "execution_count": 19,
      "metadata": {
        "id": "m9t3hx_-VCtt"
      },
      "outputs": [],
      "source": [
        "class Data(Dataset):\n",
        "    def __init__(self, data, targets):\n",
        "        self.data = data\n",
        "        self.targets = targets\n",
        "\n",
        "    def __len__(self):\n",
        "        return len(self.data)\n",
        "\n",
        "    def __getitem__(self, idx):\n",
        "        return torch.from_numpy(self.data[idx]).float(), torch.from_numpy(self.targets[idx]).float()\n",
        "\n",
        "dataset = Data(Xn,Ys)"
      ]
    },
    {
      "cell_type": "code",
      "execution_count": 20,
      "metadata": {
        "id": "Wq6c43ueHRvP"
      },
      "outputs": [],
      "source": [
        "batch_size = 256\n",
        "\n",
        "train_len = int(0.8 * len(dataset))\n",
        "val_len = int(0.1 * len(dataset))\n",
        "test_len = len(dataset) - train_len - val_len\n",
        "\n",
        "train_dataset, val_dataset, test_dataset = random_split(dataset, [train_len, val_len, test_len])\n",
        "\n",
        "train_loader = DataLoader(train_dataset, batch_size=batch_size, shuffle=True)\n",
        "val_loader = DataLoader(val_dataset, batch_size=batch_size, shuffle=False)\n",
        "test_loader = DataLoader(test_dataset, batch_size=batch_size, shuffle=False)"
      ]
    },
    {
      "cell_type": "markdown",
      "metadata": {
        "id": "KxWBYScQSZL9"
      },
      "source": [
        "# Rede Neural\n"
      ]
    },
    {
      "cell_type": "markdown",
      "metadata": {
        "id": "35CD53rZSt-C"
      },
      "source": [
        "## Modelo (Pytorch)"
      ]
    },
    {
      "cell_type": "code",
      "execution_count": 37,
      "metadata": {
        "id": "OT-v1W3CA5TF"
      },
      "outputs": [],
      "source": [
        "class MLP(nn.Module):\n",
        "    def __init__(self, input_dim, output_dim, layers, lr=0.001):\n",
        "        super(MLP, self).__init__()\n",
        "        all_layers = []\n",
        "        prev_dim = input_dim\n",
        "\n",
        "        # Camadas ocultas\n",
        "        for layer_dim in layers:\n",
        "            all_layers.append(nn.Linear(prev_dim, layer_dim))\n",
        "            all_layers.append(nn.ReLU())\n",
        "            prev_dim = layer_dim\n",
        "\n",
        "        # Camada de saída (ativação linear - regressão)\n",
        "        all_layers.append(nn.Linear(prev_dim, output_dim))\n",
        "\n",
        "        # Combinando as camadas\n",
        "        self.layers = nn.Sequential(*all_layers)\n",
        "\n",
        "        self.criterion = nn.L1Loss() #nn.MSELoss()\n",
        "        self.optimizer = optim.Adam(self.parameters(), lr=lr)\n",
        "\n",
        "    def forward(self, x):\n",
        "        return self.layers(x)\n",
        "\n",
        "    def train_model(self, dataloader):\n",
        "        self.train()\n",
        "        total_loss = 0\n",
        "        for batch_x, batch_y in dataloader:\n",
        "            batch_x, batch_y = batch_x.to(device), batch_y.to(device)\n",
        "            self.optimizer.zero_grad()\n",
        "            outputs = self(batch_x)\n",
        "            loss = self.criterion(outputs, batch_y)\n",
        "            loss.backward()\n",
        "            self.optimizer.step()\n",
        "            total_loss += loss.item()\n",
        "        return total_loss / len(dataloader)\n",
        "\n",
        "    def validate_model(self, dataloader):\n",
        "        self.eval()\n",
        "        total_loss = 0\n",
        "        with torch.no_grad():\n",
        "            for batch_x, batch_y in dataloader:\n",
        "                batch_x, batch_y = batch_x.to(device), batch_y.to(device)\n",
        "                outputs = self(batch_x)\n",
        "                loss = self.criterion(outputs, batch_y)\n",
        "                total_loss += loss.item()\n",
        "        return total_loss / len(dataloader)\n",
        "\n",
        "    def test_model(self, dataloader):\n",
        "        self.eval()\n",
        "        predictions = []\n",
        "        targets = []\n",
        "        total_loss = 0\n",
        "        with torch.no_grad():\n",
        "            for batch_x, batch_y in dataloader:\n",
        "                batch_x, batch_y = batch_x.to(device), batch_y.to(device)\n",
        "                outputs = self(batch_x)\n",
        "                loss = self.criterion(outputs, batch_y)\n",
        "                total_loss += loss.item()\n",
        "                predictions.extend(outputs.cpu().tolist())\n",
        "                targets.extend(batch_y.cpu().tolist())\n",
        "        return predictions, targets, total_loss / len(dataloader)\n",
        "\n",
        "    def predict(self, dataloader):\n",
        "        self.eval()\n",
        "        predictions = []\n",
        "        with torch.no_grad():\n",
        "            for batch_x, _ in dataloader:\n",
        "                batch_x = batch_x.to(device)\n",
        "                outputs = self(batch_x)\n",
        "                predictions.extend(outputs.cpu().tolist())\n",
        "        return predictions"
      ]
    },
    {
      "cell_type": "code",
      "execution_count": 38,
      "metadata": {
        "id": "MBJgmmiEtc84"
      },
      "outputs": [],
      "source": [
        "class EarlyStopping:\n",
        "    def __init__(self, patience=5, verbose=False, delta=0):\n",
        "        \"\"\"\n",
        "        Args:\n",
        "            patience (int): How long to wait after last time validation loss improved.\n",
        "            verbose (bool): If True, prints a message for each validation loss improvement.\n",
        "            delta (float): Minimum change in the monitored quantity to qualify as an improvement.\n",
        "        \"\"\"\n",
        "        self.patience = patience\n",
        "        self.verbose = verbose\n",
        "        self.counter = 0\n",
        "        self.best_score = None\n",
        "        self.early_stop = False\n",
        "        self.val_loss_min = float('inf')\n",
        "        self.delta = delta\n",
        "\n",
        "    def __call__(self, val_loss, model):\n",
        "\n",
        "        score = -val_loss\n",
        "\n",
        "        if self.best_score is None:\n",
        "            self.best_score = score\n",
        "            self.save_checkpoint(val_loss, model)\n",
        "        elif score < self.best_score + self.delta:\n",
        "            self.counter += 1\n",
        "            if self.verbose:\n",
        "                print(f'EarlyStopping counter: {self.counter} out of {self.patience}')\n",
        "            if self.counter >= self.patience:\n",
        "                self.early_stop = True\n",
        "        else:\n",
        "            self.best_score = score\n",
        "            self.save_checkpoint(val_loss, model)\n",
        "            self.counter = 0\n",
        "\n",
        "    def save_checkpoint(self, val_loss, model):\n",
        "        '''Saves model when validation loss decreases.'''\n",
        "        if self.verbose:\n",
        "            print(f'Validation loss decreased ({self.val_loss_min:.6f} --> {val_loss:.6f}).  Saving model ...')\n",
        "        torch.save(model.state_dict(), 'checkpoint.pt')\n",
        "        self.val_loss_min = val_loss\n"
      ]
    },
    {
      "cell_type": "markdown",
      "metadata": {
        "id": "9I3h9Lo95YGY"
      },
      "source": [
        "## Otimizando os Hiperparâmetros"
      ]
    },
    {
      "cell_type": "markdown",
      "metadata": {
        "id": "UiHEvNrPo5Bu"
      },
      "source": [
        "### Função Objetivo Optuna"
      ]
    },
    {
      "cell_type": "code",
      "execution_count": 39,
      "metadata": {
        "id": "eJPoq6IV5bc2"
      },
      "outputs": [],
      "source": [
        "def objective(trial):\n",
        "    early_stopping = EarlyStopping(patience=7, verbose=False)\n",
        "    # lr = trial.suggest_float('lr', 1e-5, 1e-1, log=True)\n",
        "    lr = 0.001\n",
        "    n_layers = trial.suggest_int('n_layers', 1, 3)\n",
        "    layers = []\n",
        "    for i in range(n_layers):\n",
        "        layers.append(trial.suggest_int(f'n_units_l{i+1}', 20, 400, 20))\n",
        "\n",
        "    model = MLP(input_dim=X.shape[1], output_dim=1, layers=layers, lr=lr).to(device)\n",
        "    optimizer = torch.optim.Adam(model.parameters(), lr=lr)\n",
        "    for epoch in range(2000): # máximo épocas\n",
        "        train_loss = model.train_model(train_loader)\n",
        "        val_loss = model.validate_model(val_loader)\n",
        "        early_stopping(val_loss, model)\n",
        "        if early_stopping.early_stop:\n",
        "            break\n",
        "    return val_loss\n"
      ]
    },
    {
      "cell_type": "markdown",
      "metadata": {
        "id": "avslFaZHo8c5"
      },
      "source": [
        "### Otimização\n",
        "\n",
        "**Cuidado:** O custo computacional pode ser elevado"
      ]
    },
    {
      "cell_type": "code",
      "execution_count": 40,
      "metadata": {
        "colab": {
          "base_uri": "https://localhost:8080/"
        },
        "id": "eZpIsU-Go82f",
        "outputId": "3dd70f22-65b0-442c-cc0b-82504b3135d2"
      },
      "outputs": [
        {
          "output_type": "stream",
          "name": "stderr",
          "text": [
            "[I 2024-11-08 02:13:46,025] A new study created in memory with name: no-name-e28927ec-5607-4b45-95c4-85c775bc7064\n",
            "<ipython-input-39-1ab0a2b2131c>:8: FutureWarning: suggest_int() got {'step'} as positional arguments but they were expected to be given as keyword arguments.\n",
            "  layers.append(trial.suggest_int(f'n_units_l{i+1}', 20, 400, 20))\n",
            "[I 2024-11-08 02:15:51,025] Trial 0 finished with value: 0.6483489544886463 and parameters: {'n_layers': 2, 'n_units_l1': 300, 'n_units_l2': 280}. Best is trial 0 with value: 0.6483489544886463.\n",
            "[I 2024-11-08 02:17:27,563] Trial 1 finished with value: 0.45926318528517235 and parameters: {'n_layers': 2, 'n_units_l1': 180, 'n_units_l2': 120}. Best is trial 1 with value: 0.45926318528517235.\n",
            "[I 2024-11-08 02:18:40,540] Trial 2 finished with value: 0.6801774670492928 and parameters: {'n_layers': 2, 'n_units_l1': 160, 'n_units_l2': 200}. Best is trial 1 with value: 0.45926318528517235.\n",
            "[I 2024-11-08 02:20:23,168] Trial 3 finished with value: 0.7229936089155808 and parameters: {'n_layers': 2, 'n_units_l1': 80, 'n_units_l2': 220}. Best is trial 1 with value: 0.45926318528517235.\n",
            "[I 2024-11-08 02:21:33,256] Trial 4 finished with value: 0.5025406895943407 and parameters: {'n_layers': 2, 'n_units_l1': 80, 'n_units_l2': 340}. Best is trial 1 with value: 0.45926318528517235.\n",
            "[I 2024-11-08 02:24:59,468] Trial 5 finished with value: 0.1434394601943358 and parameters: {'n_layers': 1, 'n_units_l1': 120}. Best is trial 5 with value: 0.1434394601943358.\n",
            "[I 2024-11-08 02:27:25,575] Trial 6 finished with value: 0.8943492983872036 and parameters: {'n_layers': 3, 'n_units_l1': 160, 'n_units_l2': 140, 'n_units_l3': 280}. Best is trial 5 with value: 0.1434394601943358.\n",
            "[I 2024-11-08 02:29:02,419] Trial 7 finished with value: 2.654534299418611 and parameters: {'n_layers': 3, 'n_units_l1': 60, 'n_units_l2': 120, 'n_units_l3': 380}. Best is trial 5 with value: 0.1434394601943358.\n",
            "[I 2024-11-08 02:30:45,335] Trial 8 finished with value: 0.22776520195996985 and parameters: {'n_layers': 1, 'n_units_l1': 300}. Best is trial 5 with value: 0.1434394601943358.\n",
            "[I 2024-11-08 02:34:21,148] Trial 9 finished with value: 0.4943146525688891 and parameters: {'n_layers': 2, 'n_units_l1': 220, 'n_units_l2': 320}. Best is trial 5 with value: 0.1434394601943358.\n"
          ]
        },
        {
          "output_type": "stream",
          "name": "stdout",
          "text": [
            "Número de tentativas:  10\n",
            "Melhor Resultado:\n",
            "MAE:  0.1434394601943358\n",
            "Hiperparâmetros: \n",
            "    n_layers: 1\n",
            "    n_units_l1: 120\n"
          ]
        }
      ],
      "source": [
        "study = optuna.create_study(direction='minimize')\n",
        "study.optimize(objective, n_trials=10)\n",
        "\n",
        "print('Número de tentativas: ', len(study.trials))\n",
        "print('Melhor Resultado:')\n",
        "trial = study.best_trial\n",
        "\n",
        "print('MAE: ', trial.value)\n",
        "print('Hiperparâmetros: ')\n",
        "for key, value in trial.params.items():\n",
        "    print(f'    {key}: {value}')\n"
      ]
    },
    {
      "cell_type": "markdown",
      "metadata": {
        "id": "CTcKgcEZStxX"
      },
      "source": [
        "## Treinamento"
      ]
    },
    {
      "cell_type": "code",
      "execution_count": 41,
      "metadata": {
        "colab": {
          "base_uri": "https://localhost:8080/",
          "height": 0
        },
        "id": "AVDVjaFSqpXY",
        "outputId": "2689a111-59d5-46e0-f8f3-cbf8f68dafeb"
      },
      "outputs": [
        {
          "output_type": "stream",
          "name": "stdout",
          "text": [
            "Época 10/1000, Train Loss: 6.2481, Validation Loss: 5.1628\n",
            "Época 20/1000, Train Loss: 0.3624, Validation Loss: 0.4206\n",
            "Época 30/1000, Train Loss: 0.2025, Validation Loss: 0.1855\n",
            "Época 40/1000, Train Loss: 0.1665, Validation Loss: 0.2299\n",
            "Época 50/1000, Train Loss: 0.1558, Validation Loss: 0.1319\n",
            "Época 60/1000, Train Loss: 0.1568, Validation Loss: 0.1444\n",
            "Early stopping\n"
          ]
        },
        {
          "output_type": "display_data",
          "data": {
            "text/plain": [
              "<Figure size 600x600 with 1 Axes>"
            ],
            "image/png": "[encoded data removed]"
          },
          "metadata": {}
        }
      ],
      "source": [
        "num_epochs = 1000\n",
        "learning_rate = 0.001\n",
        "# Definição do Modelo\n",
        "model = MLP(input_dim=X.shape[1], output_dim=1, layers=[180], lr=learning_rate).to(device)\n",
        "\n",
        "# Early Stop\n",
        "early_stopping = EarlyStopping(patience=20, verbose=False)\n",
        "\n",
        "tloss = []\n",
        "vloss = []\n",
        "for epoch in range(num_epochs):\n",
        "    train_loss = model.train_model(train_loader)\n",
        "    val_loss = model.validate_model(val_loader)\n",
        "    tloss.append(train_loss)\n",
        "    vloss.append(val_loss)\n",
        "    if (epoch+1) % 10 == 0:\n",
        "        print(f\"Época {epoch+1}/{num_epochs}, Train Loss: {train_loss:.4f}, Validation Loss: {val_loss:.4f}\")\n",
        "    early_stopping(val_loss, model)\n",
        "    if early_stopping.early_stop:\n",
        "        print(\"Early stopping\")\n",
        "        break\n",
        "\n",
        "fig, ax = plt.subplots(figsize=(6, 6))\n",
        "ax.set_title(\"Curva de Erro\")\n",
        "ax.plot(tloss,'blue', label='Treino')\n",
        "ax.plot(vloss,'red', label='Validação')\n",
        "ax.legend()\n",
        "ax.grid(True)\n",
        "plt.show()\n"
      ]
    },
    {
      "cell_type": "code",
      "execution_count": 42,
      "metadata": {
        "colab": {
          "base_uri": "https://localhost:8080/",
          "height": 0
        },
        "id": "hafA_hyYt7jc",
        "outputId": "ed0368a5-617e-402b-b4be-248a92e7511a"
      },
      "outputs": [
        {
          "output_type": "stream",
          "name": "stdout",
          "text": [
            "Erro de predição (MAE) no conjunto de teste: 0.15192239942415706\n"
          ]
        },
        {
          "output_type": "display_data",
          "data": {
            "text/plain": [
              "<Figure size 600x600 with 1 Axes>"
            ],
            "image/png": "[encoded data removed]"
          },
          "metadata": {}
        }
      ],
      "source": [
        "Yp, Yt, loss_test = model.test_model(test_loader)\n",
        "\n",
        "plt.figure(figsize=(6, 6))\n",
        "plt.scatter(Yp, Yt, alpha=0.6)\n",
        "\n",
        "max_val = max(max(Yt), max(Yp))\n",
        "min_val = min(min(Yt), min(Yp))\n",
        "plt.plot([min_val, max_val], [min_val, max_val], 'r', linestyle='--')\n",
        "\n",
        "plt.xlabel('Valor Real')\n",
        "plt.ylabel('Valor Predito')\n",
        "plt.title('Predito vs. Real')\n",
        "plt.grid(True)\n",
        "\n",
        "print(f\"Erro de predição (MAE) no conjunto de teste: {loss_test}\")\n",
        "\n",
        "plt.show()\n",
        "\n"
      ]
    },
    {
      "cell_type": "markdown",
      "metadata": {
        "id": "OJ5T2WVVBjaP"
      },
      "source": [
        "# Explicação com Shap"
      ]
    },
    {
      "cell_type": "code",
      "source": [
        "from chemXAI import Shap"
      ],
      "metadata": {
        "id": "n80SD5Z_sVsB"
      },
      "execution_count": 49,
      "outputs": []
    },
    {
      "cell_type": "code",
      "execution_count": 50,
      "metadata": {
        "colab": {
          "base_uri": "https://localhost:8080/",
          "height": 171,
          "referenced_widgets": [
            "7df072e70b024a5fb0d05988523127f5",
            "4262c023082b4a5ca0a47b3a82429473",
            "45b6293c3e58460e9ffda08b650156ed",
            "ed2d5e23276c4df7b2162eeeebcb6ca4",
            "d46ebcbdeb1045588f4e9e6d45c688af",
            "3dbdc3d07d1542709c044baa265a07e4",
            "bbd9215cbccd4f09b7e61be2f0bb9a40",
            "c37d92c1006a46f98f298c84feb67156",
            "c2f4617e2e7b49c2a362ef694757330a",
            "ca9d307519314f04ac6c1f2c3f4cc4e5",
            "69133720826d471c9483fc7fa507a15b"
          ]
        },
        "id": "XftykGIUBjaP",
        "outputId": "e1908bbc-c50a-4418-c6e3-415391ed14b7"
      },
      "outputs": [
        {
          "output_type": "stream",
          "name": "stderr",
          "text": [
            "WARNING:shap:Using 256 background data samples could cause slower run times. Consider using shap.sample(data, K) or shap.kmeans(data, K) to summarize the background as K samples.\n"
          ]
        },
        {
          "output_type": "stream",
          "name": "stdout",
          "text": [
            "Background shape: (256, 29)\n",
            "Test data shape: (256, 29)\n"
          ]
        },
        {
          "output_type": "display_data",
          "data": {
            "text/plain": [
              "  0%|          | 0/256 [00:00<?, ?it/s]"
            ],
            "application/vnd.jupyter.widget-view+json": {
              "version_major": 2,
              "version_minor": 0,
              "model_id": "7df072e70b024a5fb0d05988523127f5"
            }
          },
          "metadata": {}
        },
        {
          "output_type": "stream",
          "name": "stdout",
          "text": [
            "Local SHAP values shape: (29,)\n",
            "Local Explanation for Instance 0\n",
            "Global SHAP values shape: (29,)\n",
            "Global Feature Importance\n"
          ]
        }
      ],
      "source": [
        "# Inicializa a classe Shap com o modelo e DataLoaders\n",
        "shap_explainer = Shap(model, train_loader, test_loader, device)\n",
        "\n",
        "# Gera e exibe uma explicação local para a primeira instância no batch de teste\n",
        "local_explanation = shap_explainer.local_explanation(0)\n",
        "\n",
        "# Gera e exibe a explicação global\n",
        "global_explanation = shap_explainer.global_explanation()"
      ]
    },
    {
      "cell_type": "code",
      "source": [
        "print(local_explanation)"
      ],
      "metadata": {
        "colab": {
          "base_uri": "https://localhost:8080/"
        },
        "id": "_dgLW6S7hj3w",
        "outputId": "6d22ee01-9d33-4cee-fc6f-679b19bf4f94"
      },
      "execution_count": 45,
      "outputs": [
        {
          "output_type": "stream",
          "name": "stdout",
          "text": [
            "    Feature Index  SHAP Value\n",
            "0              11    0.101039\n",
            "1              15    0.037367\n",
            "2              14    0.021114\n",
            "3              16    0.017514\n",
            "4              13    0.010954\n",
            "5              12    0.008795\n",
            "6              27    0.000000\n",
            "7              26    0.000000\n",
            "8              22    0.000000\n",
            "9              18    0.000000\n",
            "10             28    0.000000\n",
            "11              9    0.000000\n",
            "12             25   -0.001596\n",
            "13             23   -0.003253\n",
            "14             10   -0.003275\n",
            "15             21   -0.005699\n",
            "16             20   -0.010531\n",
            "17             24   -0.010696\n",
            "18             19   -0.018066\n",
            "19             17   -0.098737\n",
            "20              6   -0.661669\n",
            "21              7   -0.733076\n",
            "22              8   -1.286436\n",
            "23              0   -2.004534\n",
            "24              5   -2.083654\n",
            "25              4   -5.671738\n",
            "26              2  -10.643402\n",
            "27              3  -11.446736\n",
            "28              1  -28.761397\n"
          ]
        }
      ]
    },
    {
      "cell_type": "code",
      "source": [
        "print(global_explanation)"
      ],
      "metadata": {
        "colab": {
          "base_uri": "https://localhost:8080/"
        },
        "id": "v31F00evhqJy",
        "outputId": "8d06dd37-66b3-43f5-afe0-412f54b2f52f"
      },
      "execution_count": 46,
      "outputs": [
        {
          "output_type": "stream",
          "name": "stdout",
          "text": [
            "    Feature Index  Importance\n",
            "0               0   11.795541\n",
            "1               1    7.614298\n",
            "2               2    7.213458\n",
            "3               3    5.139980\n",
            "4               4    3.223439\n",
            "5               5    2.533395\n",
            "6               6    2.148023\n",
            "7               8    1.783673\n",
            "8               7    1.746498\n",
            "9              11    0.140051\n",
            "10             13    0.120605\n",
            "11             14    0.108951\n",
            "12             12    0.106631\n",
            "13             10    0.073090\n",
            "14             15    0.050622\n",
            "15             16    0.049540\n",
            "16             19    0.040161\n",
            "17             17    0.028919\n",
            "18             20    0.024302\n",
            "19              9    0.022307\n",
            "20             22    0.018260\n",
            "21             21    0.017510\n",
            "22             23    0.012825\n",
            "23             18    0.011694\n",
            "24             24    0.008307\n",
            "25             25    0.005064\n",
            "26             26    0.003091\n",
            "27             27    0.000000\n",
            "28             28    0.000000\n"
          ]
        }
      ]
    },
    {
      "cell_type": "markdown",
      "metadata": {
        "id": "HDLwbbGwSbOD"
      },
      "source": [
        "# Experimentos (Sugestões)\n",
        "\n",
        "\n",
        "\n"
      ]
    },
    {
      "cell_type": "markdown",
      "metadata": {
        "id": "aQvrlGWch6Ta"
      },
      "source": [
        "\n",
        "1. Generalizar para todos os Descritores\n",
        "2. Fazer a adaptação para o LIME\n"
      ]
    },
    {
      "cell_type": "code",
      "source": [],
      "metadata": {
        "id": "Bv27SFrFBsBP"
      },
      "execution_count": null,
      "outputs": []
    }
  ],
  "metadata": {
    "accelerator": "GPU",
    "colab": {
      "gpuType": "T4",
      "provenance": []
    },
    "kernelspec": {
      "display_name": "venv",
      "language": "python",
      "name": "python3"
    },
    "language_info": {
      "codemirror_mode": {
        "name": "ipython",
        "version": 3
      },
      "file_extension": ".py",
      "mimetype": "text/x-python",
      "name": "python",
      "nbconvert_exporter": "python",
      "pygments_lexer": "ipython3",
      "version": "3.12.1"
    },
    "widgets": {
      "application/vnd.jupyter.widget-state+json": {
        "7df072e70b024a5fb0d05988523127f5": {
          "model_module": "@jupyter-widgets/controls",
          "model_name": "HBoxModel",
          "model_module_version": "1.5.0",
          "state": {
            "_dom_classes": [],
            "_model_module": "@jupyter-widgets/controls",
            "_model_module_version": "1.5.0",
            "_model_name": "HBoxModel",
            "_view_count": null,
            "_view_module": "@jupyter-widgets/controls",
            "_view_module_version": "1.5.0",
            "_view_name": "HBoxView",
            "box_style": "",
            "children": [
              "IPY_MODEL_4262c023082b4a5ca0a47b3a82429473",
              "IPY_MODEL_45b6293c3e58460e9ffda08b650156ed",
              "IPY_MODEL_ed2d5e23276c4df7b2162eeeebcb6ca4"
            ],
            "layout": "IPY_MODEL_d46ebcbdeb1045588f4e9e6d45c688af"
          }
        },
        "4262c023082b4a5ca0a47b3a82429473": {
          "model_module": "@jupyter-widgets/controls",
          "model_name": "HTMLModel",
          "model_module_version": "1.5.0",
          "state": {
            "_dom_classes": [],
            "_model_module": "@jupyter-widgets/controls",
            "_model_module_version": "1.5.0",
            "_model_name": "HTMLModel",
            "_view_count": null,
            "_view_module": "@jupyter-widgets/controls",
            "_view_module_version": "1.5.0",
            "_view_name": "HTMLView",
            "description": "",
            "description_tooltip": null,
            "layout": "IPY_MODEL_3dbdc3d07d1542709c044baa265a07e4",
            "placeholder": "​",
            "style": "IPY_MODEL_bbd9215cbccd4f09b7e61be2f0bb9a40",
            "value": "100%"
          }
        },
        "45b6293c3e58460e9ffda08b650156ed": {
          "model_module": "@jupyter-widgets/controls",
          "model_name": "FloatProgressModel",
          "model_module_version": "1.5.0",
          "state": {
            "_dom_classes": [],
            "_model_module": "@jupyter-widgets/controls",
            "_model_module_version": "1.5.0",
            "_model_name": "FloatProgressModel",
            "_view_count": null,
            "_view_module": "@jupyter-widgets/controls",
            "_view_module_version": "1.5.0",
            "_view_name": "ProgressView",
            "bar_style": "success",
            "description": "",
            "description_tooltip": null,
            "layout": "IPY_MODEL_c37d92c1006a46f98f298c84feb67156",
            "max": 256,
            "min": 0,
            "orientation": "horizontal",
            "style": "IPY_MODEL_c2f4617e2e7b49c2a362ef694757330a",
            "value": 256
          }
        },
        "ed2d5e23276c4df7b2162eeeebcb6ca4": {
          "model_module": "@jupyter-widgets/controls",
          "model_name": "HTMLModel",
          "model_module_version": "1.5.0",
          "state": {
            "_dom_classes": [],
            "_model_module": "@jupyter-widgets/controls",
            "_model_module_version": "1.5.0",
            "_model_name": "HTMLModel",
            "_view_count": null,
            "_view_module": "@jupyter-widgets/controls",
            "_view_module_version": "1.5.0",
            "_view_name": "HTMLView",
            "description": "",
            "description_tooltip": null,
            "layout": "IPY_MODEL_ca9d307519314f04ac6c1f2c3f4cc4e5",
            "placeholder": "​",
            "style": "IPY_MODEL_69133720826d471c9483fc7fa507a15b",
            "value": " 256/256 [15:28&lt;00:00,  3.40s/it]"
          }
        },
        "d46ebcbdeb1045588f4e9e6d45c688af": {
          "model_module": "@jupyter-widgets/base",
          "model_name": "LayoutModel",
          "model_module_version": "1.2.0",
          "state": {
            "_model_module": "@jupyter-widgets/base",
            "_model_module_version": "1.2.0",
            "_model_name": "LayoutModel",
            "_view_count": null,
            "_view_module": "@jupyter-widgets/base",
            "_view_module_version": "1.2.0",
            "_view_name": "LayoutView",
            "align_content": null,
            "align_items": null,
            "align_self": null,
            "border": null,
            "bottom": null,
            "display": null,
            "flex": null,
            "flex_flow": null,
            "grid_area": null,
            "grid_auto_columns": null,
            "grid_auto_flow": null,
            "grid_auto_rows": null,
            "grid_column": null,
            "grid_gap": null,
            "grid_row": null,
            "grid_template_areas": null,
            "grid_template_columns": null,
            "grid_template_rows": null,
            "height": null,
            "justify_content": null,
            "justify_items": null,
            "left": null,
            "margin": null,
            "max_height": null,
            "max_width": null,
            "min_height": null,
            "min_width": null,
            "object_fit": null,
            "object_position": null,
            "order": null,
            "overflow": null,
            "overflow_x": null,
            "overflow_y": null,
            "padding": null,
            "right": null,
            "top": null,
            "visibility": null,
            "width": null
          }
        },
        "3dbdc3d07d1542709c044baa265a07e4": {
          "model_module": "@jupyter-widgets/base",
          "model_name": "LayoutModel",
          "model_module_version": "1.2.0",
          "state": {
            "_model_module": "@jupyter-widgets/base",
            "_model_module_version": "1.2.0",
            "_model_name": "LayoutModel",
            "_view_count": null,
            "_view_module": "@jupyter-widgets/base",
            "_view_module_version": "1.2.0",
            "_view_name": "LayoutView",
            "align_content": null,
            "align_items": null,
            "align_self": null,
            "border": null,
            "bottom": null,
            "display": null,
            "flex": null,
            "flex_flow": null,
            "grid_area": null,
            "grid_auto_columns": null,
            "grid_auto_flow": null,
            "grid_auto_rows": null,
            "grid_column": null,
            "grid_gap": null,
            "grid_row": null,
            "grid_template_areas": null,
            "grid_template_columns": null,
            "grid_template_rows": null,
            "height": null,
            "justify_content": null,
            "justify_items": null,
            "left": null,
            "margin": null,
            "max_height": null,
            "max_width": null,
            "min_height": null,
            "min_width": null,
            "object_fit": null,
            "object_position": null,
            "order": null,
            "overflow": null,
            "overflow_x": null,
            "overflow_y": null,
            "padding": null,
            "right": null,
            "top": null,
            "visibility": null,
            "width": null
          }
        },
        "bbd9215cbccd4f09b7e61be2f0bb9a40": {
          "model_module": "@jupyter-widgets/controls",
          "model_name": "DescriptionStyleModel",
          "model_module_version": "1.5.0",
          "state": {
            "_model_module": "@jupyter-widgets/controls",
            "_model_module_version": "1.5.0",
            "_model_name": "DescriptionStyleModel",
            "_view_count": null,
            "_view_module": "@jupyter-widgets/base",
            "_view_module_version": "1.2.0",
            "_view_name": "StyleView",
            "description_width": ""
          }
        },
        "c37d92c1006a46f98f298c84feb67156": {
          "model_module": "@jupyter-widgets/base",
          "model_name": "LayoutModel",
          "model_module_version": "1.2.0",
          "state": {
            "_model_module": "@jupyter-widgets/base",
            "_model_module_version": "1.2.0",
            "_model_name": "LayoutModel",
            "_view_count": null,
            "_view_module": "@jupyter-widgets/base",
            "_view_module_version": "1.2.0",
            "_view_name": "LayoutView",
            "align_content": null,
            "align_items": null,
            "align_self": null,
            "border": null,
            "bottom": null,
            "display": null,
            "flex": null,
            "flex_flow": null,
            "grid_area": null,
            "grid_auto_columns": null,
            "grid_auto_flow": null,
            "grid_auto_rows": null,
            "grid_column": null,
            "grid_gap": null,
            "grid_row": null,
            "grid_template_areas": null,
            "grid_template_columns": null,
            "grid_template_rows": null,
            "height": null,
            "justify_content": null,
            "justify_items": null,
            "left": null,
            "margin": null,
            "max_height": null,
            "max_width": null,
            "min_height": null,
            "min_width": null,
            "object_fit": null,
            "object_position": null,
            "order": null,
            "overflow": null,
            "overflow_x": null,
            "overflow_y": null,
            "padding": null,
            "right": null,
            "top": null,
            "visibility": null,
            "width": null
          }
        },
        "c2f4617e2e7b49c2a362ef694757330a": {
          "model_module": "@jupyter-widgets/controls",
          "model_name": "ProgressStyleModel",
          "model_module_version": "1.5.0",
          "state": {
            "_model_module": "@jupyter-widgets/controls",
            "_model_module_version": "1.5.0",
            "_model_name": "ProgressStyleModel",
            "_view_count": null,
            "_view_module": "@jupyter-widgets/base",
            "_view_module_version": "1.2.0",
            "_view_name": "StyleView",
            "bar_color": null,
            "description_width": ""
          }
        },
        "ca9d307519314f04ac6c1f2c3f4cc4e5": {
          "model_module": "@jupyter-widgets/base",
          "model_name": "LayoutModel",
          "model_module_version": "1.2.0",
          "state": {
            "_model_module": "@jupyter-widgets/base",
            "_model_module_version": "1.2.0",
            "_model_name": "LayoutModel",
            "_view_count": null,
            "_view_module": "@jupyter-widgets/base",
            "_view_module_version": "1.2.0",
            "_view_name": "LayoutView",
            "align_content": null,
            "align_items": null,
            "align_self": null,
            "border": null,
            "bottom": null,
            "display": null,
            "flex": null,
            "flex_flow": null,
            "grid_area": null,
            "grid_auto_columns": null,
            "grid_auto_flow": null,
            "grid_auto_rows": null,
            "grid_column": null,
            "grid_gap": null,
            "grid_row": null,
            "grid_template_areas": null,
            "grid_template_columns": null,
            "grid_template_rows": null,
            "height": null,
            "justify_content": null,
            "justify_items": null,
            "left": null,
            "margin": null,
            "max_height": null,
            "max_width": null,
            "min_height": null,
            "min_width": null,
            "object_fit": null,
            "object_position": null,
            "order": null,
            "overflow": null,
            "overflow_x": null,
            "overflow_y": null,
            "padding": null,
            "right": null,
            "top": null,
            "visibility": null,
            "width": null
          }
        },
        "69133720826d471c9483fc7fa507a15b": {
          "model_module": "@jupyter-widgets/controls",
          "model_name": "DescriptionStyleModel",
          "model_module_version": "1.5.0",
          "state": {
            "_model_module": "@jupyter-widgets/controls",
            "_model_module_version": "1.5.0",
            "_model_name": "DescriptionStyleModel",
            "_view_count": null,
            "_view_module": "@jupyter-widgets/base",
            "_view_module_version": "1.2.0",
            "_view_name": "StyleView",
            "description_width": ""
          }
        }
      }
    }
  },
  "nbformat": 4,
  "nbformat_minor": 0
}