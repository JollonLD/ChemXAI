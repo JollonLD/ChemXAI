{
  "cells": [
    {
      "cell_type": "markdown",
      "metadata": {
        "id": "xWtCqjkXQHdy"
      },
      "source": [
        "# Instalação de Pacotes"
      ]
    },
    {
      "cell_type": "code",
      "execution_count": 1,
      "metadata": {
        "colab": {
          "base_uri": "https://localhost:8080/"
        },
        "id": "Xl318kD9b0ii",
        "outputId": "97822deb-7d9b-407d-ed12-4d84a6e8fcec"
      },
      "outputs": [
        {
          "output_type": "stream",
          "name": "stdout",
          "text": [
            "Collecting absl-py==2.1.0 (from -r requirements.txt (line 1))\n",
            "  Downloading absl_py-2.1.0-py3-none-any.whl.metadata (2.3 kB)\n",
            "Collecting alembic==1.14.0 (from -r requirements.txt (line 2))\n",
            "  Downloading alembic-1.14.0-py3-none-any.whl.metadata (7.4 kB)\n",
            "Collecting ase==3.23.0 (from -r requirements.txt (line 3))\n",
            "  Downloading ase-3.23.0-py3-none-any.whl.metadata (3.8 kB)\n",
            "Collecting asttokens==2.4.1 (from -r requirements.txt (line 4))\n",
            "  Downloading asttokens-2.4.1-py2.py3-none-any.whl.metadata (5.2 kB)\n",
            "Requirement already satisfied: astunparse==1.6.3 in /usr/local/lib/python3.10/dist-packages (from -r requirements.txt (line 5)) (1.6.3)\n",
            "Requirement already satisfied: certifi==2024.8.30 in /usr/local/lib/python3.10/dist-packages (from -r requirements.txt (line 6)) (2024.8.30)\n",
            "Requirement already satisfied: charset-normalizer==3.4.0 in /usr/local/lib/python3.10/dist-packages (from -r requirements.txt (line 7)) (3.4.0)\n",
            "Collecting cloudpickle==3.0.0 (from -r requirements.txt (line 8))\n",
            "  Downloading cloudpickle-3.0.0-py3-none-any.whl.metadata (7.0 kB)\n",
            "Collecting colorama==0.4.6 (from -r requirements.txt (line 9))\n",
            "  Downloading colorama-0.4.6-py2.py3-none-any.whl.metadata (17 kB)\n",
            "Collecting colorlog==6.9.0 (from -r requirements.txt (line 10))\n",
            "  Downloading colorlog-6.9.0-py3-none-any.whl.metadata (10 kB)\n",
            "Collecting comm==0.2.2 (from -r requirements.txt (line 11))\n",
            "  Downloading comm-0.2.2-py3-none-any.whl.metadata (3.7 kB)\n",
            "Collecting contourpy==1.3.0 (from -r requirements.txt (line 12))\n",
            "  Downloading contourpy-1.3.0-cp310-cp310-manylinux_2_17_x86_64.manylinux2014_x86_64.whl.metadata (5.4 kB)\n",
            "Requirement already satisfied: cycler==0.12.1 in /usr/local/lib/python3.10/dist-packages (from -r requirements.txt (line 13)) (0.12.1)\n",
            "Collecting debugpy==1.8.6 (from -r requirements.txt (line 14))\n",
            "  Downloading debugpy-1.8.6-cp310-cp310-manylinux_2_5_x86_64.manylinux1_x86_64.manylinux_2_17_x86_64.manylinux2014_x86_64.whl.metadata (1.1 kB)\n",
            "Collecting decorator==5.1.1 (from -r requirements.txt (line 15))\n",
            "  Downloading decorator-5.1.1-py3-none-any.whl.metadata (4.0 kB)\n",
            "Collecting deepchem==2.5.0 (from -r requirements.txt (line 16))\n",
            "  Downloading deepchem-2.5.0-py3-none-any.whl.metadata (1.1 kB)\n",
            "Collecting dscribe==2.1.1 (from -r requirements.txt (line 17))\n",
            "  Downloading dscribe-2.1.1-cp310-cp310-manylinux_2_17_x86_64.manylinux2014_x86_64.whl.metadata (18 kB)\n",
            "Collecting executing==2.1.0 (from -r requirements.txt (line 18))\n",
            "  Downloading executing-2.1.0-py2.py3-none-any.whl.metadata (8.9 kB)\n",
            "Requirement already satisfied: filelock==3.16.1 in /usr/local/lib/python3.10/dist-packages (from -r requirements.txt (line 19)) (3.16.1)\n",
            "Requirement already satisfied: flatbuffers==24.3.25 in /usr/local/lib/python3.10/dist-packages (from -r requirements.txt (line 20)) (24.3.25)\n",
            "Collecting fonttools==4.54.1 (from -r requirements.txt (line 21))\n",
            "  Downloading fonttools-4.54.1-cp310-cp310-manylinux_2_17_x86_64.manylinux2014_x86_64.whl.metadata (163 kB)\n",
            "\u001b[2K     \u001b[90m━━━━━━━━━━━━━━━━━━━━━━━━━━━━━━━━━━━━━━━━\u001b[0m \u001b[32m163.7/163.7 kB\u001b[0m \u001b[31m8.2 MB/s\u001b[0m eta \u001b[36m0:00:00\u001b[0m\n",
            "\u001b[?25hRequirement already satisfied: fsspec==2024.10.0 in /usr/local/lib/python3.10/dist-packages (from -r requirements.txt (line 22)) (2024.10.0)\n",
            "Requirement already satisfied: gast==0.6.0 in /usr/local/lib/python3.10/dist-packages (from -r requirements.txt (line 23)) (0.6.0)\n",
            "Requirement already satisfied: google-pasta==0.2.0 in /usr/local/lib/python3.10/dist-packages (from -r requirements.txt (line 24)) (0.2.0)\n",
            "Requirement already satisfied: greenlet==3.1.1 in /usr/local/lib/python3.10/dist-packages (from -r requirements.txt (line 25)) (3.1.1)\n",
            "Collecting grpcio==1.66.2 (from -r requirements.txt (line 26))\n",
            "  Downloading grpcio-1.66.2-cp310-cp310-manylinux_2_17_x86_64.manylinux2014_x86_64.whl.metadata (3.9 kB)\n",
            "Requirement already satisfied: h5py==3.12.1 in /usr/local/lib/python3.10/dist-packages (from -r requirements.txt (line 27)) (3.12.1)\n",
            "Requirement already satisfied: idna==3.10 in /usr/local/lib/python3.10/dist-packages (from -r requirements.txt (line 28)) (3.10)\n",
            "Requirement already satisfied: imageio==2.36.0 in /usr/local/lib/python3.10/dist-packages (from -r requirements.txt (line 29)) (2.36.0)\n",
            "Collecting ipykernel==6.29.5 (from -r requirements.txt (line 30))\n",
            "  Downloading ipykernel-6.29.5-py3-none-any.whl.metadata (6.3 kB)\n",
            "Collecting ipython==8.28.0 (from -r requirements.txt (line 31))\n",
            "  Downloading ipython-8.28.0-py3-none-any.whl.metadata (5.0 kB)\n",
            "Collecting jedi==0.19.1 (from -r requirements.txt (line 32))\n",
            "  Downloading jedi-0.19.1-py2.py3-none-any.whl.metadata (22 kB)\n",
            "Requirement already satisfied: Jinja2==3.1.4 in /usr/local/lib/python3.10/dist-packages (from -r requirements.txt (line 33)) (3.1.4)\n",
            "Requirement already satisfied: joblib==1.4.2 in /usr/local/lib/python3.10/dist-packages (from -r requirements.txt (line 34)) (1.4.2)\n",
            "Collecting jupyter_client==8.6.3 (from -r requirements.txt (line 35))\n",
            "  Downloading jupyter_client-8.6.3-py3-none-any.whl.metadata (8.3 kB)\n",
            "Requirement already satisfied: jupyter_core==5.7.2 in /usr/local/lib/python3.10/dist-packages (from -r requirements.txt (line 36)) (5.7.2)\n",
            "Collecting keras==3.6.0 (from -r requirements.txt (line 37))\n",
            "  Downloading keras-3.6.0-py3-none-any.whl.metadata (5.8 kB)\n",
            "Requirement already satisfied: kiwisolver==1.4.7 in /usr/local/lib/python3.10/dist-packages (from -r requirements.txt (line 38)) (1.4.7)\n",
            "Requirement already satisfied: lazy_loader==0.4 in /usr/local/lib/python3.10/dist-packages (from -r requirements.txt (line 39)) (0.4)\n",
            "Requirement already satisfied: libclang==18.1.1 in /usr/local/lib/python3.10/dist-packages (from -r requirements.txt (line 40)) (18.1.1)\n",
            "Collecting lime==0.2.0.1 (from -r requirements.txt (line 41))\n",
            "  Downloading lime-0.2.0.1.tar.gz (275 kB)\n",
            "\u001b[2K     \u001b[90m━━━━━━━━━━━━━━━━━━━━━━━━━━━━━━━━━━━━━━━━\u001b[0m \u001b[32m275.7/275.7 kB\u001b[0m \u001b[31m26.7 MB/s\u001b[0m eta \u001b[36m0:00:00\u001b[0m\n",
            "\u001b[?25h  Preparing metadata (setup.py) ... \u001b[?25l\u001b[?25hdone\n",
            "Requirement already satisfied: llvmlite==0.43.0 in /usr/local/lib/python3.10/dist-packages (from -r requirements.txt (line 42)) (0.43.0)\n",
            "Collecting Mako==1.3.6 (from -r requirements.txt (line 43))\n",
            "  Downloading Mako-1.3.6-py3-none-any.whl.metadata (2.9 kB)\n",
            "Requirement already satisfied: Markdown==3.7 in /usr/local/lib/python3.10/dist-packages (from -r requirements.txt (line 44)) (3.7)\n",
            "Requirement already satisfied: markdown-it-py==3.0.0 in /usr/local/lib/python3.10/dist-packages (from -r requirements.txt (line 45)) (3.0.0)\n",
            "Collecting MarkupSafe==3.0.1 (from -r requirements.txt (line 46))\n",
            "  Downloading MarkupSafe-3.0.1-cp310-cp310-manylinux_2_17_x86_64.manylinux2014_x86_64.whl.metadata (4.0 kB)\n",
            "Collecting matplotlib==3.9.2 (from -r requirements.txt (line 47))\n",
            "  Downloading matplotlib-3.9.2-cp310-cp310-manylinux_2_17_x86_64.manylinux2014_x86_64.whl.metadata (11 kB)\n",
            "Requirement already satisfied: matplotlib-inline==0.1.7 in /usr/local/lib/python3.10/dist-packages (from -r requirements.txt (line 48)) (0.1.7)\n",
            "Requirement already satisfied: mdurl==0.1.2 in /usr/local/lib/python3.10/dist-packages (from -r requirements.txt (line 49)) (0.1.2)\n",
            "Requirement already satisfied: ml-dtypes==0.4.1 in /usr/local/lib/python3.10/dist-packages (from -r requirements.txt (line 50)) (0.4.1)\n",
            "Requirement already satisfied: mpmath==1.3.0 in /usr/local/lib/python3.10/dist-packages (from -r requirements.txt (line 51)) (1.3.0)\n",
            "Requirement already satisfied: namex==0.0.8 in /usr/local/lib/python3.10/dist-packages (from -r requirements.txt (line 52)) (0.0.8)\n",
            "Requirement already satisfied: nest-asyncio==1.6.0 in /usr/local/lib/python3.10/dist-packages (from -r requirements.txt (line 53)) (1.6.0)\n",
            "Requirement already satisfied: networkx==3.4.2 in /usr/local/lib/python3.10/dist-packages (from -r requirements.txt (line 54)) (3.4.2)\n",
            "Requirement already satisfied: numba==0.60.0 in /usr/local/lib/python3.10/dist-packages (from -r requirements.txt (line 55)) (0.60.0)\n",
            "Requirement already satisfied: numpy==1.26.4 in /usr/local/lib/python3.10/dist-packages (from -r requirements.txt (line 56)) (1.26.4)\n",
            "Requirement already satisfied: opt_einsum==3.4.0 in /usr/local/lib/python3.10/dist-packages (from -r requirements.txt (line 57)) (3.4.0)\n",
            "Collecting optree==0.13.0 (from -r requirements.txt (line 58))\n",
            "  Downloading optree-0.13.0-cp310-cp310-manylinux_2_17_x86_64.manylinux2014_x86_64.whl.metadata (47 kB)\n",
            "\u001b[2K     \u001b[90m━━━━━━━━━━━━━━━━━━━━━━━━━━━━━━━━━━━━━━━━\u001b[0m \u001b[32m47.8/47.8 kB\u001b[0m \u001b[31m4.9 MB/s\u001b[0m eta \u001b[36m0:00:00\u001b[0m\n",
            "\u001b[?25hCollecting optuna==4.0.0 (from -r requirements.txt (line 59))\n",
            "  Downloading optuna-4.0.0-py3-none-any.whl.metadata (16 kB)\n",
            "Collecting packaging==24.1 (from -r requirements.txt (line 60))\n",
            "  Downloading packaging-24.1-py3-none-any.whl.metadata (3.2 kB)\n",
            "Collecting pandas==2.2.3 (from -r requirements.txt (line 61))\n",
            "  Downloading pandas-2.2.3-cp310-cp310-manylinux_2_17_x86_64.manylinux2014_x86_64.whl.metadata (89 kB)\n",
            "\u001b[2K     \u001b[90m━━━━━━━━━━━━━━━━━━━━━━━━━━━━━━━━━━━━━━━━\u001b[0m \u001b[32m89.9/89.9 kB\u001b[0m \u001b[31m8.9 MB/s\u001b[0m eta \u001b[36m0:00:00\u001b[0m\n",
            "\u001b[?25hRequirement already satisfied: parso==0.8.4 in /usr/local/lib/python3.10/dist-packages (from -r requirements.txt (line 62)) (0.8.4)\n",
            "Collecting pillow==10.4.0 (from -r requirements.txt (line 63))\n",
            "  Downloading pillow-10.4.0-cp310-cp310-manylinux_2_28_x86_64.whl.metadata (9.2 kB)\n",
            "Requirement already satisfied: platformdirs==4.3.6 in /usr/local/lib/python3.10/dist-packages (from -r requirements.txt (line 64)) (4.3.6)\n",
            "Requirement already satisfied: prompt_toolkit==3.0.48 in /usr/local/lib/python3.10/dist-packages (from -r requirements.txt (line 65)) (3.0.48)\n",
            "Requirement already satisfied: protobuf==4.25.5 in /usr/local/lib/python3.10/dist-packages (from -r requirements.txt (line 66)) (4.25.5)\n",
            "Collecting psutil==6.0.0 (from -r requirements.txt (line 67))\n",
            "  Downloading psutil-6.0.0-cp36-abi3-manylinux_2_12_x86_64.manylinux2010_x86_64.manylinux_2_17_x86_64.manylinux2014_x86_64.whl.metadata (21 kB)\n",
            "Collecting pure_eval==0.2.3 (from -r requirements.txt (line 68))\n",
            "  Downloading pure_eval-0.2.3-py3-none-any.whl.metadata (6.3 kB)\n",
            "Requirement already satisfied: Pygments==2.18.0 in /usr/local/lib/python3.10/dist-packages (from -r requirements.txt (line 69)) (2.18.0)\n",
            "Collecting pyparsing==3.1.4 (from -r requirements.txt (line 70))\n",
            "  Downloading pyparsing-3.1.4-py3-none-any.whl.metadata (5.1 kB)\n",
            "Collecting python-dateutil==2.9.0.post0 (from -r requirements.txt (line 71))\n",
            "  Downloading python_dateutil-2.9.0.post0-py2.py3-none-any.whl.metadata (8.4 kB)\n",
            "Requirement already satisfied: pytz==2024.2 in /usr/local/lib/python3.10/dist-packages (from -r requirements.txt (line 72)) (2024.2)\n",
            "\u001b[31mERROR: Ignored the following versions that require a different python version: 2.6.0.dev20220112162333 Requires-Python >=3.7,<3.10; 2.6.0.dev20220114040838 Requires-Python >=3.7,<3.10; 2.6.0.dev20220118010103 Requires-Python >=3.7,<3.10; 2.6.0.dev20220118135955 Requires-Python >=3.7,<3.10; 2.6.1 Requires-Python >=3.7,<3.10; 2.6.1.dev20220118213325 Requires-Python >=3.7,<3.10; 2.6.1.dev20220121040525 Requires-Python >=3.7,<3.10; 2.6.1.dev20220121191633 Requires-Python >=3.7,<3.10; 2.6.1.dev20220127040719 Requires-Python >=3.7,<3.10; 2.6.1.dev20220127201742 Requires-Python >=3.7,<3.10; 2.6.1.dev20220208165000 Requires-Python >=3.7,<3.10; 2.6.1.dev20220210194849 Requires-Python >=3.7,<3.10; 2.6.1.dev20220211203047 Requires-Python >=3.7,<3.10; 2.6.1.dev20220218060535 Requires-Python >=3.7,<3.10; 2.6.1.dev20220218194027 Requires-Python >=3.7,<3.10; 2.6.1.dev20220219162715 Requires-Python >=3.7,<3.10; 2.6.1.dev20220222165950 Requires-Python >=3.7,<3.10; 2.6.1.dev20220225175824 Requires-Python >=3.7,<3.10; 2.6.1.dev20220227101855 Requires-Python >=3.7,<3.10; 2.6.1.dev20220227151313 Requires-Python >=3.7,<3.10; 2.6.1.dev20220302165448 Requires-Python >=3.7,<3.10; 2.6.1.dev20220304075058 Requires-Python >=3.7,<3.10; 2.6.1.dev20220308000048 Requires-Python >=3.7,<3.10; 2.6.1.dev20220308161659 Requires-Python >=3.7,<3.10; 2.6.1.dev20220311045711 Requires-Python >=3.7,<3.10; 2.6.1.dev20220313143613 Requires-Python >=3.7,<3.10; 2.6.1.dev20220315063821 Requires-Python >=3.7,<3.10; 2.6.1.dev20220315094515 Requires-Python >=3.7,<3.10; 2.6.1.dev20220318165648 Requires-Python >=3.7,<3.10; 2.6.1.dev20220318180307 Requires-Python >=3.7,<3.10; 2.6.1.dev20220321161730 Requires-Python >=3.7,<3.10; 2.6.1.dev20220321180346 Requires-Python >=3.7,<3.10; 2.6.1.dev20220404084345 Requires-Python >=3.7,<3.10; 2.6.1.dev20220408022220 Requires-Python >=3.7,<3.10; 2.6.1.dev20220408031528 Requires-Python >=3.7,<3.10; 2.6.1.dev20220422173022 Requires-Python >=3.7,<3.10; 2.6.1.dev20220422185142 Requires-Python >=3.7,<3.10; 2.6.1.dev20220422203117 Requires-Python >=3.7,<3.10; 2.6.1.dev20220521111258 Requires-Python >=3.7,<3.10; 2.6.1.dev20220522043410 Requires-Python >=3.7,<3.10; 2.6.1.dev20220527180621 Requires-Python >=3.7,<3.10; 2.6.1.dev20220601053535 Requires-Python >=3.7,<3.10; 2.6.1.dev20220603100354 Requires-Python >=3.7,<3.10; 2.6.1.dev20220604054513 Requires-Python >=3.7,<3.10; 2.6.1.dev20220604074442 Requires-Python >=3.7,<3.10; 2.6.1.dev20220604123021 Requires-Python >=3.7,<3.10; 2.6.1.dev20220606165419 Requires-Python >=3.7,<3.10; 2.6.1.dev20220610173758 Requires-Python >=3.7,<3.10; 2.6.1.dev20220610173831 Requires-Python >=3.7,<3.10; 2.6.1.dev20220613223736 Requires-Python >=3.7,<3.10; 2.6.1.dev20220614070052 Requires-Python >=3.7,<3.10; 2.6.1.dev20220614151602 Requires-Python >=3.7,<3.10; 2.6.1.dev20220617104814 Requires-Python >=3.7,<3.10; 2.6.1.dev20220617151155 Requires-Python >=3.7,<3.10; 2.6.1.dev20220617195637 Requires-Python >=3.7,<3.10; 2.6.1.dev20220622181246 Requires-Python >=3.7,<3.10; 2.6.1.dev20220628094821 Requires-Python >=3.7,<3.10; 2.6.1.dev20220628165058 Requires-Python >=3.7,<3.10; 2.6.1.dev20220628194011 Requires-Python >=3.7,<3.10; 2.6.1.dev20220630161820 Requires-Python >=3.7,<3.10; 2.6.1.dev20220701023147 Requires-Python >=3.7,<3.10; 2.6.1.dev20220701031808 Requires-Python >=3.7,<3.10; 2.6.1.dev20220701165751 Requires-Python >=3.7,<3.10; 2.6.1.dev20220702162632 Requires-Python >=3.7,<3.10; 2.6.1.dev20220705162722 Requires-Python >=3.7,<3.10; 2.6.1.dev20220705191132 Requires-Python >=3.7,<3.10; 2.6.1.dev20220706044611 Requires-Python >=3.7,<3.10; 2.6.1.dev20220706163643 Requires-Python >=3.7,<3.10; 2.6.1.dev20220707192045 Requires-Python >=3.7,<3.10; 2.6.1.dev20220708070617 Requires-Python >=3.7,<3.10; 2.6.1.dev20220708083922 Requires-Python >=3.7,<3.10; 2.6.1.dev20220708160856 Requires-Python >=3.7,<3.10; 2.6.1.dev20220710185607 Requires-Python >=3.7,<3.10; 2.6.1.dev20220711161617 Requires-Python >=3.7,<3.10; 2.6.1.dev20220712155923 Requires-Python >=3.7,<3.10; 2.6.1.dev20220712164209 Requires-Python >=3.7,<3.10; 2.6.1.dev20220719033603 Requires-Python >=3.7,<3.10; 2.6.1.dev20220719164131 Requires-Python >=3.7,<3.10; 2.6.1.dev20220725165553 Requires-Python >=3.7,<3.10; 2.6.1.dev20220726034942 Requires-Python >=3.7,<3.10; 2.6.1.dev20220726064601 Requires-Python >=3.7,<3.10; 2.6.1.dev20220726064604 Requires-Python >=3.7,<3.10; 2.6.1.dev20220726172848 Requires-Python >=3.7,<3.10; 2.6.1.dev20220726181040 Requires-Python >=3.7,<3.10; 2.6.1.dev20220728170954 Requires-Python >=3.7,<3.10; 2.6.1.dev20220729224827 Requires-Python >=3.7,<3.10; 2.6.1.dev20220731183342 Requires-Python >=3.7,<3.10; 2.6.1.dev20220802165209 Requires-Python >=3.7,<3.10; 2.6.1.dev20220805061923 Requires-Python >=3.7,<3.10; 2.6.1.dev20220805165709 Requires-Python >=3.7,<3.10; 2.6.1.dev20220808184514 Requires-Python >=3.7,<3.10; 2.6.1.dev20220808203535 Requires-Python >=3.7,<3.10; 2.6.1.dev20220808203613 Requires-Python >=3.7,<3.10; 2.6.1.dev20220809051924 Requires-Python >=3.7,<3.10; 2.6.1.dev20220810054029 Requires-Python >=3.7,<3.10; 2.6.1.dev20220815161544 Requires-Python >=3.7,<3.10; 2.6.1.dev20220815165331 Requires-Python >=3.7,<3.10; 2.6.1.dev20220821180815 Requires-Python >=3.7,<3.10; 2.6.1.dev20220822182128 Requires-Python >=3.7,<3.10; 2.6.1.dev20220823161652 Requires-Python >=3.7,<3.10; 2.6.1.dev20220825105734 Requires-Python >=3.7,<3.10; 2.6.1.dev20220825205213 Requires-Python >=3.7,<3.10; 2.6.1.dev20220826024553 Requires-Python >=3.7,<3.10; 2.6.1.dev20220830162129 Requires-Python >=3.7,<3.10; 2.6.1.dev20220902195259 Requires-Python >=3.7,<3.10; 2.6.1.dev20220903083523 Requires-Python >=3.7,<3.10; 2.6.1.dev20220903102434 Requires-Python >=3.7,<3.10; 2.6.1.dev20220903134143 Requires-Python >=3.7,<3.10; 2.6.1.dev20220906165036 Requires-Python >=3.7,<3.10; 2.6.1.dev20220909142012 Requires-Python >=3.7,<3.10; 2.6.1.dev20220912080347 Requires-Python >=3.7,<3.10; 2.6.2.dev20220914075531 Requires-Python >=3.7,<3.10; 2.6.2.dev20220915143259 Requires-Python >=3.7,<3.10; 2.6.2.dev20220930024147 Requires-Python >=3.7,<3.10; 2.6.2.dev20220930084520 Requires-Python >=3.7,<3.10; 2.6.2.dev20221004063301 Requires-Python >=3.7,<3.10\u001b[0m\u001b[31m\n",
            "\u001b[0m\u001b[31mERROR: Could not find a version that satisfies the requirement pywin32==307 (from versions: none)\u001b[0m\u001b[31m\n",
            "\u001b[0m\u001b[31mERROR: No matching distribution found for pywin32==307\u001b[0m\u001b[31m\n",
            "\u001b[0mCollecting optuna\n",
            "  Downloading optuna-4.1.0-py3-none-any.whl.metadata (16 kB)\n",
            "Collecting alembic>=1.5.0 (from optuna)\n",
            "  Using cached alembic-1.14.0-py3-none-any.whl.metadata (7.4 kB)\n",
            "Collecting colorlog (from optuna)\n",
            "  Using cached colorlog-6.9.0-py3-none-any.whl.metadata (10 kB)\n",
            "Requirement already satisfied: numpy in /usr/local/lib/python3.10/dist-packages (from optuna) (1.26.4)\n",
            "Requirement already satisfied: packaging>=20.0 in /usr/local/lib/python3.10/dist-packages (from optuna) (24.2)\n",
            "Requirement already satisfied: sqlalchemy>=1.4.2 in /usr/local/lib/python3.10/dist-packages (from optuna) (2.0.36)\n",
            "Requirement already satisfied: tqdm in /usr/local/lib/python3.10/dist-packages (from optuna) (4.66.6)\n",
            "Requirement already satisfied: PyYAML in /usr/local/lib/python3.10/dist-packages (from optuna) (6.0.2)\n",
            "Collecting Mako (from alembic>=1.5.0->optuna)\n",
            "  Using cached Mako-1.3.6-py3-none-any.whl.metadata (2.9 kB)\n",
            "Requirement already satisfied: typing-extensions>=4 in /usr/local/lib/python3.10/dist-packages (from alembic>=1.5.0->optuna) (4.12.2)\n",
            "Requirement already satisfied: greenlet!=0.4.17 in /usr/local/lib/python3.10/dist-packages (from sqlalchemy>=1.4.2->optuna) (3.1.1)\n",
            "Requirement already satisfied: MarkupSafe>=0.9.2 in /usr/local/lib/python3.10/dist-packages (from Mako->alembic>=1.5.0->optuna) (3.0.2)\n",
            "Downloading optuna-4.1.0-py3-none-any.whl (364 kB)\n",
            "\u001b[2K   \u001b[90m━━━━━━━━━━━━━━━━━━━━━━━━━━━━━━━━━━━━━━━━\u001b[0m \u001b[32m364.4/364.4 kB\u001b[0m \u001b[31m12.6 MB/s\u001b[0m eta \u001b[36m0:00:00\u001b[0m\n",
            "\u001b[?25hDownloading alembic-1.14.0-py3-none-any.whl (233 kB)\n",
            "\u001b[2K   \u001b[90m━━━━━━━━━━━━━━━━━━━━━━━━━━━━━━━━━━━━━━━━\u001b[0m \u001b[32m233.5/233.5 kB\u001b[0m \u001b[31m21.7 MB/s\u001b[0m eta \u001b[36m0:00:00\u001b[0m\n",
            "\u001b[?25hDownloading colorlog-6.9.0-py3-none-any.whl (11 kB)\n",
            "Downloading Mako-1.3.6-py3-none-any.whl (78 kB)\n",
            "\u001b[2K   \u001b[90m━━━━━━━━━━━━━━━━━━━━━━━━━━━━━━━━━━━━━━━━\u001b[0m \u001b[32m78.6/78.6 kB\u001b[0m \u001b[31m8.8 MB/s\u001b[0m eta \u001b[36m0:00:00\u001b[0m\n",
            "\u001b[?25hInstalling collected packages: Mako, colorlog, alembic, optuna\n",
            "Successfully installed Mako-1.3.6 alembic-1.14.0 colorlog-6.9.0 optuna-4.1.0\n",
            "Collecting ase\n",
            "  Using cached ase-3.23.0-py3-none-any.whl.metadata (3.8 kB)\n",
            "Requirement already satisfied: numpy>=1.18.5 in /usr/local/lib/python3.10/dist-packages (from ase) (1.26.4)\n",
            "Requirement already satisfied: scipy>=1.6.0 in /usr/local/lib/python3.10/dist-packages (from ase) (1.13.1)\n",
            "Requirement already satisfied: matplotlib>=3.3.4 in /usr/local/lib/python3.10/dist-packages (from ase) (3.8.0)\n",
            "Requirement already satisfied: contourpy>=1.0.1 in /usr/local/lib/python3.10/dist-packages (from matplotlib>=3.3.4->ase) (1.3.1)\n",
            "Requirement already satisfied: cycler>=0.10 in /usr/local/lib/python3.10/dist-packages (from matplotlib>=3.3.4->ase) (0.12.1)\n",
            "Requirement already satisfied: fonttools>=4.22.0 in /usr/local/lib/python3.10/dist-packages (from matplotlib>=3.3.4->ase) (4.55.0)\n",
            "Requirement already satisfied: kiwisolver>=1.0.1 in /usr/local/lib/python3.10/dist-packages (from matplotlib>=3.3.4->ase) (1.4.7)\n",
            "Requirement already satisfied: packaging>=20.0 in /usr/local/lib/python3.10/dist-packages (from matplotlib>=3.3.4->ase) (24.2)\n",
            "Requirement already satisfied: pillow>=6.2.0 in /usr/local/lib/python3.10/dist-packages (from matplotlib>=3.3.4->ase) (11.0.0)\n",
            "Requirement already satisfied: pyparsing>=2.3.1 in /usr/local/lib/python3.10/dist-packages (from matplotlib>=3.3.4->ase) (3.2.0)\n",
            "Requirement already satisfied: python-dateutil>=2.7 in /usr/local/lib/python3.10/dist-packages (from matplotlib>=3.3.4->ase) (2.8.2)\n",
            "Requirement already satisfied: six>=1.5 in /usr/local/lib/python3.10/dist-packages (from python-dateutil>=2.7->matplotlib>=3.3.4->ase) (1.16.0)\n",
            "Downloading ase-3.23.0-py3-none-any.whl (2.9 MB)\n",
            "\u001b[2K   \u001b[90m━━━━━━━━━━━━━━━━━━━━━━━━━━━━━━━━━━━━━━━━\u001b[0m \u001b[32m2.9/2.9 MB\u001b[0m \u001b[31m30.1 MB/s\u001b[0m eta \u001b[36m0:00:00\u001b[0m\n",
            "\u001b[?25hInstalling collected packages: ase\n",
            "Successfully installed ase-3.23.0\n",
            "Collecting dscribe\n",
            "  Using cached dscribe-2.1.1-cp310-cp310-manylinux_2_17_x86_64.manylinux2014_x86_64.whl.metadata (18 kB)\n",
            "Requirement already satisfied: numpy in /usr/local/lib/python3.10/dist-packages (from dscribe) (1.26.4)\n",
            "Requirement already satisfied: scipy in /usr/local/lib/python3.10/dist-packages (from dscribe) (1.13.1)\n",
            "Requirement already satisfied: ase>=3.19.0 in /usr/local/lib/python3.10/dist-packages (from dscribe) (3.23.0)\n",
            "Requirement already satisfied: scikit-learn in /usr/local/lib/python3.10/dist-packages (from dscribe) (1.5.2)\n",
            "Requirement already satisfied: joblib>=1.0.0 in /usr/local/lib/python3.10/dist-packages (from dscribe) (1.4.2)\n",
            "Collecting sparse (from dscribe)\n",
            "  Downloading sparse-0.15.4-py2.py3-none-any.whl.metadata (4.5 kB)\n",
            "Requirement already satisfied: matplotlib>=3.3.4 in /usr/local/lib/python3.10/dist-packages (from ase>=3.19.0->dscribe) (3.8.0)\n",
            "Requirement already satisfied: threadpoolctl>=3.1.0 in /usr/local/lib/python3.10/dist-packages (from scikit-learn->dscribe) (3.5.0)\n",
            "Requirement already satisfied: numba>=0.49 in /usr/local/lib/python3.10/dist-packages (from sparse->dscribe) (0.60.0)\n",
            "Requirement already satisfied: contourpy>=1.0.1 in /usr/local/lib/python3.10/dist-packages (from matplotlib>=3.3.4->ase>=3.19.0->dscribe) (1.3.1)\n",
            "Requirement already satisfied: cycler>=0.10 in /usr/local/lib/python3.10/dist-packages (from matplotlib>=3.3.4->ase>=3.19.0->dscribe) (0.12.1)\n",
            "Requirement already satisfied: fonttools>=4.22.0 in /usr/local/lib/python3.10/dist-packages (from matplotlib>=3.3.4->ase>=3.19.0->dscribe) (4.55.0)\n",
            "Requirement already satisfied: kiwisolver>=1.0.1 in /usr/local/lib/python3.10/dist-packages (from matplotlib>=3.3.4->ase>=3.19.0->dscribe) (1.4.7)\n",
            "Requirement already satisfied: packaging>=20.0 in /usr/local/lib/python3.10/dist-packages (from matplotlib>=3.3.4->ase>=3.19.0->dscribe) (24.2)\n",
            "Requirement already satisfied: pillow>=6.2.0 in /usr/local/lib/python3.10/dist-packages (from matplotlib>=3.3.4->ase>=3.19.0->dscribe) (11.0.0)\n",
            "Requirement already satisfied: pyparsing>=2.3.1 in /usr/local/lib/python3.10/dist-packages (from matplotlib>=3.3.4->ase>=3.19.0->dscribe) (3.2.0)\n",
            "Requirement already satisfied: python-dateutil>=2.7 in /usr/local/lib/python3.10/dist-packages (from matplotlib>=3.3.4->ase>=3.19.0->dscribe) (2.8.2)\n",
            "Requirement already satisfied: llvmlite<0.44,>=0.43.0dev0 in /usr/local/lib/python3.10/dist-packages (from numba>=0.49->sparse->dscribe) (0.43.0)\n",
            "Requirement already satisfied: six>=1.5 in /usr/local/lib/python3.10/dist-packages (from python-dateutil>=2.7->matplotlib>=3.3.4->ase>=3.19.0->dscribe) (1.16.0)\n",
            "Downloading dscribe-2.1.1-cp310-cp310-manylinux_2_17_x86_64.manylinux2014_x86_64.whl (12.5 MB)\n",
            "\u001b[2K   \u001b[90m━━━━━━━━━━━━━━━━━━━━━━━━━━━━━━━━━━━━━━━━\u001b[0m \u001b[32m12.5/12.5 MB\u001b[0m \u001b[31m27.4 MB/s\u001b[0m eta \u001b[36m0:00:00\u001b[0m\n",
            "\u001b[?25hDownloading sparse-0.15.4-py2.py3-none-any.whl (237 kB)\n",
            "\u001b[2K   \u001b[90m━━━━━━━━━━━━━━━━━━━━━━━━━━━━━━━━━━━━━━━━\u001b[0m \u001b[32m237.3/237.3 kB\u001b[0m \u001b[31m22.2 MB/s\u001b[0m eta \u001b[36m0:00:00\u001b[0m\n",
            "\u001b[?25hInstalling collected packages: sparse, dscribe\n",
            "Successfully installed dscribe-2.1.1 sparse-0.15.4\n",
            "Collecting pymatgen\n",
            "  Downloading pymatgen-2024.11.13-cp310-cp310-manylinux_2_17_x86_64.manylinux2014_x86_64.whl.metadata (13 kB)\n",
            "Requirement already satisfied: joblib>=1 in /usr/local/lib/python3.10/dist-packages (from pymatgen) (1.4.2)\n",
            "Requirement already satisfied: matplotlib>=3.8 in /usr/local/lib/python3.10/dist-packages (from pymatgen) (3.8.0)\n",
            "Collecting monty>=2024.10.21 (from pymatgen)\n",
            "  Downloading monty-2024.10.21-py3-none-any.whl.metadata (3.6 kB)\n",
            "Requirement already satisfied: networkx>=2.7 in /usr/local/lib/python3.10/dist-packages (from pymatgen) (3.4.2)\n",
            "Collecting palettable>=3.3.3 (from pymatgen)\n",
            "  Downloading palettable-3.3.3-py2.py3-none-any.whl.metadata (3.3 kB)\n",
            "Requirement already satisfied: pandas>=2 in /usr/local/lib/python3.10/dist-packages (from pymatgen) (2.2.2)\n",
            "Requirement already satisfied: plotly>=4.5.0 in /usr/local/lib/python3.10/dist-packages (from pymatgen) (5.24.1)\n",
            "Collecting pybtex>=0.24.0 (from pymatgen)\n",
            "  Downloading pybtex-0.24.0-py2.py3-none-any.whl.metadata (2.0 kB)\n",
            "Requirement already satisfied: requests>=2.32 in /usr/local/lib/python3.10/dist-packages (from pymatgen) (2.32.3)\n",
            "Collecting ruamel.yaml>=0.17.0 (from pymatgen)\n",
            "  Downloading ruamel.yaml-0.18.6-py3-none-any.whl.metadata (23 kB)\n",
            "Requirement already satisfied: scipy>=1.13.0 in /usr/local/lib/python3.10/dist-packages (from pymatgen) (1.13.1)\n",
            "Collecting spglib>=2.5.0 (from pymatgen)\n",
            "  Downloading spglib-2.5.0-cp310-cp310-manylinux_2_17_x86_64.manylinux2014_x86_64.whl.metadata (4.2 kB)\n",
            "Requirement already satisfied: sympy>=1.3 in /usr/local/lib/python3.10/dist-packages (from pymatgen) (1.13.1)\n",
            "Requirement already satisfied: tabulate>=0.9 in /usr/local/lib/python3.10/dist-packages (from pymatgen) (0.9.0)\n",
            "Requirement already satisfied: tqdm>=4.60 in /usr/local/lib/python3.10/dist-packages (from pymatgen) (4.66.6)\n",
            "Collecting uncertainties>=3.1.4 (from pymatgen)\n",
            "  Downloading uncertainties-3.2.2-py3-none-any.whl.metadata (6.9 kB)\n",
            "Requirement already satisfied: numpy<3,>=1.25.0 in /usr/local/lib/python3.10/dist-packages (from pymatgen) (1.26.4)\n",
            "Requirement already satisfied: contourpy>=1.0.1 in /usr/local/lib/python3.10/dist-packages (from matplotlib>=3.8->pymatgen) (1.3.1)\n",
            "Requirement already satisfied: cycler>=0.10 in /usr/local/lib/python3.10/dist-packages (from matplotlib>=3.8->pymatgen) (0.12.1)\n",
            "Requirement already satisfied: fonttools>=4.22.0 in /usr/local/lib/python3.10/dist-packages (from matplotlib>=3.8->pymatgen) (4.55.0)\n",
            "Requirement already satisfied: kiwisolver>=1.0.1 in /usr/local/lib/python3.10/dist-packages (from matplotlib>=3.8->pymatgen) (1.4.7)\n",
            "Requirement already satisfied: packaging>=20.0 in /usr/local/lib/python3.10/dist-packages (from matplotlib>=3.8->pymatgen) (24.2)\n",
            "Requirement already satisfied: pillow>=6.2.0 in /usr/local/lib/python3.10/dist-packages (from matplotlib>=3.8->pymatgen) (11.0.0)\n",
            "Requirement already satisfied: pyparsing>=2.3.1 in /usr/local/lib/python3.10/dist-packages (from matplotlib>=3.8->pymatgen) (3.2.0)\n",
            "Requirement already satisfied: python-dateutil>=2.7 in /usr/local/lib/python3.10/dist-packages (from matplotlib>=3.8->pymatgen) (2.8.2)\n",
            "Requirement already satisfied: pytz>=2020.1 in /usr/local/lib/python3.10/dist-packages (from pandas>=2->pymatgen) (2024.2)\n",
            "Requirement already satisfied: tzdata>=2022.7 in /usr/local/lib/python3.10/dist-packages (from pandas>=2->pymatgen) (2024.2)\n",
            "Requirement already satisfied: tenacity>=6.2.0 in /usr/local/lib/python3.10/dist-packages (from plotly>=4.5.0->pymatgen) (9.0.0)\n",
            "Requirement already satisfied: PyYAML>=3.01 in /usr/local/lib/python3.10/dist-packages (from pybtex>=0.24.0->pymatgen) (6.0.2)\n",
            "Collecting latexcodec>=1.0.4 (from pybtex>=0.24.0->pymatgen)\n",
            "  Downloading latexcodec-3.0.0-py3-none-any.whl.metadata (4.9 kB)\n",
            "Requirement already satisfied: six in /usr/local/lib/python3.10/dist-packages (from pybtex>=0.24.0->pymatgen) (1.16.0)\n",
            "Requirement already satisfied: charset-normalizer<4,>=2 in /usr/local/lib/python3.10/dist-packages (from requests>=2.32->pymatgen) (3.4.0)\n",
            "Requirement already satisfied: idna<4,>=2.5 in /usr/local/lib/python3.10/dist-packages (from requests>=2.32->pymatgen) (3.10)\n",
            "Requirement already satisfied: urllib3<3,>=1.21.1 in /usr/local/lib/python3.10/dist-packages (from requests>=2.32->pymatgen) (2.2.3)\n",
            "Requirement already satisfied: certifi>=2017.4.17 in /usr/local/lib/python3.10/dist-packages (from requests>=2.32->pymatgen) (2024.8.30)\n",
            "Collecting ruamel.yaml.clib>=0.2.7 (from ruamel.yaml>=0.17.0->pymatgen)\n",
            "  Downloading ruamel.yaml.clib-0.2.12-cp310-cp310-manylinux_2_17_x86_64.manylinux2014_x86_64.whl.metadata (2.7 kB)\n",
            "Requirement already satisfied: mpmath<1.4,>=1.1.0 in /usr/local/lib/python3.10/dist-packages (from sympy>=1.3->pymatgen) (1.3.0)\n",
            "Downloading pymatgen-2024.11.13-cp310-cp310-manylinux_2_17_x86_64.manylinux2014_x86_64.whl (4.9 MB)\n",
            "\u001b[2K   \u001b[90m━━━━━━━━━━━━━━━━━━━━━━━━━━━━━━━━━━━━━━━━\u001b[0m \u001b[32m4.9/4.9 MB\u001b[0m \u001b[31m37.9 MB/s\u001b[0m eta \u001b[36m0:00:00\u001b[0m\n",
            "\u001b[?25hDownloading monty-2024.10.21-py3-none-any.whl (68 kB)\n",
            "\u001b[2K   \u001b[90m━━━━━━━━━━━━━━━━━━━━━━━━━━━━━━━━━━━━━━━━\u001b[0m \u001b[32m68.5/68.5 kB\u001b[0m \u001b[31m7.8 MB/s\u001b[0m eta \u001b[36m0:00:00\u001b[0m\n",
            "\u001b[?25hDownloading palettable-3.3.3-py2.py3-none-any.whl (332 kB)\n",
            "\u001b[2K   \u001b[90m━━━━━━━━━━━━━━━━━━━━━━━━━━━━━━━━━━━━━━━━\u001b[0m \u001b[32m332.3/332.3 kB\u001b[0m \u001b[31m29.5 MB/s\u001b[0m eta \u001b[36m0:00:00\u001b[0m\n",
            "\u001b[?25hDownloading pybtex-0.24.0-py2.py3-none-any.whl (561 kB)\n",
            "\u001b[2K   \u001b[90m━━━━━━━━━━━━━━━━━━━━━━━━━━━━━━━━━━━━━━━━\u001b[0m \u001b[32m561.4/561.4 kB\u001b[0m \u001b[31m20.4 MB/s\u001b[0m eta \u001b[36m0:00:00\u001b[0m\n",
            "\u001b[?25hDownloading ruamel.yaml-0.18.6-py3-none-any.whl (117 kB)\n",
            "\u001b[2K   \u001b[90m━━━━━━━━━━━━━━━━━━━━━━━━━━━━━━━━━━━━━━━━\u001b[0m \u001b[32m117.8/117.8 kB\u001b[0m \u001b[31m13.0 MB/s\u001b[0m eta \u001b[36m0:00:00\u001b[0m\n",
            "\u001b[?25hDownloading spglib-2.5.0-cp310-cp310-manylinux_2_17_x86_64.manylinux2014_x86_64.whl (1.1 MB)\n",
            "\u001b[2K   \u001b[90m━━━━━━━━━━━━━━━━━━━━━━━━━━━━━━━━━━━━━━━━\u001b[0m \u001b[32m1.1/1.1 MB\u001b[0m \u001b[31m20.4 MB/s\u001b[0m eta \u001b[36m0:00:00\u001b[0m\n",
            "\u001b[?25hDownloading uncertainties-3.2.2-py3-none-any.whl (58 kB)\n",
            "\u001b[2K   \u001b[90m━━━━━━━━━━━━━━━━━━━━━━━━━━━━━━━━━━━━━━━━\u001b[0m \u001b[32m58.3/58.3 kB\u001b[0m \u001b[31m6.9 MB/s\u001b[0m eta \u001b[36m0:00:00\u001b[0m\n",
            "\u001b[?25hDownloading latexcodec-3.0.0-py3-none-any.whl (18 kB)\n",
            "Downloading ruamel.yaml.clib-0.2.12-cp310-cp310-manylinux_2_17_x86_64.manylinux2014_x86_64.whl (722 kB)\n",
            "\u001b[2K   \u001b[90m━━━━━━━━━━━━━━━━━━━━━━━━━━━━━━━━━━━━━━━━\u001b[0m \u001b[32m722.2/722.2 kB\u001b[0m \u001b[31m39.6 MB/s\u001b[0m eta \u001b[36m0:00:00\u001b[0m\n",
            "\u001b[?25hInstalling collected packages: uncertainties, spglib, ruamel.yaml.clib, palettable, latexcodec, ruamel.yaml, pybtex, monty, pymatgen\n",
            "Successfully installed latexcodec-3.0.0 monty-2024.10.21 palettable-3.3.3 pybtex-0.24.0 pymatgen-2024.11.13 ruamel.yaml-0.18.6 ruamel.yaml.clib-0.2.12 spglib-2.5.0 uncertainties-3.2.2\n"
          ]
        }
      ],
      "source": [
        "!pip install -r requirements.txt\n",
        "!pip install optuna\n",
        "!pip install ase\n",
        "!pip install dscribe\n",
        "!pip install pymatgen"
      ]
    },
    {
      "cell_type": "code",
      "execution_count": 2,
      "metadata": {
        "colab": {
          "base_uri": "https://localhost:8080/"
        },
        "id": "J_7UH4bFqP5r",
        "outputId": "b10d6676-240e-42a2-da1d-e59323c5d992"
      },
      "outputs": [
        {
          "output_type": "stream",
          "name": "stdout",
          "text": [
            "\u001b[33mWARNING: Package(s) not found: lime\u001b[0m\u001b[33m\n",
            "\u001b[0m\u001b[33mWARNING: Package(s) not found: rdkit\u001b[0m\u001b[33m\n",
            "\u001b[0m"
          ]
        }
      ],
      "source": [
        "!pip show lime\n",
        "!pip show rdkit"
      ]
    },
    {
      "cell_type": "code",
      "execution_count": 3,
      "metadata": {
        "colab": {
          "base_uri": "https://localhost:8080/"
        },
        "id": "VaBoZFyV2p5j",
        "outputId": "0c526e9f-4398-4198-cf03-fed2f6c692f8"
      },
      "outputs": [
        {
          "output_type": "stream",
          "name": "stdout",
          "text": [
            "Collecting rdkit\n",
            "  Downloading rdkit-2024.3.6-cp310-cp310-manylinux_2_28_x86_64.whl.metadata (4.0 kB)\n",
            "Requirement already satisfied: numpy in /usr/local/lib/python3.10/dist-packages (from rdkit) (1.26.4)\n",
            "Requirement already satisfied: Pillow in /usr/local/lib/python3.10/dist-packages (from rdkit) (11.0.0)\n",
            "Downloading rdkit-2024.3.6-cp310-cp310-manylinux_2_28_x86_64.whl (32.8 MB)\n",
            "\u001b[2K   \u001b[90m━━━━━━━━━━━━━━━━━━━━━━━━━━━━━━━━━━━━━━━━\u001b[0m \u001b[32m32.8/32.8 MB\u001b[0m \u001b[31m14.2 MB/s\u001b[0m eta \u001b[36m0:00:00\u001b[0m\n",
            "\u001b[?25hInstalling collected packages: rdkit\n",
            "Successfully installed rdkit-2024.3.6\n",
            "Collecting lime\n",
            "  Using cached lime-0.2.0.1.tar.gz (275 kB)\n",
            "  Preparing metadata (setup.py) ... \u001b[?25l\u001b[?25hdone\n",
            "Requirement already satisfied: matplotlib in /usr/local/lib/python3.10/dist-packages (from lime) (3.8.0)\n",
            "Requirement already satisfied: numpy in /usr/local/lib/python3.10/dist-packages (from lime) (1.26.4)\n",
            "Requirement already satisfied: scipy in /usr/local/lib/python3.10/dist-packages (from lime) (1.13.1)\n",
            "Requirement already satisfied: tqdm in /usr/local/lib/python3.10/dist-packages (from lime) (4.66.6)\n",
            "Requirement already satisfied: scikit-learn>=0.18 in /usr/local/lib/python3.10/dist-packages (from lime) (1.5.2)\n",
            "Requirement already satisfied: scikit-image>=0.12 in /usr/local/lib/python3.10/dist-packages (from lime) (0.24.0)\n",
            "Requirement already satisfied: networkx>=2.8 in /usr/local/lib/python3.10/dist-packages (from scikit-image>=0.12->lime) (3.4.2)\n",
            "Requirement already satisfied: pillow>=9.1 in /usr/local/lib/python3.10/dist-packages (from scikit-image>=0.12->lime) (11.0.0)\n",
            "Requirement already satisfied: imageio>=2.33 in /usr/local/lib/python3.10/dist-packages (from scikit-image>=0.12->lime) (2.36.0)\n",
            "Requirement already satisfied: tifffile>=2022.8.12 in /usr/local/lib/python3.10/dist-packages (from scikit-image>=0.12->lime) (2024.9.20)\n",
            "Requirement already satisfied: packaging>=21 in /usr/local/lib/python3.10/dist-packages (from scikit-image>=0.12->lime) (24.2)\n",
            "Requirement already satisfied: lazy-loader>=0.4 in /usr/local/lib/python3.10/dist-packages (from scikit-image>=0.12->lime) (0.4)\n",
            "Requirement already satisfied: joblib>=1.2.0 in /usr/local/lib/python3.10/dist-packages (from scikit-learn>=0.18->lime) (1.4.2)\n",
            "Requirement already satisfied: threadpoolctl>=3.1.0 in /usr/local/lib/python3.10/dist-packages (from scikit-learn>=0.18->lime) (3.5.0)\n",
            "Requirement already satisfied: contourpy>=1.0.1 in /usr/local/lib/python3.10/dist-packages (from matplotlib->lime) (1.3.1)\n",
            "Requirement already satisfied: cycler>=0.10 in /usr/local/lib/python3.10/dist-packages (from matplotlib->lime) (0.12.1)\n",
            "Requirement already satisfied: fonttools>=4.22.0 in /usr/local/lib/python3.10/dist-packages (from matplotlib->lime) (4.55.0)\n",
            "Requirement already satisfied: kiwisolver>=1.0.1 in /usr/local/lib/python3.10/dist-packages (from matplotlib->lime) (1.4.7)\n",
            "Requirement already satisfied: pyparsing>=2.3.1 in /usr/local/lib/python3.10/dist-packages (from matplotlib->lime) (3.2.0)\n",
            "Requirement already satisfied: python-dateutil>=2.7 in /usr/local/lib/python3.10/dist-packages (from matplotlib->lime) (2.8.2)\n",
            "Requirement already satisfied: six>=1.5 in /usr/local/lib/python3.10/dist-packages (from python-dateutil>=2.7->matplotlib->lime) (1.16.0)\n",
            "Building wheels for collected packages: lime\n",
            "  Building wheel for lime (setup.py) ... \u001b[?25l\u001b[?25hdone\n",
            "  Created wheel for lime: filename=lime-0.2.0.1-py3-none-any.whl size=283834 sha256=f8a048dbc49e15e5c5038eb920f280ac953a2004bfddb40c76e4a4d012cbeb74\n",
            "  Stored in directory: /root/.cache/pip/wheels/fd/a2/af/9ac0a1a85a27f314a06b39e1f492bee1547d52549a4606ed89\n",
            "Successfully built lime\n",
            "Installing collected packages: lime\n",
            "Successfully installed lime-0.2.0.1\n"
          ]
        }
      ],
      "source": [
        "!pip install rdkit\n",
        "!pip install lime"
      ]
    },
    {
      "cell_type": "markdown",
      "metadata": {
        "id": "DkwmvnMVQNHA"
      },
      "source": [
        "# Carregamento Pacotes\n"
      ]
    },
    {
      "cell_type": "code",
      "execution_count": 4,
      "metadata": {
        "colab": {
          "base_uri": "https://localhost:8080/"
        },
        "id": "Xi8EXxxhQF56",
        "outputId": "84089bb7-8e40-4824-a0c3-2ec69cb00322"
      },
      "outputs": [
        {
          "output_type": "stream",
          "name": "stdout",
          "text": [
            "2.5.1+cu121\n",
            "Executando em: cuda\n"
          ]
        }
      ],
      "source": [
        "import os\n",
        "import zipfile\n",
        "\n",
        "import numpy as np\n",
        "import matplotlib.pyplot as plt\n",
        "\n",
        "import optuna\n",
        "\n",
        "import torch\n",
        "import torch.nn as nn\n",
        "import torch.optim as optim\n",
        "from torch.utils.data import Dataset, DataLoader, random_split\n",
        "\n",
        "print(torch.__version__)\n",
        "device = torch.device(\"cuda\" if torch.cuda.is_available() else \"cpu\")\n",
        "print(f\"Executando em: {device}\")"
      ]
    },
    {
      "cell_type": "code",
      "execution_count": 5,
      "metadata": {
        "id": "TvO3H93bUfLI"
      },
      "outputs": [],
      "source": [
        "torch.manual_seed(0)\n",
        "torch.cuda.manual_seed_all(0)\n",
        "np.random.seed(0)"
      ]
    },
    {
      "cell_type": "markdown",
      "metadata": {
        "id": "NzF5Qw6YQAT7"
      },
      "source": [
        "# Carregamento do Conjunto de Dados (QM9)\n",
        "\n",
        "## Dropbox link (Download)"
      ]
    },
    {
      "cell_type": "code",
      "execution_count": 6,
      "metadata": {
        "colab": {
          "base_uri": "https://localhost:8080/"
        },
        "id": "_x7g1Ungd-W6",
        "outputId": "59f5ae6b-7cb0-4c56-ef1c-04c48ba8162c"
      },
      "outputs": [
        {
          "output_type": "stream",
          "name": "stdout",
          "text": [
            "Baixando o arquivo QM9.zip...\n",
            "Download concluído.\n",
            "Dados salvos em: QM9Data\n"
          ]
        }
      ],
      "source": [
        "import os\n",
        "import zipfile\n",
        "import requests\n",
        "\n",
        "# URL do arquivo no Dropbox com `?dl=1` para forçar o download direto\n",
        "url = \"https://www.dropbox.com/scl/fi/lbs52lc0av3eqi9zws3wp/QM9.zip?rlkey=925vtuebvf7kf9ifq9143d6az&dl=1\"\n",
        "zip_path = \"QM9.zip\"\n",
        "qm9_folder = \"QM9Data\"\n",
        "\n",
        "# Baixar o arquivo se ele não existir localmente\n",
        "if not os.path.exists(zip_path):\n",
        "    print(\"Baixando o arquivo QM9.zip...\")\n",
        "    response = requests.get(url, stream=True)\n",
        "    with open(zip_path, \"wb\") as f:\n",
        "        for chunk in response.iter_content(chunk_size=8192):\n",
        "            f.write(chunk)\n",
        "    print(\"Download concluído.\")\n",
        "\n",
        "# Criar a pasta de extração, se necessário\n",
        "if not os.path.exists(qm9_folder):\n",
        "    os.makedirs(qm9_folder)\n",
        "\n",
        "# Extrair o conteúdo do arquivo zip\n",
        "with zipfile.ZipFile(zip_path, 'r') as zip_ref:\n",
        "    zip_ref.extractall(qm9_folder)\n",
        "\n",
        "print(f\"Dados salvos em: {qm9_folder}\")\n"
      ]
    },
    {
      "cell_type": "markdown",
      "metadata": {
        "id": "qBC_6bG1ytHM"
      },
      "source": [
        "# Extração e Preparação dos Dados\n"
      ]
    },
    {
      "cell_type": "code",
      "execution_count": 7,
      "metadata": {
        "colab": {
          "base_uri": "https://localhost:8080/"
        },
        "id": "vM90JwWM0EMx",
        "outputId": "edcb2ec2-2858-49c8-da2c-85719bf75506"
      },
      "outputs": [
        {
          "output_type": "stream",
          "name": "stdout",
          "text": [
            "16\n",
            "\n",
            "gdb 75700\t2.29421\t2.10153\t1.19281\t1.5927\t71.76\t-0.2569\t-0.021\t0.2359\t1002.3496\t0.125963\t-434.09168\t-434.083979\t-434.083035\t-434.123886\t28.894\t\n",
            "\n",
            "C\t 0.0082723652\t 1.4385040241\t 0.0216304465\t-0.368015\n",
            "\n",
            "N\t-0.0080626856\t-0.0080486441\t-0.0143324088\t-0.128223\n",
            "\n",
            "C\t-0.0025221437\t-0.7715337629\t-1.1909538518\t 0.388126\n",
            "\n",
            "N\t 0.0263387403\t-0.3906951642\t-2.3959782595\t-0.532716\n",
            "\n",
            "N\t-0.0435539427\t-2.1606959554\t-0.8372214133\t-0.113662\n",
            "\n",
            "C\t 1.1983737221\t-2.6000297832\t-0.1756188576\t-0.242408\n",
            "\n",
            "C\t 0.0113061798\t-2.2080435108\t 0.6349537932\t-0.162296\n",
            "\n",
            "C\t-0.0270216144\t-0.7926214222\t 1.1346516211\t 0.42506\n",
            "\n",
            "O\t-0.0955434019\t-0.3870203764\t 2.2694066024\t-0.371241\n",
            "\n",
            "H\t 0.9216696532\t 1.8340504971\t-0.4354195835\t 0.141444\n",
            "\n",
            "H\t-0.8595819793\t 1.8482562075\t-0.5050019382\t 0.146272\n",
            "\n",
            "H\t-0.0319704226\t 1.7357251605\t 1.0706204257\t 0.173704\n",
            "\n",
            "H\t 0.0660884133\t 0.6248858104\t-2.4690959743\t 0.222945\n",
            "\n",
            "H\t 1.4244948343\t-3.6539669067\t-0.2978095694\t 0.14517\n",
            "\n",
            "H\t 2.0547706395\t-1.9318987311\t-0.1997156332\t 0.140887\n",
            "\n",
            "H\t-0.5885282877\t-2.9489560327\t 1.1502816209\t 0.134952\n",
            "\n",
            "114.8971\t156.0344\t181.4536\t222.4783\t289.6406\t342.4776\t383.9108\t531.6825\t606.7765\t654.8158\t726.4123\t743.2719\t775.8113\t819.1963\t835.1968\t863.3752\t974.575\t988.4193\t1017.3039\t1068.8922\t1111.2543\t1149.8109\t1156.9358\t1165.9378\t1212.256\t1266.9288\t1299.8348\t1342.6807\t1411.3007\t1454.1074\t1492.7876\t1505.1204\t1513.6903\t1754.5533\t1844.5096\t3034.3494\t3095.271\t3121.9429\t3150.0722\t3190.3306\t3218.0495\t3502.8963\n",
            "\n",
            "CN1C(=N)N2CC2C1=O\tCN1[C]([NH])N2C[C@H]2C1=O\t\n",
            "\n",
            "InChI=1S/C5H7N3O/c1-7-4(9)3-2-8(3)5(7)6/h3,6H,2H2,1H3\tInChI=1S/C5H7N3O/c1-7-4(9)3-2-8(3)5(7)6/h3,6H,2H2,1H3/t3-,8?/m0/s1\n",
            "\n"
          ]
        }
      ],
      "source": [
        "with open(qm9_folder+\"/dsgdb9nsd_075700.xyz\") as file:\n",
        "    for line in file:\n",
        "        print(line)"
      ]
    },
    {
      "cell_type": "code",
      "execution_count": 8,
      "metadata": {
        "id": "tVfUvjv1y-IF"
      },
      "outputs": [],
      "source": [
        "def load_qm9_xyz(file_path):\n",
        "    \"\"\"Load a single QM9.xyz file.\"\"\"\n",
        "    with open(file_path, 'r') as f:\n",
        "        # Number of atoms\n",
        "        natoms = int(f.readline())\n",
        "        # Properties are in the second line\n",
        "        properties = list(map(float, f.readline().split()[2:]))\n",
        "        # Read atomic coordinates and types\n",
        "        atoms = []\n",
        "        coordinates = []\n",
        "        # print(properties)\n",
        "        for num_line, line in enumerate(f):\n",
        "            # print(num_line, line)\n",
        "            if num_line >= 0 and num_line < natoms:\n",
        "                info = line.replace(\"*^\",\"e\").split()\n",
        "                atoms.append(info[0])\n",
        "                coordinates.append(list(map(float, info[1:-1])))\n",
        "\n",
        "    return {\n",
        "        \"natoms\": natoms,\n",
        "        \"atoms\": atoms,\n",
        "        \"coordinates\": np.array(coordinates),\n",
        "        \"properties\": properties\n",
        "    }\n",
        "\n",
        "def load_qm9_dataset(directory_path, list_mols=[]):\n",
        "    \"\"\"Load the entire QM9 dataset from a directory containing .xyz files.\"\"\"\n",
        "    X = []\n",
        "    Y = []\n",
        "    S = []\n",
        "    for file_name in os.listdir(directory_path):\n",
        "        if file_name.endswith(\".xyz\"):\n",
        "            file_path = os.path.join(directory_path, file_name)\n",
        "            molecule_data = load_qm9_xyz(file_path)\n",
        "            if molecule_data['natoms'] in list_mols or len(list_mols)==0:\n",
        "              X.append([molecule_data['atoms'], molecule_data['coordinates']])\n",
        "              Y.append(molecule_data['properties'])\n",
        "              S.append(molecule_data['natoms'])\n",
        "    return X, Y, S"
      ]
    },
    {
      "cell_type": "code",
      "execution_count": 9,
      "metadata": {
        "colab": {
          "base_uri": "https://localhost:8080/"
        },
        "id": "YZt3vxtC8ZsX",
        "outputId": "6f456e22-63ca-4932-b123-d390299bf5fe"
      },
      "outputs": [
        {
          "output_type": "stream",
          "name": "stdout",
          "text": [
            "Numero Moléculas: 133885\n",
            "Primeira Molécula: [['O', 'C', 'N', 'C', 'C', 'C', 'C', 'N', 'C', 'H', 'H', 'H', 'H'], array([[-3.58205437e-02,  1.29360094e+00,  9.74216070e-03],\n",
            "       [ 1.11970914e+00,  1.98509694e+00,  1.91966890e-03],\n",
            "       [ 2.30996196e+00,  1.49661254e+00, -1.25744445e-02],\n",
            "       [ 2.45888209e+00,  1.30379477e-01, -2.13805825e-02],\n",
            "       [ 1.37238437e+00, -6.93571383e-01, -1.49644882e-02],\n",
            "       [ 1.04716680e+00, -2.08518614e+00, -1.91809149e-02],\n",
            "       [-3.26134221e-01, -2.12289996e+00, -5.71571820e-03],\n",
            "       [-9.47239914e-01, -8.64259261e-01,  7.25545530e-03],\n",
            "       [ 5.92352060e-02, -5.23319913e-02,  1.57226210e-03],\n",
            "       [ 9.35701956e-01,  3.05250374e+00,  9.47083310e-03],\n",
            "       [ 3.48327179e+00, -2.29439952e-01, -3.35189272e-02],\n",
            "       [ 1.73078772e+00, -2.91930948e+00, -3.04661038e-02],\n",
            "       [-9.53044582e-01, -3.00499521e+00, -4.20745100e-03]])]\n",
            "Propriedades Mol[0]: [ 4.06604000e+00  1.75343000e+00  1.22511000e+00  1.87280000e+00\n",
            "  7.47700000e+01 -2.32400000e-01 -8.36000000e-02  1.48800000e-01\n",
            "  9.13654400e+02  9.33090000e-02 -4.15654731e+02 -4.15648926e+02\n",
            " -4.15647981e+02 -4.15684829e+02  2.30730000e+01]\n"
          ]
        }
      ],
      "source": [
        "# Loading\n",
        "# segundo parâmetro: lista com o tamanho das moléculas desejadas | [] para selecionar todas]\n",
        "XYZ, Y, natoms = load_qm9_dataset(qm9_folder)\n",
        "Y = np.array(Y)\n",
        "\n",
        "samples =  len(XYZ)\n",
        "print(f\"Numero Moléculas: {samples}\")\n",
        "print(f\"Primeira Molécula: {XYZ[0]}\")\n",
        "print(f\"Propriedades Mol[0]: {Y[0]}\")\n"
      ]
    },
    {
      "cell_type": "code",
      "execution_count": 10,
      "metadata": {
        "colab": {
          "base_uri": "https://localhost:8080/"
        },
        "id": "PR3MuNsMPf1q",
        "outputId": "ea1e727c-304a-462f-a0b9-10234e6e2763"
      },
      "outputs": [
        {
          "output_type": "stream",
          "name": "stdout",
          "text": [
            "Menor Molécula: 3\n",
            "Maior Molécula: 29\n"
          ]
        }
      ],
      "source": [
        "natoms = np.array(natoms)\n",
        "min_atoms = np.min(natoms)\n",
        "max_atoms = np.max(natoms)\n",
        "print(f\"Menor Molécula: {min_atoms}\")\n",
        "print(f\"Maior Molécula: {max_atoms}\")"
      ]
    },
    {
      "cell_type": "markdown",
      "metadata": {
        "id": "fOAEWkqyJFDm"
      },
      "source": [
        "# Geração dos Descritores (DScribe)\n",
        "\n",
        "- Matriz de Coulomb (CM)\n",
        "- Atom-centered Symmetry Functions (ACSF)\n",
        "- Smooth Overlap of Atomic Positions (SOAP)\n",
        "- Many-body Tensor Representation (MBTR)\n"
      ]
    },
    {
      "cell_type": "code",
      "execution_count": 11,
      "metadata": {
        "id": "4c0c2fNHJPv7"
      },
      "outputs": [],
      "source": [
        "from ase import Atoms"
      ]
    },
    {
      "cell_type": "code",
      "execution_count": 12,
      "metadata": {
        "id": "67iWY6ShJSut"
      },
      "outputs": [],
      "source": [
        "from dscribe.descriptors import CoulombMatrix, ACSF, SOAP, MBTR\n",
        "\n",
        "mols = [Atoms(positions=coordinates, symbols=symbols) for (symbols, coordinates) in XYZ]\n",
        "\n",
        "# informa o tipo de descritor selecionado\n",
        "descriptor = 'CM' # CM, SOAP, MBTR, ACSF"
      ]
    },
    {
      "cell_type": "markdown",
      "metadata": {
        "id": "Y7MLaAetQMI9"
      },
      "source": [
        "## Matriz de Coulomb (CM)"
      ]
    },
    {
      "cell_type": "code",
      "execution_count": 13,
      "metadata": {
        "colab": {
          "base_uri": "https://localhost:8080/"
        },
        "id": "zbRvJiJ9Kz8i",
        "outputId": "72ec0fdd-727c-4cb0-95db-9242c68231b9"
      },
      "outputs": [
        {
          "output_type": "stream",
          "name": "stdout",
          "text": [
            "(133885, 29)\n"
          ]
        }
      ],
      "source": [
        "if descriptor == 'CM':\n",
        "    cm = CoulombMatrix(n_atoms_max=max_atoms, permutation=\"eigenspectrum\")\n",
        "    X = cm.create(mols)\n",
        "    print(X.shape)"
      ]
    },
    {
      "cell_type": "markdown",
      "metadata": {
        "id": "nNKSPxoDRiGH"
      },
      "source": [
        "## Atom-centered Symmetry Functions (ACSF)\n",
        "\n",
        "---\n",
        "\n"
      ]
    },
    {
      "cell_type": "code",
      "execution_count": 14,
      "metadata": {
        "id": "HHNkY471RpTA"
      },
      "outputs": [],
      "source": [
        "if descriptor == 'ACSF':\n",
        "    acsf = ACSF(\n",
        "        species=[\"H\", \"C\", \"O\", \"N\", \"F\"],\n",
        "        r_cut=6.0,\n",
        "        g2_params=[[1, 1], [1, 2], [1, 3]],\n",
        "        g4_params=[[1, 1, 1], [1, 2, 1], [1, 1, -1], [1, 2, -1]],\n",
        "    )\n",
        "    centers = samples*[[0]]\n",
        "    X = acsf.create(mols, centers).reshape([samples,-1])\n",
        "    print(X.shape)"
      ]
    },
    {
      "cell_type": "markdown",
      "metadata": {
        "id": "LV-KUPnsQQlc"
      },
      "source": [
        "## Smooth Overlap of Atomic Positions (SOAP)"
      ]
    },
    {
      "cell_type": "code",
      "execution_count": 15,
      "metadata": {
        "id": "eyCdXhkRK3jh"
      },
      "outputs": [],
      "source": [
        "if descriptor == 'SOAP':\n",
        "    soap = SOAP(\n",
        "        species=[\"H\", \"C\", \"O\", \"N\", \"F\"],\n",
        "        periodic=False,\n",
        "        r_cut=6.0,\n",
        "        n_max=8,\n",
        "        l_max=6,\n",
        "    )\n",
        "\n",
        "    centers = samples*[[0]]\n",
        "    X = soap.create(mols, centers).reshape([samples, -1])\n",
        "    print(X.shape)"
      ]
    },
    {
      "cell_type": "markdown",
      "metadata": {
        "id": "472T-DiJRMy8"
      },
      "source": [
        "## Many-body Tensor Representation (MBTR)"
      ]
    },
    {
      "cell_type": "code",
      "execution_count": 16,
      "metadata": {
        "id": "KQB8RbDCRWSi"
      },
      "outputs": [],
      "source": [
        "if descriptor == 'MBTR':\n",
        "  mbtr = MBTR(\n",
        "      species=[\"H\", \"C\", \"O\", \"N\", \"F\"],\n",
        "      geometry={\"function\": \"distance\"},\n",
        "      grid={\"min\": 0.4, \"max\": 8, \"sigma\": 0.1, \"n\": 100},\n",
        "      periodic=False,\n",
        "      sparse=False,\n",
        "      normalization=\"l2\",\n",
        "  )\n",
        "\n",
        "  X = mbtr.create(mols)\n",
        "  print(X.shape)"
      ]
    },
    {
      "cell_type": "markdown",
      "metadata": {
        "id": "KLKClLjrygKn"
      },
      "source": [
        "# Preparação dos Dados\n"
      ]
    },
    {
      "cell_type": "code",
      "execution_count": 17,
      "metadata": {
        "id": "CEAv1ZJmU8sW"
      },
      "outputs": [],
      "source": [
        "from sklearn.utils import shuffle\n",
        "X, Y = shuffle(X, Y, random_state=0)"
      ]
    },
    {
      "cell_type": "markdown",
      "metadata": {
        "id": "LnrSdudeeBgB"
      },
      "source": [
        "**Q9 Dataset: Propriedades**\n",
        "\n",
        "0. Rotational constant A: GHz\n",
        "1. Rotational constant B: GHz\n",
        "2. Rotational constant C: GHz\n",
        "3. Dipole moment (μ): Debye (D)\n",
        "4. Isotropic polarizability (α): atomic units (a.u.)\n",
        "5. Energy of HOMO (ϵHOMO): Hartree (Ha)\n",
        "6. Energy of LUMO (ϵLUMO): Hartree (Ha)\n",
        "7. Gap (ϵgap): Hartree (Ha)\n",
        "8. Electronic spatial extent: atomic units (a.u.)\n",
        "9. Zero point vibrational energy (zpve): Hartree (Ha)\n",
        "10. Internal energy at 0 K (U0): Hartree (Ha)\n",
        "11. Internal energy at 298.15 K (U): Hartree (Ha)\n",
        "12. Enthalpy at 298.15 K (H): Hartree (Ha)\n",
        "13. Free energy at 298.15 K (G): Hartree (Ha)\n",
        "15. Heat capacity at 298.15 K (Cv): cal/mol·K\n",
        "\n"
      ]
    },
    {
      "cell_type": "code",
      "execution_count": 18,
      "metadata": {
        "id": "0BG5b8VO1A7d",
        "colab": {
          "base_uri": "https://localhost:8080/",
          "height": 472
        },
        "outputId": "a83c3155-6777-4099-89bc-e6d7690bda1b"
      },
      "outputs": [
        {
          "output_type": "display_data",
          "data": {
            "text/plain": [
              "<Figure size 640x480 with 1 Axes>"
            ],
            "image/png": "[encoded data removed]"
          },
          "metadata": {}
        }
      ],
      "source": [
        "# Seleção da propriedade alvo\n",
        "att_alvo = 10 # 15 propriedades [0-14]\n",
        "Ys = Y[:,att_alvo].reshape(-1,1)\n",
        "plt.hist(Y[:,att_alvo], bins=50, edgecolor='black', alpha=0.7)\n",
        "plt.xlabel('Propriedade')\n",
        "plt.ylabel('Frequencia')\n",
        "plt.title('Distribuição da Propriedade Selecionada')\n",
        "plt.grid(True)\n",
        "plt.show()\n"
      ]
    },
    {
      "cell_type": "code",
      "execution_count": 19,
      "metadata": {
        "id": "eryeTB6JSxGP"
      },
      "outputs": [],
      "source": [
        "# Normalização, Split, DataLoader\n",
        "from sklearn.preprocessing import StandardScaler\n",
        "scaler = StandardScaler()\n",
        "Xn = scaler.fit_transform(X)"
      ]
    },
    {
      "cell_type": "code",
      "execution_count": 20,
      "metadata": {
        "id": "m9t3hx_-VCtt"
      },
      "outputs": [],
      "source": [
        "class Data(Dataset):\n",
        "    def __init__(self, data, targets):\n",
        "        self.data = data\n",
        "        self.targets = targets\n",
        "\n",
        "    def __len__(self):\n",
        "        return len(self.data)\n",
        "\n",
        "    def __getitem__(self, idx):\n",
        "        return torch.from_numpy(self.data[idx]).float(), torch.from_numpy(self.targets[idx]).float()\n",
        "\n",
        "dataset = Data(Xn,Ys)"
      ]
    },
    {
      "cell_type": "code",
      "execution_count": 21,
      "metadata": {
        "id": "Wq6c43ueHRvP"
      },
      "outputs": [],
      "source": [
        "batch_size = 256\n",
        "\n",
        "train_len = int(0.8 * len(dataset))\n",
        "val_len = int(0.1 * len(dataset))\n",
        "test_len = len(dataset) - train_len - val_len\n",
        "\n",
        "train_dataset, val_dataset, test_dataset = random_split(dataset, [train_len, val_len, test_len])\n",
        "\n",
        "train_loader = DataLoader(train_dataset, batch_size=batch_size, shuffle=True)\n",
        "val_loader = DataLoader(val_dataset, batch_size=batch_size, shuffle=False)\n",
        "test_loader = DataLoader(test_dataset, batch_size=batch_size, shuffle=False)"
      ]
    },
    {
      "cell_type": "markdown",
      "metadata": {
        "id": "KxWBYScQSZL9"
      },
      "source": [
        "# Rede Neural\n"
      ]
    },
    {
      "cell_type": "markdown",
      "metadata": {
        "id": "35CD53rZSt-C"
      },
      "source": [
        "## Modelo (Pytorch)"
      ]
    },
    {
      "cell_type": "code",
      "execution_count": 22,
      "metadata": {
        "id": "OT-v1W3CA5TF"
      },
      "outputs": [],
      "source": [
        "class MLP(nn.Module):\n",
        "    def __init__(self, input_dim, output_dim, layers, lr=0.001):\n",
        "        super(MLP, self).__init__()\n",
        "        all_layers = []\n",
        "        prev_dim = input_dim\n",
        "\n",
        "        # Camadas ocultas\n",
        "        for layer_dim in layers:\n",
        "            all_layers.append(nn.Linear(prev_dim, layer_dim))\n",
        "            all_layers.append(nn.ReLU())\n",
        "            prev_dim = layer_dim\n",
        "\n",
        "        # Camada de saída (ativação linear - regressão)\n",
        "        all_layers.append(nn.Linear(prev_dim, output_dim))\n",
        "\n",
        "        # Combinando as camadas\n",
        "        self.layers = nn.Sequential(*all_layers)\n",
        "\n",
        "        self.criterion = nn.L1Loss() #nn.MSELoss()\n",
        "        self.optimizer = optim.Adam(self.parameters(), lr=lr)\n",
        "\n",
        "    def forward(self, x):\n",
        "        return self.layers(x)\n",
        "\n",
        "    def train_model(self, dataloader):\n",
        "        self.train()\n",
        "        total_loss = 0\n",
        "        for batch_x, batch_y in dataloader:\n",
        "            batch_x, batch_y = batch_x.to(device), batch_y.to(device)\n",
        "            self.optimizer.zero_grad()\n",
        "            outputs = self(batch_x)\n",
        "            loss = self.criterion(outputs, batch_y)\n",
        "            loss.backward()\n",
        "            self.optimizer.step()\n",
        "            total_loss += loss.item()\n",
        "        return total_loss / len(dataloader)\n",
        "\n",
        "    def validate_model(self, dataloader):\n",
        "        self.eval()\n",
        "        total_loss = 0\n",
        "        with torch.no_grad():\n",
        "            for batch_x, batch_y in dataloader:\n",
        "                batch_x, batch_y = batch_x.to(device), batch_y.to(device)\n",
        "                outputs = self(batch_x)\n",
        "                loss = self.criterion(outputs, batch_y)\n",
        "                total_loss += loss.item()\n",
        "        return total_loss / len(dataloader)\n",
        "\n",
        "    def test_model(self, dataloader):\n",
        "        self.eval()\n",
        "        predictions = []\n",
        "        targets = []\n",
        "        total_loss = 0\n",
        "        with torch.no_grad():\n",
        "            for batch_x, batch_y in dataloader:\n",
        "                batch_x, batch_y = batch_x.to(device), batch_y.to(device)\n",
        "                outputs = self(batch_x)\n",
        "                loss = self.criterion(outputs, batch_y)\n",
        "                total_loss += loss.item()\n",
        "                predictions.extend(outputs.cpu().tolist())\n",
        "                targets.extend(batch_y.cpu().tolist())\n",
        "        return predictions, targets, total_loss / len(dataloader)\n",
        "\n",
        "    def predict(self, dataloader):\n",
        "        self.eval()\n",
        "        predictions = []\n",
        "        with torch.no_grad():\n",
        "            for batch_x, _ in dataloader:\n",
        "                batch_x = batch_x.to(device)\n",
        "                outputs = self(batch_x)\n",
        "                predictions.extend(outputs.cpu().tolist())\n",
        "        return predictions"
      ]
    },
    {
      "cell_type": "code",
      "execution_count": 23,
      "metadata": {
        "id": "MBJgmmiEtc84"
      },
      "outputs": [],
      "source": [
        "class EarlyStopping:\n",
        "    def __init__(self, patience=5, verbose=False, delta=0):\n",
        "        \"\"\"\n",
        "        Args:\n",
        "            patience (int): How long to wait after last time validation loss improved.\n",
        "            verbose (bool): If True, prints a message for each validation loss improvement.\n",
        "            delta (float): Minimum change in the monitored quantity to qualify as an improvement.\n",
        "        \"\"\"\n",
        "        self.patience = patience\n",
        "        self.verbose = verbose\n",
        "        self.counter = 0\n",
        "        self.best_score = None\n",
        "        self.early_stop = False\n",
        "        self.val_loss_min = float('inf')\n",
        "        self.delta = delta\n",
        "\n",
        "    def __call__(self, val_loss, model):\n",
        "\n",
        "        score = -val_loss\n",
        "\n",
        "        if self.best_score is None:\n",
        "            self.best_score = score\n",
        "            self.save_checkpoint(val_loss, model)\n",
        "        elif score < self.best_score + self.delta:\n",
        "            self.counter += 1\n",
        "            if self.verbose:\n",
        "                print(f'EarlyStopping counter: {self.counter} out of {self.patience}')\n",
        "            if self.counter >= self.patience:\n",
        "                self.early_stop = True\n",
        "        else:\n",
        "            self.best_score = score\n",
        "            self.save_checkpoint(val_loss, model)\n",
        "            self.counter = 0\n",
        "\n",
        "    def save_checkpoint(self, val_loss, model):\n",
        "        '''Saves model when validation loss decreases.'''\n",
        "        if self.verbose:\n",
        "            print(f'Validation loss decreased ({self.val_loss_min:.6f} --> {val_loss:.6f}).  Saving model ...')\n",
        "        torch.save(model.state_dict(), 'checkpoint.pt')\n",
        "        self.val_loss_min = val_loss\n"
      ]
    },
    {
      "cell_type": "markdown",
      "metadata": {
        "id": "9I3h9Lo95YGY"
      },
      "source": [
        "## Otimizando os Hiperparâmetros"
      ]
    },
    {
      "cell_type": "markdown",
      "metadata": {
        "id": "UiHEvNrPo5Bu"
      },
      "source": [
        "### Função Objetivo Optuna"
      ]
    },
    {
      "cell_type": "code",
      "execution_count": null,
      "metadata": {
        "id": "eJPoq6IV5bc2"
      },
      "outputs": [],
      "source": [
        "def objective(trial):\n",
        "    early_stopping = EarlyStopping(patience=7, verbose=False)\n",
        "    # lr = trial.suggest_float('lr', 1e-5, 1e-1, log=True)\n",
        "    lr = 0.001\n",
        "    n_layers = trial.suggest_int('n_layers', 1, 3)\n",
        "    layers = []\n",
        "    for i in range(n_layers):\n",
        "        layers.append(trial.suggest_int(f'n_units_l{i+1}', 20, 400, 20))\n",
        "\n",
        "    model = MLP(input_dim=X.shape[1], output_dim=1, layers=layers, lr=lr).to(device)\n",
        "    optimizer = torch.optim.Adam(model.parameters(), lr=lr)\n",
        "    for epoch in range(2000): # máximo épocas\n",
        "        train_loss = model.train_model(train_loader)\n",
        "        val_loss = model.validate_model(val_loader)\n",
        "        early_stopping(val_loss, model)\n",
        "        if early_stopping.early_stop:\n",
        "            break\n",
        "    return val_loss\n"
      ]
    },
    {
      "cell_type": "markdown",
      "metadata": {
        "id": "avslFaZHo8c5"
      },
      "source": [
        "### Otimização\n",
        "\n",
        "**Cuidado:** O custo computacional pode ser elevado"
      ]
    },
    {
      "cell_type": "code",
      "execution_count": null,
      "metadata": {
        "colab": {
          "base_uri": "https://localhost:8080/",
          "height": 686
        },
        "id": "eZpIsU-Go82f",
        "outputId": "32cc654b-0e1a-4afb-f9f3-4a365429dc31"
      },
      "outputs": [
        {
          "name": "stderr",
          "output_type": "stream",
          "text": [
            "[I 2024-11-11 15:26:51,736] A new study created in memory with name: no-name-b96006d5-a47a-45ed-afa0-1b2522033efb\n",
            "<ipython-input-35-1ab0a2b2131c>:8: FutureWarning: suggest_int() got {'step'} as positional arguments but they were expected to be given as keyword arguments.\n",
            "  layers.append(trial.suggest_int(f'n_units_l{i+1}', 20, 400, 20))\n",
            "[W 2024-11-11 15:27:31,732] Trial 0 failed with parameters: {'n_layers': 3, 'n_units_l1': 180, 'n_units_l2': 300, 'n_units_l3': 320} because of the following error: KeyboardInterrupt().\n",
            "Traceback (most recent call last):\n",
            "  File \"/usr/local/lib/python3.10/dist-packages/optuna/study/_optimize.py\", line 197, in _run_trial\n",
            "    value_or_values = func(trial)\n",
            "  File \"<ipython-input-35-1ab0a2b2131c>\", line 13, in objective\n",
            "    train_loss = model.train_model(train_loader)\n",
            "  File \"<ipython-input-33-dc49a5dc08f9>\", line 33, in train_model\n",
            "    loss.backward()\n",
            "  File \"/usr/local/lib/python3.10/dist-packages/torch/_tensor.py\", line 581, in backward\n",
            "    torch.autograd.backward(\n",
            "  File \"/usr/local/lib/python3.10/dist-packages/torch/autograd/__init__.py\", line 347, in backward\n",
            "    _engine_run_backward(\n",
            "  File \"/usr/local/lib/python3.10/dist-packages/torch/autograd/graph.py\", line 825, in _engine_run_backward\n",
            "    return Variable._execution_engine.run_backward(  # Calls into the C++ engine to run the backward pass\n",
            "KeyboardInterrupt\n",
            "[W 2024-11-11 15:27:31,738] Trial 0 failed with value None.\n"
          ]
        },
        {
          "ename": "KeyboardInterrupt",
          "evalue": "",
          "output_type": "error",
          "traceback": [
            "\u001b[0;31m---------------------------------------------------------------------------\u001b[0m",
            "\u001b[0;31mKeyboardInterrupt\u001b[0m                         Traceback (most recent call last)",
            "\u001b[0;32m<ipython-input-36-d3b0fcd12b3e>\u001b[0m in \u001b[0;36m<cell line: 2>\u001b[0;34m()\u001b[0m\n\u001b[1;32m      1\u001b[0m \u001b[0mstudy\u001b[0m \u001b[0;34m=\u001b[0m \u001b[0moptuna\u001b[0m\u001b[0;34m.\u001b[0m\u001b[0mcreate_study\u001b[0m\u001b[0;34m(\u001b[0m\u001b[0mdirection\u001b[0m\u001b[0;34m=\u001b[0m\u001b[0;34m'minimize'\u001b[0m\u001b[0;34m)\u001b[0m\u001b[0;34m\u001b[0m\u001b[0;34m\u001b[0m\u001b[0m\n\u001b[0;32m----> 2\u001b[0;31m \u001b[0mstudy\u001b[0m\u001b[0;34m.\u001b[0m\u001b[0moptimize\u001b[0m\u001b[0;34m(\u001b[0m\u001b[0mobjective\u001b[0m\u001b[0;34m,\u001b[0m \u001b[0mn_trials\u001b[0m\u001b[0;34m=\u001b[0m\u001b[0;36m10\u001b[0m\u001b[0;34m)\u001b[0m\u001b[0;34m\u001b[0m\u001b[0;34m\u001b[0m\u001b[0m\n\u001b[0m\u001b[1;32m      3\u001b[0m \u001b[0;34m\u001b[0m\u001b[0m\n\u001b[1;32m      4\u001b[0m \u001b[0mprint\u001b[0m\u001b[0;34m(\u001b[0m\u001b[0;34m'Número de tentativas: '\u001b[0m\u001b[0;34m,\u001b[0m \u001b[0mlen\u001b[0m\u001b[0;34m(\u001b[0m\u001b[0mstudy\u001b[0m\u001b[0;34m.\u001b[0m\u001b[0mtrials\u001b[0m\u001b[0;34m)\u001b[0m\u001b[0;34m)\u001b[0m\u001b[0;34m\u001b[0m\u001b[0;34m\u001b[0m\u001b[0m\n\u001b[1;32m      5\u001b[0m \u001b[0mprint\u001b[0m\u001b[0;34m(\u001b[0m\u001b[0;34m'Melhor Resultado:'\u001b[0m\u001b[0;34m)\u001b[0m\u001b[0;34m\u001b[0m\u001b[0;34m\u001b[0m\u001b[0m\n",
            "\u001b[0;32m/usr/local/lib/python3.10/dist-packages/optuna/study/study.py\u001b[0m in \u001b[0;36moptimize\u001b[0;34m(self, func, n_trials, timeout, n_jobs, catch, callbacks, gc_after_trial, show_progress_bar)\u001b[0m\n\u001b[1;32m    473\u001b[0m                 \u001b[0mIf\u001b[0m \u001b[0mnested\u001b[0m \u001b[0minvocation\u001b[0m \u001b[0mof\u001b[0m \u001b[0mthis\u001b[0m \u001b[0mmethod\u001b[0m \u001b[0moccurs\u001b[0m\u001b[0;34m.\u001b[0m\u001b[0;34m\u001b[0m\u001b[0;34m\u001b[0m\u001b[0m\n\u001b[1;32m    474\u001b[0m         \"\"\"\n\u001b[0;32m--> 475\u001b[0;31m         _optimize(\n\u001b[0m\u001b[1;32m    476\u001b[0m             \u001b[0mstudy\u001b[0m\u001b[0;34m=\u001b[0m\u001b[0mself\u001b[0m\u001b[0;34m,\u001b[0m\u001b[0;34m\u001b[0m\u001b[0;34m\u001b[0m\u001b[0m\n\u001b[1;32m    477\u001b[0m             \u001b[0mfunc\u001b[0m\u001b[0;34m=\u001b[0m\u001b[0mfunc\u001b[0m\u001b[0;34m,\u001b[0m\u001b[0;34m\u001b[0m\u001b[0;34m\u001b[0m\u001b[0m\n",
            "\u001b[0;32m/usr/local/lib/python3.10/dist-packages/optuna/study/_optimize.py\u001b[0m in \u001b[0;36m_optimize\u001b[0;34m(study, func, n_trials, timeout, n_jobs, catch, callbacks, gc_after_trial, show_progress_bar)\u001b[0m\n\u001b[1;32m     61\u001b[0m     \u001b[0;32mtry\u001b[0m\u001b[0;34m:\u001b[0m\u001b[0;34m\u001b[0m\u001b[0;34m\u001b[0m\u001b[0m\n\u001b[1;32m     62\u001b[0m         \u001b[0;32mif\u001b[0m \u001b[0mn_jobs\u001b[0m \u001b[0;34m==\u001b[0m \u001b[0;36m1\u001b[0m\u001b[0;34m:\u001b[0m\u001b[0;34m\u001b[0m\u001b[0;34m\u001b[0m\u001b[0m\n\u001b[0;32m---> 63\u001b[0;31m             _optimize_sequential(\n\u001b[0m\u001b[1;32m     64\u001b[0m                 \u001b[0mstudy\u001b[0m\u001b[0;34m,\u001b[0m\u001b[0;34m\u001b[0m\u001b[0;34m\u001b[0m\u001b[0m\n\u001b[1;32m     65\u001b[0m                 \u001b[0mfunc\u001b[0m\u001b[0;34m,\u001b[0m\u001b[0;34m\u001b[0m\u001b[0;34m\u001b[0m\u001b[0m\n",
            "\u001b[0;32m/usr/local/lib/python3.10/dist-packages/optuna/study/_optimize.py\u001b[0m in \u001b[0;36m_optimize_sequential\u001b[0;34m(study, func, n_trials, timeout, catch, callbacks, gc_after_trial, reseed_sampler_rng, time_start, progress_bar)\u001b[0m\n\u001b[1;32m    158\u001b[0m \u001b[0;34m\u001b[0m\u001b[0m\n\u001b[1;32m    159\u001b[0m         \u001b[0;32mtry\u001b[0m\u001b[0;34m:\u001b[0m\u001b[0;34m\u001b[0m\u001b[0;34m\u001b[0m\u001b[0m\n\u001b[0;32m--> 160\u001b[0;31m             \u001b[0mfrozen_trial\u001b[0m \u001b[0;34m=\u001b[0m \u001b[0m_run_trial\u001b[0m\u001b[0;34m(\u001b[0m\u001b[0mstudy\u001b[0m\u001b[0;34m,\u001b[0m \u001b[0mfunc\u001b[0m\u001b[0;34m,\u001b[0m \u001b[0mcatch\u001b[0m\u001b[0;34m)\u001b[0m\u001b[0;34m\u001b[0m\u001b[0;34m\u001b[0m\u001b[0m\n\u001b[0m\u001b[1;32m    161\u001b[0m         \u001b[0;32mfinally\u001b[0m\u001b[0;34m:\u001b[0m\u001b[0;34m\u001b[0m\u001b[0;34m\u001b[0m\u001b[0m\n\u001b[1;32m    162\u001b[0m             \u001b[0;31m# The following line mitigates memory problems that can be occurred in some\u001b[0m\u001b[0;34m\u001b[0m\u001b[0;34m\u001b[0m\u001b[0m\n",
            "\u001b[0;32m/usr/local/lib/python3.10/dist-packages/optuna/study/_optimize.py\u001b[0m in \u001b[0;36m_run_trial\u001b[0;34m(study, func, catch)\u001b[0m\n\u001b[1;32m    246\u001b[0m         \u001b[0;32mand\u001b[0m \u001b[0;32mnot\u001b[0m \u001b[0misinstance\u001b[0m\u001b[0;34m(\u001b[0m\u001b[0mfunc_err\u001b[0m\u001b[0;34m,\u001b[0m \u001b[0mcatch\u001b[0m\u001b[0;34m)\u001b[0m\u001b[0;34m\u001b[0m\u001b[0;34m\u001b[0m\u001b[0m\n\u001b[1;32m    247\u001b[0m     ):\n\u001b[0;32m--> 248\u001b[0;31m         \u001b[0;32mraise\u001b[0m \u001b[0mfunc_err\u001b[0m\u001b[0;34m\u001b[0m\u001b[0;34m\u001b[0m\u001b[0m\n\u001b[0m\u001b[1;32m    249\u001b[0m     \u001b[0;32mreturn\u001b[0m \u001b[0mfrozen_trial\u001b[0m\u001b[0;34m\u001b[0m\u001b[0;34m\u001b[0m\u001b[0m\n\u001b[1;32m    250\u001b[0m \u001b[0;34m\u001b[0m\u001b[0m\n",
            "\u001b[0;32m/usr/local/lib/python3.10/dist-packages/optuna/study/_optimize.py\u001b[0m in \u001b[0;36m_run_trial\u001b[0;34m(study, func, catch)\u001b[0m\n\u001b[1;32m    195\u001b[0m     \u001b[0;32mwith\u001b[0m \u001b[0mget_heartbeat_thread\u001b[0m\u001b[0;34m(\u001b[0m\u001b[0mtrial\u001b[0m\u001b[0;34m.\u001b[0m\u001b[0m_trial_id\u001b[0m\u001b[0;34m,\u001b[0m \u001b[0mstudy\u001b[0m\u001b[0;34m.\u001b[0m\u001b[0m_storage\u001b[0m\u001b[0;34m)\u001b[0m\u001b[0;34m:\u001b[0m\u001b[0;34m\u001b[0m\u001b[0;34m\u001b[0m\u001b[0m\n\u001b[1;32m    196\u001b[0m         \u001b[0;32mtry\u001b[0m\u001b[0;34m:\u001b[0m\u001b[0;34m\u001b[0m\u001b[0;34m\u001b[0m\u001b[0m\n\u001b[0;32m--> 197\u001b[0;31m             \u001b[0mvalue_or_values\u001b[0m \u001b[0;34m=\u001b[0m \u001b[0mfunc\u001b[0m\u001b[0;34m(\u001b[0m\u001b[0mtrial\u001b[0m\u001b[0;34m)\u001b[0m\u001b[0;34m\u001b[0m\u001b[0;34m\u001b[0m\u001b[0m\n\u001b[0m\u001b[1;32m    198\u001b[0m         \u001b[0;32mexcept\u001b[0m \u001b[0mexceptions\u001b[0m\u001b[0;34m.\u001b[0m\u001b[0mTrialPruned\u001b[0m \u001b[0;32mas\u001b[0m \u001b[0me\u001b[0m\u001b[0;34m:\u001b[0m\u001b[0;34m\u001b[0m\u001b[0;34m\u001b[0m\u001b[0m\n\u001b[1;32m    199\u001b[0m             \u001b[0;31m# TODO(mamu): Handle multi-objective cases.\u001b[0m\u001b[0;34m\u001b[0m\u001b[0;34m\u001b[0m\u001b[0m\n",
            "\u001b[0;32m<ipython-input-35-1ab0a2b2131c>\u001b[0m in \u001b[0;36mobjective\u001b[0;34m(trial)\u001b[0m\n\u001b[1;32m     11\u001b[0m     \u001b[0moptimizer\u001b[0m \u001b[0;34m=\u001b[0m \u001b[0mtorch\u001b[0m\u001b[0;34m.\u001b[0m\u001b[0moptim\u001b[0m\u001b[0;34m.\u001b[0m\u001b[0mAdam\u001b[0m\u001b[0;34m(\u001b[0m\u001b[0mmodel\u001b[0m\u001b[0;34m.\u001b[0m\u001b[0mparameters\u001b[0m\u001b[0;34m(\u001b[0m\u001b[0;34m)\u001b[0m\u001b[0;34m,\u001b[0m \u001b[0mlr\u001b[0m\u001b[0;34m=\u001b[0m\u001b[0mlr\u001b[0m\u001b[0;34m)\u001b[0m\u001b[0;34m\u001b[0m\u001b[0;34m\u001b[0m\u001b[0m\n\u001b[1;32m     12\u001b[0m     \u001b[0;32mfor\u001b[0m \u001b[0mepoch\u001b[0m \u001b[0;32min\u001b[0m \u001b[0mrange\u001b[0m\u001b[0;34m(\u001b[0m\u001b[0;36m2000\u001b[0m\u001b[0;34m)\u001b[0m\u001b[0;34m:\u001b[0m \u001b[0;31m# máximo épocas\u001b[0m\u001b[0;34m\u001b[0m\u001b[0;34m\u001b[0m\u001b[0m\n\u001b[0;32m---> 13\u001b[0;31m         \u001b[0mtrain_loss\u001b[0m \u001b[0;34m=\u001b[0m \u001b[0mmodel\u001b[0m\u001b[0;34m.\u001b[0m\u001b[0mtrain_model\u001b[0m\u001b[0;34m(\u001b[0m\u001b[0mtrain_loader\u001b[0m\u001b[0;34m)\u001b[0m\u001b[0;34m\u001b[0m\u001b[0;34m\u001b[0m\u001b[0m\n\u001b[0m\u001b[1;32m     14\u001b[0m         \u001b[0mval_loss\u001b[0m \u001b[0;34m=\u001b[0m \u001b[0mmodel\u001b[0m\u001b[0;34m.\u001b[0m\u001b[0mvalidate_model\u001b[0m\u001b[0;34m(\u001b[0m\u001b[0mval_loader\u001b[0m\u001b[0;34m)\u001b[0m\u001b[0;34m\u001b[0m\u001b[0;34m\u001b[0m\u001b[0m\n\u001b[1;32m     15\u001b[0m         \u001b[0mearly_stopping\u001b[0m\u001b[0;34m(\u001b[0m\u001b[0mval_loss\u001b[0m\u001b[0;34m,\u001b[0m \u001b[0mmodel\u001b[0m\u001b[0;34m)\u001b[0m\u001b[0;34m\u001b[0m\u001b[0;34m\u001b[0m\u001b[0m\n",
            "\u001b[0;32m<ipython-input-33-dc49a5dc08f9>\u001b[0m in \u001b[0;36mtrain_model\u001b[0;34m(self, dataloader)\u001b[0m\n\u001b[1;32m     31\u001b[0m             \u001b[0moutputs\u001b[0m \u001b[0;34m=\u001b[0m \u001b[0mself\u001b[0m\u001b[0;34m(\u001b[0m\u001b[0mbatch_x\u001b[0m\u001b[0;34m)\u001b[0m\u001b[0;34m\u001b[0m\u001b[0;34m\u001b[0m\u001b[0m\n\u001b[1;32m     32\u001b[0m             \u001b[0mloss\u001b[0m \u001b[0;34m=\u001b[0m \u001b[0mself\u001b[0m\u001b[0;34m.\u001b[0m\u001b[0mcriterion\u001b[0m\u001b[0;34m(\u001b[0m\u001b[0moutputs\u001b[0m\u001b[0;34m,\u001b[0m \u001b[0mbatch_y\u001b[0m\u001b[0;34m)\u001b[0m\u001b[0;34m\u001b[0m\u001b[0;34m\u001b[0m\u001b[0m\n\u001b[0;32m---> 33\u001b[0;31m             \u001b[0mloss\u001b[0m\u001b[0;34m.\u001b[0m\u001b[0mbackward\u001b[0m\u001b[0;34m(\u001b[0m\u001b[0;34m)\u001b[0m\u001b[0;34m\u001b[0m\u001b[0;34m\u001b[0m\u001b[0m\n\u001b[0m\u001b[1;32m     34\u001b[0m             \u001b[0mself\u001b[0m\u001b[0;34m.\u001b[0m\u001b[0moptimizer\u001b[0m\u001b[0;34m.\u001b[0m\u001b[0mstep\u001b[0m\u001b[0;34m(\u001b[0m\u001b[0;34m)\u001b[0m\u001b[0;34m\u001b[0m\u001b[0;34m\u001b[0m\u001b[0m\n\u001b[1;32m     35\u001b[0m             \u001b[0mtotal_loss\u001b[0m \u001b[0;34m+=\u001b[0m \u001b[0mloss\u001b[0m\u001b[0;34m.\u001b[0m\u001b[0mitem\u001b[0m\u001b[0;34m(\u001b[0m\u001b[0;34m)\u001b[0m\u001b[0;34m\u001b[0m\u001b[0;34m\u001b[0m\u001b[0m\n",
            "\u001b[0;32m/usr/local/lib/python3.10/dist-packages/torch/_tensor.py\u001b[0m in \u001b[0;36mbackward\u001b[0;34m(self, gradient, retain_graph, create_graph, inputs)\u001b[0m\n\u001b[1;32m    579\u001b[0m                 \u001b[0minputs\u001b[0m\u001b[0;34m=\u001b[0m\u001b[0minputs\u001b[0m\u001b[0;34m,\u001b[0m\u001b[0;34m\u001b[0m\u001b[0;34m\u001b[0m\u001b[0m\n\u001b[1;32m    580\u001b[0m             )\n\u001b[0;32m--> 581\u001b[0;31m         torch.autograd.backward(\n\u001b[0m\u001b[1;32m    582\u001b[0m             \u001b[0mself\u001b[0m\u001b[0;34m,\u001b[0m \u001b[0mgradient\u001b[0m\u001b[0;34m,\u001b[0m \u001b[0mretain_graph\u001b[0m\u001b[0;34m,\u001b[0m \u001b[0mcreate_graph\u001b[0m\u001b[0;34m,\u001b[0m \u001b[0minputs\u001b[0m\u001b[0;34m=\u001b[0m\u001b[0minputs\u001b[0m\u001b[0;34m\u001b[0m\u001b[0;34m\u001b[0m\u001b[0m\n\u001b[1;32m    583\u001b[0m         )\n",
            "\u001b[0;32m/usr/local/lib/python3.10/dist-packages/torch/autograd/__init__.py\u001b[0m in \u001b[0;36mbackward\u001b[0;34m(tensors, grad_tensors, retain_graph, create_graph, grad_variables, inputs)\u001b[0m\n\u001b[1;32m    345\u001b[0m     \u001b[0;31m# some Python versions print out the first line of a multi-line function\u001b[0m\u001b[0;34m\u001b[0m\u001b[0;34m\u001b[0m\u001b[0m\n\u001b[1;32m    346\u001b[0m     \u001b[0;31m# calls in the traceback and some print out the last line\u001b[0m\u001b[0;34m\u001b[0m\u001b[0;34m\u001b[0m\u001b[0m\n\u001b[0;32m--> 347\u001b[0;31m     _engine_run_backward(\n\u001b[0m\u001b[1;32m    348\u001b[0m         \u001b[0mtensors\u001b[0m\u001b[0;34m,\u001b[0m\u001b[0;34m\u001b[0m\u001b[0;34m\u001b[0m\u001b[0m\n\u001b[1;32m    349\u001b[0m         \u001b[0mgrad_tensors_\u001b[0m\u001b[0;34m,\u001b[0m\u001b[0;34m\u001b[0m\u001b[0;34m\u001b[0m\u001b[0m\n",
            "\u001b[0;32m/usr/local/lib/python3.10/dist-packages/torch/autograd/graph.py\u001b[0m in \u001b[0;36m_engine_run_backward\u001b[0;34m(t_outputs, *args, **kwargs)\u001b[0m\n\u001b[1;32m    823\u001b[0m         \u001b[0munregister_hooks\u001b[0m \u001b[0;34m=\u001b[0m \u001b[0m_register_logging_hooks_on_whole_graph\u001b[0m\u001b[0;34m(\u001b[0m\u001b[0mt_outputs\u001b[0m\u001b[0;34m)\u001b[0m\u001b[0;34m\u001b[0m\u001b[0;34m\u001b[0m\u001b[0m\n\u001b[1;32m    824\u001b[0m     \u001b[0;32mtry\u001b[0m\u001b[0;34m:\u001b[0m\u001b[0;34m\u001b[0m\u001b[0;34m\u001b[0m\u001b[0m\n\u001b[0;32m--> 825\u001b[0;31m         return Variable._execution_engine.run_backward(  # Calls into the C++ engine to run the backward pass\n\u001b[0m\u001b[1;32m    826\u001b[0m             \u001b[0mt_outputs\u001b[0m\u001b[0;34m,\u001b[0m \u001b[0;34m*\u001b[0m\u001b[0margs\u001b[0m\u001b[0;34m,\u001b[0m \u001b[0;34m**\u001b[0m\u001b[0mkwargs\u001b[0m\u001b[0;34m\u001b[0m\u001b[0;34m\u001b[0m\u001b[0m\n\u001b[1;32m    827\u001b[0m         )  # Calls into the C++ engine to run the backward pass\n",
            "\u001b[0;31mKeyboardInterrupt\u001b[0m: "
          ]
        }
      ],
      "source": [
        "study = optuna.create_study(direction='minimize')\n",
        "study.optimize(objective, n_trials=10)\n",
        "\n",
        "print('Número de tentativas: ', len(study.trials))\n",
        "print('Melhor Resultado:')\n",
        "trial = study.best_trial\n",
        "\n",
        "print('MAE: ', trial.value)\n",
        "print('Hiperparâmetros: ')\n",
        "for key, value in trial.params.items():\n",
        "    print(f'    {key}: {value}')\n"
      ]
    },
    {
      "cell_type": "markdown",
      "metadata": {
        "id": "CTcKgcEZStxX"
      },
      "source": [
        "## Treinamento"
      ]
    },
    {
      "cell_type": "code",
      "execution_count": 24,
      "metadata": {
        "colab": {
          "base_uri": "https://localhost:8080/",
          "height": 701
        },
        "id": "AVDVjaFSqpXY",
        "outputId": "07d1f818-2462-40a4-94df-26674ac1cdbf"
      },
      "outputs": [
        {
          "output_type": "stream",
          "name": "stdout",
          "text": [
            "Época 10/1000, Train Loss: 5.9824, Validation Loss: 4.8716\n",
            "Época 20/1000, Train Loss: 0.3074, Validation Loss: 0.2566\n",
            "Época 30/1000, Train Loss: 0.1784, Validation Loss: 0.1579\n",
            "Época 40/1000, Train Loss: 0.1616, Validation Loss: 0.2037\n",
            "Época 50/1000, Train Loss: 0.1686, Validation Loss: 0.1415\n",
            "Época 60/1000, Train Loss: 0.1529, Validation Loss: 0.1476\n",
            "Época 70/1000, Train Loss: 0.1506, Validation Loss: 0.1817\n",
            "Época 80/1000, Train Loss: 0.1595, Validation Loss: 0.1801\n",
            "Early stopping\n"
          ]
        },
        {
          "output_type": "display_data",
          "data": {
            "text/plain": [
              "<Figure size 600x600 with 1 Axes>"
            ],
            "image/png": "[encoded data removed]"
          },
          "metadata": {}
        }
      ],
      "source": [
        "num_epochs = 1000\n",
        "learning_rate = 0.001\n",
        "# Definição do Modelo\n",
        "model = MLP(input_dim=X.shape[1], output_dim=1, layers=[180], lr=learning_rate).to(device)\n",
        "\n",
        "# Early Stop\n",
        "early_stopping = EarlyStopping(patience=20, verbose=False)\n",
        "\n",
        "tloss = []\n",
        "vloss = []\n",
        "for epoch in range(num_epochs):\n",
        "    train_loss = model.train_model(train_loader)\n",
        "    val_loss = model.validate_model(val_loader)\n",
        "    tloss.append(train_loss)\n",
        "    vloss.append(val_loss)\n",
        "    if (epoch+1) % 10 == 0:\n",
        "        print(f\"Época {epoch+1}/{num_epochs}, Train Loss: {train_loss:.4f}, Validation Loss: {val_loss:.4f}\")\n",
        "    early_stopping(val_loss, model)\n",
        "    if early_stopping.early_stop:\n",
        "        print(\"Early stopping\")\n",
        "        break\n",
        "\n",
        "fig, ax = plt.subplots(figsize=(6, 6))\n",
        "ax.set_title(\"Curva de Erro\")\n",
        "ax.plot(tloss,'blue', label='Treino')\n",
        "ax.plot(vloss,'red', label='Validação')\n",
        "ax.legend()\n",
        "ax.grid(True)\n",
        "plt.show()\n"
      ]
    },
    {
      "cell_type": "code",
      "execution_count": 25,
      "metadata": {
        "colab": {
          "base_uri": "https://localhost:8080/",
          "height": 581
        },
        "id": "hafA_hyYt7jc",
        "outputId": "d829401e-cc85-4209-957d-05dfb57d19d1"
      },
      "outputs": [
        {
          "output_type": "stream",
          "name": "stdout",
          "text": [
            "Erro de predição (MAE) no conjunto de teste: 0.16872362736261115\n"
          ]
        },
        {
          "output_type": "display_data",
          "data": {
            "text/plain": [
              "<Figure size 600x600 with 1 Axes>"
            ],
            "image/png": "[encoded data removed]"
          },
          "metadata": {}
        }
      ],
      "source": [
        "Yp, Yt, loss_test = model.test_model(test_loader)\n",
        "\n",
        "plt.figure(figsize=(6, 6))\n",
        "plt.scatter(Yp, Yt, alpha=0.6)\n",
        "\n",
        "max_val = max(max(Yt), max(Yp))\n",
        "min_val = min(min(Yt), min(Yp))\n",
        "plt.plot([min_val, max_val], [min_val, max_val], 'r', linestyle='--')\n",
        "\n",
        "plt.xlabel('Valor Real')\n",
        "plt.ylabel('Valor Predito')\n",
        "plt.title('Predito vs. Real')\n",
        "plt.grid(True)\n",
        "\n",
        "print(f\"Erro de predição (MAE) no conjunto de teste: {loss_test}\")\n",
        "\n",
        "plt.show()\n",
        "\n"
      ]
    },
    {
      "cell_type": "code",
      "execution_count": 26,
      "metadata": {
        "colab": {
          "base_uri": "https://localhost:8080/"
        },
        "id": "XF5-rEYKvPLd",
        "outputId": "47d80af0-2e9d-4d73-d75c-0cc35bdfd709"
      },
      "outputs": [
        {
          "output_type": "execute_result",
          "data": {
            "text/plain": [
              "<module 'chemXAI' from '/content/chemXAI.py'>"
            ]
          },
          "metadata": {},
          "execution_count": 26
        }
      ],
      "source": [
        "import importlib\n",
        "import chemXAI  # Importa o módulo inicialmente\n",
        "\n",
        "# ... faça algumas modificações no arquivo do seu_modulo ...\n",
        "\n",
        "importlib.reload(chemXAI)  # Recarrega o módulo com as modificações"
      ]
    },
    {
      "cell_type": "markdown",
      "metadata": {
        "id": "OJ5T2WVVBjaP"
      },
      "source": [
        "# Explicação com Shap"
      ]
    },
    {
      "cell_type": "code",
      "execution_count": 27,
      "metadata": {
        "id": "n80SD5Z_sVsB"
      },
      "outputs": [],
      "source": [
        "from chemXAI import Shap"
      ]
    },
    {
      "cell_type": "code",
      "execution_count": 28,
      "metadata": {
        "colab": {
          "base_uri": "https://localhost:8080/",
          "height": 118,
          "referenced_widgets": [
            "dcd49e986bd14cc9849f9ddd87f8ab23",
            "f84367c4941b42e2b07e301b3f2887c9",
            "165d7aa93b2c4a0b9fe16ac7dd66f918",
            "ec4908a74d1f4ede93b4ecefe65d9dd0",
            "7b7f252e20c54884a90e53fc2f7fbe45",
            "6bacf184bf15429fb13c3250980bbc1a",
            "7b986efa648c4474a73fb539050fffff",
            "2f59b7c28a2a492ebc3e6ea891e97a9c",
            "a768d6e1741f4e3bbf737f9f781aeaa0",
            "2f5345bf8bd2465aaccb607b34a595a9",
            "90092a6c6c14491dacd44c69ac4f35a6"
          ]
        },
        "id": "XftykGIUBjaP",
        "outputId": "95792b7a-d786-486a-c90f-03c7127195b0"
      },
      "outputs": [
        {
          "output_type": "stream",
          "name": "stderr",
          "text": [
            "WARNING:shap:Using 256 background data samples could cause slower run times. Consider using shap.sample(data, K) or shap.kmeans(data, K) to summarize the background as K samples.\n"
          ]
        },
        {
          "output_type": "stream",
          "name": "stdout",
          "text": [
            "Background shape: (256, 29)\n",
            "Test data shape: (256, 29)\n"
          ]
        },
        {
          "output_type": "display_data",
          "data": {
            "text/plain": [
              "  0%|          | 0/256 [00:00<?, ?it/s]"
            ],
            "application/vnd.jupyter.widget-view+json": {
              "version_major": 2,
              "version_minor": 0,
              "model_id": "dcd49e986bd14cc9849f9ddd87f8ab23"
            }
          },
          "metadata": {}
        },
        {
          "output_type": "stream",
          "name": "stdout",
          "text": [
            "Global SHAP values shape: (29,)\n"
          ]
        }
      ],
      "source": [
        "# Inicializa a classe Shap com o modelo e DataLoaders\n",
        "shap_explainer = Shap(model, train_loader, test_loader, device)\n",
        "\n",
        "# Gera e exibe uma explicação local para a primeira instância no batch de teste\n",
        "local_explanation = shap_explainer.local_explanation(0)\n",
        "\n",
        "# Gera e exibe a explicação global\n",
        "all_local_importances, global_explanation = shap_explainer.global_explanation()"
      ]
    },
    {
      "cell_type": "code",
      "execution_count": 29,
      "metadata": {
        "colab": {
          "base_uri": "https://localhost:8080/"
        },
        "id": "_dgLW6S7hj3w",
        "outputId": "b925eaea-e3c2-4cdf-9715-f91fcfd6b8bb"
      },
      "outputs": [
        {
          "output_type": "stream",
          "name": "stdout",
          "text": [
            "    Feature Index  SHAP Value\n",
            "0               0    7.707330\n",
            "1               3    3.531975\n",
            "2               2    1.765019\n",
            "3               4    1.467247\n",
            "4               7    1.081693\n",
            "5               6    0.331279\n",
            "6               8    0.164486\n",
            "7              12    0.116775\n",
            "8              13    0.110089\n",
            "9              10    0.074158\n",
            "10             11    0.043493\n",
            "11             17    0.030283\n",
            "12             23    0.019592\n",
            "13              9    0.012755\n",
            "14             25    0.007436\n",
            "15             21    0.002116\n",
            "16             26    0.001059\n",
            "17             28    0.000000\n",
            "18             27    0.000000\n",
            "19             16   -0.001478\n",
            "20             19   -0.002211\n",
            "21             22   -0.006745\n",
            "22             20   -0.006880\n",
            "23             24   -0.012288\n",
            "24             18   -0.016433\n",
            "25             15   -0.039307\n",
            "26             14   -0.141796\n",
            "27              5   -0.739736\n",
            "28              1   -5.739050\n"
          ]
        }
      ],
      "source": [
        "print(local_explanation)"
      ]
    },
    {
      "cell_type": "code",
      "execution_count": 30,
      "metadata": {
        "colab": {
          "base_uri": "https://localhost:8080/"
        },
        "id": "v31F00evhqJy",
        "outputId": "b374403d-8c03-497c-c3a1-ecdaefaa7c03"
      },
      "outputs": [
        {
          "output_type": "stream",
          "name": "stdout",
          "text": [
            "   Feature  Importance\n",
            "0        0   11.073518\n",
            "1        1    8.052231\n",
            "2        2    6.982321\n",
            "3        3    4.712602\n",
            "4        4    3.023176\n",
            "5        5    2.486399\n",
            "6        6    2.149870\n",
            "7        8    2.137016\n",
            "8        7    1.870223\n",
            "9       12    0.308604\n",
            "10      11    0.253795\n",
            "11      13    0.178212\n",
            "12      14    0.136105\n",
            "13      10    0.082737\n",
            "14      16    0.079513\n",
            "15      15    0.061357\n",
            "16      18    0.054222\n",
            "17      17    0.052921\n",
            "18      23    0.047307\n",
            "19      24    0.045661\n",
            "20      20    0.028656\n",
            "21       9    0.028400\n",
            "22      21    0.027825\n",
            "23      22    0.026679\n",
            "24      19    0.015610\n",
            "25      25    0.014227\n",
            "26      26    0.005826\n",
            "27      27    0.000000\n",
            "28      28    0.000000\n"
          ]
        }
      ],
      "source": [
        "print(global_explanation)"
      ]
    },
    {
      "cell_type": "code",
      "execution_count": 31,
      "metadata": {
        "colab": {
          "base_uri": "https://localhost:8080/"
        },
        "id": "bwSyKCg8zmRR",
        "outputId": "01f09bd9-eaa2-433c-f3d5-96b219f03e32"
      },
      "outputs": [
        {
          "output_type": "stream",
          "name": "stdout",
          "text": [
            "     Feature 0  Feature 1  Feature 2  Feature 3  Feature 4  Feature 5  \\\n",
            "0     7.707330  -5.739050   1.765019   3.531975   1.467247  -0.739736   \n",
            "1    11.226393  -9.603965   7.407649   1.713836  -0.177347   0.337496   \n",
            "2     5.930258  -7.307948 -11.400388   7.797527   1.921438  -1.662127   \n",
            "3    29.505404  -6.540166  14.817062   8.086632   6.658718   5.115616   \n",
            "4   -10.081294   3.742382 -11.080944  -3.761836  -1.475466  -0.907186   \n",
            "..         ...        ...        ...        ...        ...        ...   \n",
            "251 -11.228875  -9.862425 -11.279112  -0.314419  -0.793192  -6.817760   \n",
            "252   8.718973   2.128465 -12.068324 -11.676873  -2.177965   5.169195   \n",
            "253   6.241817  10.190355   7.921921   3.509831  -0.284753  -0.661527   \n",
            "254 -19.364682   2.329292  -4.801492   0.435183   0.022547  -2.034377   \n",
            "255   1.172008  -0.165411   8.849853   6.745065  -0.693443  -6.996583   \n",
            "\n",
            "     Feature 6  Feature 7  Feature 8  Feature 9  ...  Feature 19  Feature 20  \\\n",
            "0     0.331279   1.081693   0.164486   0.012755  ...   -0.002211   -0.006880   \n",
            "1     1.762230  -1.764894  -3.279313   0.030143  ...   -0.045052   -0.011819   \n",
            "2     0.247289   0.149393  -0.290932  -0.004468  ...    0.003504   -0.004758   \n",
            "3     2.542419   0.138141   3.671106   0.013188  ...    0.004600   -0.011512   \n",
            "4     0.337400  -1.742205   1.153301   0.022439  ...    0.002307   -0.008389   \n",
            "..         ...        ...        ...        ...  ...         ...         ...   \n",
            "251  -5.236062  -4.375752  -0.329812   0.009337  ...   -0.031103    0.000000   \n",
            "252   4.740773   2.741877   2.504863   0.000000  ...    0.020593    0.024978   \n",
            "253   0.367281  -1.460846  -4.191012   0.087680  ...    0.084984    0.131933   \n",
            "254  -0.338734  -3.846608   0.386807   0.014085  ...   -0.001479   -0.001846   \n",
            "255   0.184402  -0.536047  -0.476994   0.010877  ...    0.018533   -0.008233   \n",
            "\n",
            "     Feature 21  Feature 22  Feature 23  Feature 24  Feature 25  Feature 26  \\\n",
            "0      0.002116   -0.006745    0.019592   -0.012288    0.007436    0.001059   \n",
            "1      0.008584   -0.009167    0.014529   -0.027356    0.008434    0.027639   \n",
            "2      0.005915   -0.002531    0.019842   -0.007013    0.005126    0.004160   \n",
            "3      0.000000   -0.006396    0.019231    0.000000    0.004184    0.000000   \n",
            "4      0.000000   -0.010863    0.017962   -0.010050    0.008052    0.000000   \n",
            "..          ...         ...         ...         ...         ...         ...   \n",
            "251   -0.003777   -0.004522    0.009725   -0.020361    0.013700    0.011904   \n",
            "252   -0.035785   -0.025106    0.032544    0.000000    0.000000    0.000000   \n",
            "253    0.187852    0.251283    0.000000   -0.020600    0.000000    0.000000   \n",
            "254    0.000000   -0.005288    0.017550   -0.012256    0.010159    0.000989   \n",
            "255   -0.004566   -0.013348    0.015011   -0.013836    0.006388    0.000000   \n",
            "\n",
            "     Feature 27  Feature 28  \n",
            "0           0.0         0.0  \n",
            "1           0.0         0.0  \n",
            "2           0.0         0.0  \n",
            "3           0.0         0.0  \n",
            "4           0.0         0.0  \n",
            "..          ...         ...  \n",
            "251         0.0         0.0  \n",
            "252         0.0         0.0  \n",
            "253         0.0         0.0  \n",
            "254         0.0         0.0  \n",
            "255         0.0         0.0  \n",
            "\n",
            "[256 rows x 29 columns]\n"
          ]
        }
      ],
      "source": [
        "print(all_local_importances)"
      ]
    },
    {
      "cell_type": "markdown",
      "metadata": {
        "id": "uzzeJV8ztoud"
      },
      "source": [
        "# Explicação com LIME"
      ]
    },
    {
      "cell_type": "code",
      "execution_count": 32,
      "metadata": {
        "id": "D9Uo6qaRt0DB"
      },
      "outputs": [],
      "source": [
        "from chemXAI import LIME"
      ]
    },
    {
      "cell_type": "code",
      "execution_count": 33,
      "metadata": {
        "colab": {
          "base_uri": "https://localhost:8080/"
        },
        "id": "kkkzzvS5tsdZ",
        "outputId": "fa1a590d-4740-4ece-9ec0-563304d9e111"
      },
      "outputs": [
        {
          "output_type": "stream",
          "name": "stdout",
          "text": [
            "Intercept -424.8364895502405\n",
            "Prediction_local [-402.5528679]\n",
            "Right: -401.87256\n"
          ]
        }
      ],
      "source": [
        "# Instancia a explicação\n",
        "lime_explainer = LIME(model, train_loader, test_loader, device, mode='regression')\n",
        "\n",
        "# Gera e exibe uma explicação local para a primeira instância no batch de teste\n",
        "local_explanation = lime_explainer.local_explanation(0)"
      ]
    },
    {
      "cell_type": "code",
      "execution_count": 34,
      "metadata": {
        "id": "TAI16TuLuz6j",
        "colab": {
          "base_uri": "https://localhost:8080/",
          "height": 959
        },
        "outputId": "4cc0c126-aa6c-45af-fdfa-812f4d8cba0d"
      },
      "outputs": [
        {
          "output_type": "execute_result",
          "data": {
            "text/plain": [
              "                        Feature  LIME Value\n",
              "0     -0.51 < Feature 0 <= 0.10    5.886387\n",
              "2     -0.70 < Feature 2 <= 0.05    4.577881\n",
              "3    -0.66 < Feature 3 <= -0.10    2.959365\n",
              "4            Feature 22 <= 0.10    2.612128\n",
              "5     -0.58 < Feature 4 <= 0.04    2.574023\n",
              "6            Feature 20 <= 0.11    2.521983\n",
              "7            Feature 24 <= 0.02    2.510466\n",
              "9     -0.63 < Feature 7 <= 0.06    1.852916\n",
              "10    -0.62 < Feature 6 <= 0.04    1.609077\n",
              "11          Feature 10 <= -0.54    1.395623\n",
              "12   -0.61 < Feature 17 <= 0.72    1.011838\n",
              "14           Feature 23 <= 0.07    0.911388\n",
              "16  -0.61 < Feature 12 <= -0.14    0.302237\n",
              "19   -0.44 < Feature 18 <= 0.45    0.131263\n",
              "21  -0.78 < Feature 13 <= -0.15    0.040449\n",
              "23           Feature 21 <= 0.09    0.015313\n",
              "24    -0.59 < Feature 8 <= 0.14    0.008884\n",
              "28           Feature 27 <= 0.01    0.000000\n",
              "26           Feature 26 <= 0.00    0.000000\n",
              "25           Feature 25 <= 0.01    0.000000\n",
              "27           Feature 28 <= 0.00    0.000000\n",
              "22  -0.64 < Feature 11 <= -0.03   -0.030223\n",
              "20     0.00 < Feature 5 <= 0.59   -0.088435\n",
              "18           Feature 19 <= 0.22   -0.272911\n",
              "17   -0.50 < Feature 9 <= -0.14   -0.285087\n",
              "15    0.36 < Feature 14 <= 0.91   -0.344008\n",
              "13    0.31 < Feature 15 <= 1.09   -0.917825\n",
              "8    -0.61 < Feature 16 <= 0.28   -2.110707\n",
              "1     -0.06 < Feature 1 <= 0.56   -4.588406"
            ],
            "text/html": [
              "\n",
              "  <div id=\"df-814128e9-4df2-4f0d-800a-57119990c55a\" class=\"colab-df-container\">\n",
              "    <div>\n",
              "<style scoped>\n",
              "    .dataframe tbody tr th:only-of-type {\n",
              "        vertical-align: middle;\n",
              "    }\n",
              "\n",
              "    .dataframe tbody tr th {\n",
              "        vertical-align: top;\n",
              "    }\n",
              "\n",
              "    .dataframe thead th {\n",
              "        text-align: right;\n",
              "    }\n",
              "</style>\n",
              "<table border=\"1\" class=\"dataframe\">\n",
              "  <thead>\n",
              "    <tr style=\"text-align: right;\">\n",
              "      <th></th>\n",
              "      <th>Feature</th>\n",
              "      <th>LIME Value</th>\n",
              "    </tr>\n",
              "  </thead>\n",
              "  <tbody>\n",
              "    <tr>\n",
              "      <th>0</th>\n",
              "      <td>-0.51 &lt; Feature 0 &lt;= 0.10</td>\n",
              "      <td>5.886387</td>\n",
              "    </tr>\n",
              "    <tr>\n",
              "      <th>2</th>\n",
              "      <td>-0.70 &lt; Feature 2 &lt;= 0.05</td>\n",
              "      <td>4.577881</td>\n",
              "    </tr>\n",
              "    <tr>\n",
              "      <th>3</th>\n",
              "      <td>-0.66 &lt; Feature 3 &lt;= -0.10</td>\n",
              "      <td>2.959365</td>\n",
              "    </tr>\n",
              "    <tr>\n",
              "      <th>4</th>\n",
              "      <td>Feature 22 &lt;= 0.10</td>\n",
              "      <td>2.612128</td>\n",
              "    </tr>\n",
              "    <tr>\n",
              "      <th>5</th>\n",
              "      <td>-0.58 &lt; Feature 4 &lt;= 0.04</td>\n",
              "      <td>2.574023</td>\n",
              "    </tr>\n",
              "    <tr>\n",
              "      <th>6</th>\n",
              "      <td>Feature 20 &lt;= 0.11</td>\n",
              "      <td>2.521983</td>\n",
              "    </tr>\n",
              "    <tr>\n",
              "      <th>7</th>\n",
              "      <td>Feature 24 &lt;= 0.02</td>\n",
              "      <td>2.510466</td>\n",
              "    </tr>\n",
              "    <tr>\n",
              "      <th>9</th>\n",
              "      <td>-0.63 &lt; Feature 7 &lt;= 0.06</td>\n",
              "      <td>1.852916</td>\n",
              "    </tr>\n",
              "    <tr>\n",
              "      <th>10</th>\n",
              "      <td>-0.62 &lt; Feature 6 &lt;= 0.04</td>\n",
              "      <td>1.609077</td>\n",
              "    </tr>\n",
              "    <tr>\n",
              "      <th>11</th>\n",
              "      <td>Feature 10 &lt;= -0.54</td>\n",
              "      <td>1.395623</td>\n",
              "    </tr>\n",
              "    <tr>\n",
              "      <th>12</th>\n",
              "      <td>-0.61 &lt; Feature 17 &lt;= 0.72</td>\n",
              "      <td>1.011838</td>\n",
              "    </tr>\n",
              "    <tr>\n",
              "      <th>14</th>\n",
              "      <td>Feature 23 &lt;= 0.07</td>\n",
              "      <td>0.911388</td>\n",
              "    </tr>\n",
              "    <tr>\n",
              "      <th>16</th>\n",
              "      <td>-0.61 &lt; Feature 12 &lt;= -0.14</td>\n",
              "      <td>0.302237</td>\n",
              "    </tr>\n",
              "    <tr>\n",
              "      <th>19</th>\n",
              "      <td>-0.44 &lt; Feature 18 &lt;= 0.45</td>\n",
              "      <td>0.131263</td>\n",
              "    </tr>\n",
              "    <tr>\n",
              "      <th>21</th>\n",
              "      <td>-0.78 &lt; Feature 13 &lt;= -0.15</td>\n",
              "      <td>0.040449</td>\n",
              "    </tr>\n",
              "    <tr>\n",
              "      <th>23</th>\n",
              "      <td>Feature 21 &lt;= 0.09</td>\n",
              "      <td>0.015313</td>\n",
              "    </tr>\n",
              "    <tr>\n",
              "      <th>24</th>\n",
              "      <td>-0.59 &lt; Feature 8 &lt;= 0.14</td>\n",
              "      <td>0.008884</td>\n",
              "    </tr>\n",
              "    <tr>\n",
              "      <th>28</th>\n",
              "      <td>Feature 27 &lt;= 0.01</td>\n",
              "      <td>0.000000</td>\n",
              "    </tr>\n",
              "    <tr>\n",
              "      <th>26</th>\n",
              "      <td>Feature 26 &lt;= 0.00</td>\n",
              "      <td>0.000000</td>\n",
              "    </tr>\n",
              "    <tr>\n",
              "      <th>25</th>\n",
              "      <td>Feature 25 &lt;= 0.01</td>\n",
              "      <td>0.000000</td>\n",
              "    </tr>\n",
              "    <tr>\n",
              "      <th>27</th>\n",
              "      <td>Feature 28 &lt;= 0.00</td>\n",
              "      <td>0.000000</td>\n",
              "    </tr>\n",
              "    <tr>\n",
              "      <th>22</th>\n",
              "      <td>-0.64 &lt; Feature 11 &lt;= -0.03</td>\n",
              "      <td>-0.030223</td>\n",
              "    </tr>\n",
              "    <tr>\n",
              "      <th>20</th>\n",
              "      <td>0.00 &lt; Feature 5 &lt;= 0.59</td>\n",
              "      <td>-0.088435</td>\n",
              "    </tr>\n",
              "    <tr>\n",
              "      <th>18</th>\n",
              "      <td>Feature 19 &lt;= 0.22</td>\n",
              "      <td>-0.272911</td>\n",
              "    </tr>\n",
              "    <tr>\n",
              "      <th>17</th>\n",
              "      <td>-0.50 &lt; Feature 9 &lt;= -0.14</td>\n",
              "      <td>-0.285087</td>\n",
              "    </tr>\n",
              "    <tr>\n",
              "      <th>15</th>\n",
              "      <td>0.36 &lt; Feature 14 &lt;= 0.91</td>\n",
              "      <td>-0.344008</td>\n",
              "    </tr>\n",
              "    <tr>\n",
              "      <th>13</th>\n",
              "      <td>0.31 &lt; Feature 15 &lt;= 1.09</td>\n",
              "      <td>-0.917825</td>\n",
              "    </tr>\n",
              "    <tr>\n",
              "      <th>8</th>\n",
              "      <td>-0.61 &lt; Feature 16 &lt;= 0.28</td>\n",
              "      <td>-2.110707</td>\n",
              "    </tr>\n",
              "    <tr>\n",
              "      <th>1</th>\n",
              "      <td>-0.06 &lt; Feature 1 &lt;= 0.56</td>\n",
              "      <td>-4.588406</td>\n",
              "    </tr>\n",
              "  </tbody>\n",
              "</table>\n",
              "</div>\n",
              "    <div class=\"colab-df-buttons\">\n",
              "\n",
              "  <div class=\"colab-df-container\">\n",
              "    <button class=\"colab-df-convert\" onclick=\"convertToInteractive('df-814128e9-4df2-4f0d-800a-57119990c55a')\"\n",
              "            title=\"Convert this dataframe to an interactive table.\"\n",
              "            style=\"display:none;\">\n",
              "\n",
              "  <svg xmlns=\"http://www.w3.org/2000/svg\" height=\"24px\" viewBox=\"0 -960 960 960\">\n",
              "    <path d=\"M120-120v-720h720v720H120Zm60-500h600v-160H180v160Zm220 220h160v-160H400v160Zm0 220h160v-160H400v160ZM180-400h160v-160H180v160Zm440 0h160v-160H620v160ZM180-180h160v-160H180v160Zm440 0h160v-160H620v160Z\"/>\n",
              "  </svg>\n",
              "    </button>\n",
              "\n",
              "  <style>\n",
              "    .colab-df-container {\n",
              "      display:flex;\n",
              "      gap: 12px;\n",
              "    }\n",
              "\n",
              "    .colab-df-convert {\n",
              "      background-color: #E8F0FE;\n",
              "      border: none;\n",
              "      border-radius: 50%;\n",
              "      cursor: pointer;\n",
              "      display: none;\n",
              "      fill: #1967D2;\n",
              "      height: 32px;\n",
              "      padding: 0 0 0 0;\n",
              "      width: 32px;\n",
              "    }\n",
              "\n",
              "    .colab-df-convert:hover {\n",
              "      background-color: #E2EBFA;\n",
              "      box-shadow: 0px 1px 2px rgba(60, 64, 67, 0.3), 0px 1px 3px 1px rgba(60, 64, 67, 0.15);\n",
              "      fill: #174EA6;\n",
              "    }\n",
              "\n",
              "    .colab-df-buttons div {\n",
              "      margin-bottom: 4px;\n",
              "    }\n",
              "\n",
              "    [theme=dark] .colab-df-convert {\n",
              "      background-color: #3B4455;\n",
              "      fill: #D2E3FC;\n",
              "    }\n",
              "\n",
              "    [theme=dark] .colab-df-convert:hover {\n",
              "      background-color: #434B5C;\n",
              "      box-shadow: 0px 1px 3px 1px rgba(0, 0, 0, 0.15);\n",
              "      filter: drop-shadow(0px 1px 2px rgba(0, 0, 0, 0.3));\n",
              "      fill: #FFFFFF;\n",
              "    }\n",
              "  </style>\n",
              "\n",
              "    <script>\n",
              "      const buttonEl =\n",
              "        document.querySelector('#df-814128e9-4df2-4f0d-800a-57119990c55a button.colab-df-convert');\n",
              "      buttonEl.style.display =\n",
              "        google.colab.kernel.accessAllowed ? 'block' : 'none';\n",
              "\n",
              "      async function convertToInteractive(key) {\n",
              "        const element = document.querySelector('#df-814128e9-4df2-4f0d-800a-57119990c55a');\n",
              "        const dataTable =\n",
              "          await google.colab.kernel.invokeFunction('convertToInteractive',\n",
              "                                                    [key], {});\n",
              "        if (!dataTable) return;\n",
              "\n",
              "        const docLinkHtml = 'Like what you see? Visit the ' +\n",
              "          '<a target=\"_blank\" href=https://colab.research.google.com/notebooks/data_table.ipynb>data table notebook</a>'\n",
              "          + ' to learn more about interactive tables.';\n",
              "        element.innerHTML = '';\n",
              "        dataTable['output_type'] = 'display_data';\n",
              "        await google.colab.output.renderOutput(dataTable, element);\n",
              "        const docLink = document.createElement('div');\n",
              "        docLink.innerHTML = docLinkHtml;\n",
              "        element.appendChild(docLink);\n",
              "      }\n",
              "    </script>\n",
              "  </div>\n",
              "\n",
              "\n",
              "<div id=\"df-d7213693-20ce-4132-aa85-e7ac2da2c0a5\">\n",
              "  <button class=\"colab-df-quickchart\" onclick=\"quickchart('df-d7213693-20ce-4132-aa85-e7ac2da2c0a5')\"\n",
              "            title=\"Suggest charts\"\n",
              "            style=\"display:none;\">\n",
              "\n",
              "<svg xmlns=\"http://www.w3.org/2000/svg\" height=\"24px\"viewBox=\"0 0 24 24\"\n",
              "     width=\"24px\">\n",
              "    <g>\n",
              "        <path d=\"M19 3H5c-1.1 0-2 .9-2 2v14c0 1.1.9 2 2 2h14c1.1 0 2-.9 2-2V5c0-1.1-.9-2-2-2zM9 17H7v-7h2v7zm4 0h-2V7h2v10zm4 0h-2v-4h2v4z\"/>\n",
              "    </g>\n",
              "</svg>\n",
              "  </button>\n",
              "\n",
              "<style>\n",
              "  .colab-df-quickchart {\n",
              "      --bg-color: #E8F0FE;\n",
              "      --fill-color: #1967D2;\n",
              "      --hover-bg-color: #E2EBFA;\n",
              "      --hover-fill-color: #174EA6;\n",
              "      --disabled-fill-color: #AAA;\n",
              "      --disabled-bg-color: #DDD;\n",
              "  }\n",
              "\n",
              "  [theme=dark] .colab-df-quickchart {\n",
              "      --bg-color: #3B4455;\n",
              "      --fill-color: #D2E3FC;\n",
              "      --hover-bg-color: #434B5C;\n",
              "      --hover-fill-color: #FFFFFF;\n",
              "      --disabled-bg-color: #3B4455;\n",
              "      --disabled-fill-color: #666;\n",
              "  }\n",
              "\n",
              "  .colab-df-quickchart {\n",
              "    background-color: var(--bg-color);\n",
              "    border: none;\n",
              "    border-radius: 50%;\n",
              "    cursor: pointer;\n",
              "    display: none;\n",
              "    fill: var(--fill-color);\n",
              "    height: 32px;\n",
              "    padding: 0;\n",
              "    width: 32px;\n",
              "  }\n",
              "\n",
              "  .colab-df-quickchart:hover {\n",
              "    background-color: var(--hover-bg-color);\n",
              "    box-shadow: 0 1px 2px rgba(60, 64, 67, 0.3), 0 1px 3px 1px rgba(60, 64, 67, 0.15);\n",
              "    fill: var(--button-hover-fill-color);\n",
              "  }\n",
              "\n",
              "  .colab-df-quickchart-complete:disabled,\n",
              "  .colab-df-quickchart-complete:disabled:hover {\n",
              "    background-color: var(--disabled-bg-color);\n",
              "    fill: var(--disabled-fill-color);\n",
              "    box-shadow: none;\n",
              "  }\n",
              "\n",
              "  .colab-df-spinner {\n",
              "    border: 2px solid var(--fill-color);\n",
              "    border-color: transparent;\n",
              "    border-bottom-color: var(--fill-color);\n",
              "    animation:\n",
              "      spin 1s steps(1) infinite;\n",
              "  }\n",
              "\n",
              "  @keyframes spin {\n",
              "    0% {\n",
              "      border-color: transparent;\n",
              "      border-bottom-color: var(--fill-color);\n",
              "      border-left-color: var(--fill-color);\n",
              "    }\n",
              "    20% {\n",
              "      border-color: transparent;\n",
              "      border-left-color: var(--fill-color);\n",
              "      border-top-color: var(--fill-color);\n",
              "    }\n",
              "    30% {\n",
              "      border-color: transparent;\n",
              "      border-left-color: var(--fill-color);\n",
              "      border-top-color: var(--fill-color);\n",
              "      border-right-color: var(--fill-color);\n",
              "    }\n",
              "    40% {\n",
              "      border-color: transparent;\n",
              "      border-right-color: var(--fill-color);\n",
              "      border-top-color: var(--fill-color);\n",
              "    }\n",
              "    60% {\n",
              "      border-color: transparent;\n",
              "      border-right-color: var(--fill-color);\n",
              "    }\n",
              "    80% {\n",
              "      border-color: transparent;\n",
              "      border-right-color: var(--fill-color);\n",
              "      border-bottom-color: var(--fill-color);\n",
              "    }\n",
              "    90% {\n",
              "      border-color: transparent;\n",
              "      border-bottom-color: var(--fill-color);\n",
              "    }\n",
              "  }\n",
              "</style>\n",
              "\n",
              "  <script>\n",
              "    async function quickchart(key) {\n",
              "      const quickchartButtonEl =\n",
              "        document.querySelector('#' + key + ' button');\n",
              "      quickchartButtonEl.disabled = true;  // To prevent multiple clicks.\n",
              "      quickchartButtonEl.classList.add('colab-df-spinner');\n",
              "      try {\n",
              "        const charts = await google.colab.kernel.invokeFunction(\n",
              "            'suggestCharts', [key], {});\n",
              "      } catch (error) {\n",
              "        console.error('Error during call to suggestCharts:', error);\n",
              "      }\n",
              "      quickchartButtonEl.classList.remove('colab-df-spinner');\n",
              "      quickchartButtonEl.classList.add('colab-df-quickchart-complete');\n",
              "    }\n",
              "    (() => {\n",
              "      let quickchartButtonEl =\n",
              "        document.querySelector('#df-d7213693-20ce-4132-aa85-e7ac2da2c0a5 button');\n",
              "      quickchartButtonEl.style.display =\n",
              "        google.colab.kernel.accessAllowed ? 'block' : 'none';\n",
              "    })();\n",
              "  </script>\n",
              "</div>\n",
              "\n",
              "  <div id=\"id_6b5c7f6c-5548-4039-a41d-895897f9a66e\">\n",
              "    <style>\n",
              "      .colab-df-generate {\n",
              "        background-color: #E8F0FE;\n",
              "        border: none;\n",
              "        border-radius: 50%;\n",
              "        cursor: pointer;\n",
              "        display: none;\n",
              "        fill: #1967D2;\n",
              "        height: 32px;\n",
              "        padding: 0 0 0 0;\n",
              "        width: 32px;\n",
              "      }\n",
              "\n",
              "      .colab-df-generate:hover {\n",
              "        background-color: #E2EBFA;\n",
              "        box-shadow: 0px 1px 2px rgba(60, 64, 67, 0.3), 0px 1px 3px 1px rgba(60, 64, 67, 0.15);\n",
              "        fill: #174EA6;\n",
              "      }\n",
              "\n",
              "      [theme=dark] .colab-df-generate {\n",
              "        background-color: #3B4455;\n",
              "        fill: #D2E3FC;\n",
              "      }\n",
              "\n",
              "      [theme=dark] .colab-df-generate:hover {\n",
              "        background-color: #434B5C;\n",
              "        box-shadow: 0px 1px 3px 1px rgba(0, 0, 0, 0.15);\n",
              "        filter: drop-shadow(0px 1px 2px rgba(0, 0, 0, 0.3));\n",
              "        fill: #FFFFFF;\n",
              "      }\n",
              "    </style>\n",
              "    <button class=\"colab-df-generate\" onclick=\"generateWithVariable('local_explanation')\"\n",
              "            title=\"Generate code using this dataframe.\"\n",
              "            style=\"display:none;\">\n",
              "\n",
              "  <svg xmlns=\"http://www.w3.org/2000/svg\" height=\"24px\"viewBox=\"0 0 24 24\"\n",
              "       width=\"24px\">\n",
              "    <path d=\"M7,19H8.4L18.45,9,17,7.55,7,17.6ZM5,21V16.75L18.45,3.32a2,2,0,0,1,2.83,0l1.4,1.43a1.91,1.91,0,0,1,.58,1.4,1.91,1.91,0,0,1-.58,1.4L9.25,21ZM18.45,9,17,7.55Zm-12,3A5.31,5.31,0,0,0,4.9,8.1,5.31,5.31,0,0,0,1,6.5,5.31,5.31,0,0,0,4.9,4.9,5.31,5.31,0,0,0,6.5,1,5.31,5.31,0,0,0,8.1,4.9,5.31,5.31,0,0,0,12,6.5,5.46,5.46,0,0,0,6.5,12Z\"/>\n",
              "  </svg>\n",
              "    </button>\n",
              "    <script>\n",
              "      (() => {\n",
              "      const buttonEl =\n",
              "        document.querySelector('#id_6b5c7f6c-5548-4039-a41d-895897f9a66e button.colab-df-generate');\n",
              "      buttonEl.style.display =\n",
              "        google.colab.kernel.accessAllowed ? 'block' : 'none';\n",
              "\n",
              "      buttonEl.onclick = () => {\n",
              "        google.colab.notebook.generateWithVariable('local_explanation');\n",
              "      }\n",
              "      })();\n",
              "    </script>\n",
              "  </div>\n",
              "\n",
              "    </div>\n",
              "  </div>\n"
            ],
            "application/vnd.google.colaboratory.intrinsic+json": {
              "type": "dataframe",
              "variable_name": "local_explanation",
              "summary": "{\n  \"name\": \"local_explanation\",\n  \"rows\": 29,\n  \"fields\": [\n    {\n      \"column\": \"Feature\",\n      \"properties\": {\n        \"dtype\": \"string\",\n        \"num_unique_values\": 29,\n        \"samples\": [\n          \"-0.61 < Feature 16 <= 0.28\",\n          \"-0.59 < Feature 8 <= 0.14\",\n          \"-0.61 < Feature 12 <= -0.14\"\n        ],\n        \"semantic_type\": \"\",\n        \"description\": \"\"\n      }\n    },\n    {\n      \"column\": \"LIME Value\",\n      \"properties\": {\n        \"dtype\": \"number\",\n        \"std\": 1.98136168457923,\n        \"min\": -4.588405817042159,\n        \"max\": 5.886387344167972,\n        \"num_unique_values\": 26,\n        \"samples\": [\n          1.609077087315196,\n          0.008884390346491869,\n          5.886387344167972\n        ],\n        \"semantic_type\": \"\",\n        \"description\": \"\"\n      }\n    }\n  ]\n}"
            }
          },
          "metadata": {},
          "execution_count": 34
        }
      ],
      "source": [
        "local_explanation"
      ]
    },
    {
      "cell_type": "markdown",
      "metadata": {
        "id": "HDLwbbGwSbOD"
      },
      "source": [
        "# Experimentos (Sugestões)\n",
        "\n",
        "\n",
        "\n"
      ]
    },
    {
      "cell_type": "markdown",
      "metadata": {
        "id": "aQvrlGWch6Ta"
      },
      "source": [
        "\n",
        "1. Verificar o modelo para os outros descritores\n",
        "2. Verificar por que os valores de shapley e os valores do LIME mostram diferentes tipos de explicação\n"
      ]
    },
    {
      "cell_type": "code",
      "execution_count": null,
      "metadata": {
        "id": "Bv27SFrFBsBP"
      },
      "outputs": [],
      "source": []
    }
  ],
  "metadata": {
    "accelerator": "GPU",
    "colab": {
      "gpuType": "T4",
      "provenance": []
    },
    "kernelspec": {
      "display_name": "venv",
      "language": "python",
      "name": "python3"
    },
    "language_info": {
      "codemirror_mode": {
        "name": "ipython",
        "version": 3
      },
      "file_extension": ".py",
      "mimetype": "text/x-python",
      "name": "python",
      "nbconvert_exporter": "python",
      "pygments_lexer": "ipython3",
      "version": "3.12.1"
    },
    "widgets": {
      "application/vnd.jupyter.widget-state+json": {
        "dcd49e986bd14cc9849f9ddd87f8ab23": {
          "model_module": "@jupyter-widgets/controls",
          "model_name": "HBoxModel",
          "model_module_version": "1.5.0",
          "state": {
            "_dom_classes": [],
            "_model_module": "@jupyter-widgets/controls",
            "_model_module_version": "1.5.0",
            "_model_name": "HBoxModel",
            "_view_count": null,
            "_view_module": "@jupyter-widgets/controls",
            "_view_module_version": "1.5.0",
            "_view_name": "HBoxView",
            "box_style": "",
            "children": [
              "IPY_MODEL_f84367c4941b42e2b07e301b3f2887c9",
              "IPY_MODEL_165d7aa93b2c4a0b9fe16ac7dd66f918",
              "IPY_MODEL_ec4908a74d1f4ede93b4ecefe65d9dd0"
            ],
            "layout": "IPY_MODEL_7b7f252e20c54884a90e53fc2f7fbe45"
          }
        },
        "f84367c4941b42e2b07e301b3f2887c9": {
          "model_module": "@jupyter-widgets/controls",
          "model_name": "HTMLModel",
          "model_module_version": "1.5.0",
          "state": {
            "_dom_classes": [],
            "_model_module": "@jupyter-widgets/controls",
            "_model_module_version": "1.5.0",
            "_model_name": "HTMLModel",
            "_view_count": null,
            "_view_module": "@jupyter-widgets/controls",
            "_view_module_version": "1.5.0",
            "_view_name": "HTMLView",
            "description": "",
            "description_tooltip": null,
            "layout": "IPY_MODEL_6bacf184bf15429fb13c3250980bbc1a",
            "placeholder": "​",
            "style": "IPY_MODEL_7b986efa648c4474a73fb539050fffff",
            "value": "100%"
          }
        },
        "165d7aa93b2c4a0b9fe16ac7dd66f918": {
          "model_module": "@jupyter-widgets/controls",
          "model_name": "FloatProgressModel",
          "model_module_version": "1.5.0",
          "state": {
            "_dom_classes": [],
            "_model_module": "@jupyter-widgets/controls",
            "_model_module_version": "1.5.0",
            "_model_name": "FloatProgressModel",
            "_view_count": null,
            "_view_module": "@jupyter-widgets/controls",
            "_view_module_version": "1.5.0",
            "_view_name": "ProgressView",
            "bar_style": "success",
            "description": "",
            "description_tooltip": null,
            "layout": "IPY_MODEL_2f59b7c28a2a492ebc3e6ea891e97a9c",
            "max": 256,
            "min": 0,
            "orientation": "horizontal",
            "style": "IPY_MODEL_a768d6e1741f4e3bbf737f9f781aeaa0",
            "value": 256
          }
        },
        "ec4908a74d1f4ede93b4ecefe65d9dd0": {
          "model_module": "@jupyter-widgets/controls",
          "model_name": "HTMLModel",
          "model_module_version": "1.5.0",
          "state": {
            "_dom_classes": [],
            "_model_module": "@jupyter-widgets/controls",
            "_model_module_version": "1.5.0",
            "_model_name": "HTMLModel",
            "_view_count": null,
            "_view_module": "@jupyter-widgets/controls",
            "_view_module_version": "1.5.0",
            "_view_name": "HTMLView",
            "description": "",
            "description_tooltip": null,
            "layout": "IPY_MODEL_2f5345bf8bd2465aaccb607b34a595a9",
            "placeholder": "​",
            "style": "IPY_MODEL_90092a6c6c14491dacd44c69ac4f35a6",
            "value": " 256/256 [09:56&lt;00:00,  2.54s/it]"
          }
        },
        "7b7f252e20c54884a90e53fc2f7fbe45": {
          "model_module": "@jupyter-widgets/base",
          "model_name": "LayoutModel",
          "model_module_version": "1.2.0",
          "state": {
            "_model_module": "@jupyter-widgets/base",
            "_model_module_version": "1.2.0",
            "_model_name": "LayoutModel",
            "_view_count": null,
            "_view_module": "@jupyter-widgets/base",
            "_view_module_version": "1.2.0",
            "_view_name": "LayoutView",
            "align_content": null,
            "align_items": null,
            "align_self": null,
            "border": null,
            "bottom": null,
            "display": null,
            "flex": null,
            "flex_flow": null,
            "grid_area": null,
            "grid_auto_columns": null,
            "grid_auto_flow": null,
            "grid_auto_rows": null,
            "grid_column": null,
            "grid_gap": null,
            "grid_row": null,
            "grid_template_areas": null,
            "grid_template_columns": null,
            "grid_template_rows": null,
            "height": null,
            "justify_content": null,
            "justify_items": null,
            "left": null,
            "margin": null,
            "max_height": null,
            "max_width": null,
            "min_height": null,
            "min_width": null,
            "object_fit": null,
            "object_position": null,
            "order": null,
            "overflow": null,
            "overflow_x": null,
            "overflow_y": null,
            "padding": null,
            "right": null,
            "top": null,
            "visibility": null,
            "width": null
          }
        },
        "6bacf184bf15429fb13c3250980bbc1a": {
          "model_module": "@jupyter-widgets/base",
          "model_name": "LayoutModel",
          "model_module_version": "1.2.0",
          "state": {
            "_model_module": "@jupyter-widgets/base",
            "_model_module_version": "1.2.0",
            "_model_name": "LayoutModel",
            "_view_count": null,
            "_view_module": "@jupyter-widgets/base",
            "_view_module_version": "1.2.0",
            "_view_name": "LayoutView",
            "align_content": null,
            "align_items": null,
            "align_self": null,
            "border": null,
            "bottom": null,
            "display": null,
            "flex": null,
            "flex_flow": null,
            "grid_area": null,
            "grid_auto_columns": null,
            "grid_auto_flow": null,
            "grid_auto_rows": null,
            "grid_column": null,
            "grid_gap": null,
            "grid_row": null,
            "grid_template_areas": null,
            "grid_template_columns": null,
            "grid_template_rows": null,
            "height": null,
            "justify_content": null,
            "justify_items": null,
            "left": null,
            "margin": null,
            "max_height": null,
            "max_width": null,
            "min_height": null,
            "min_width": null,
            "object_fit": null,
            "object_position": null,
            "order": null,
            "overflow": null,
            "overflow_x": null,
            "overflow_y": null,
            "padding": null,
            "right": null,
            "top": null,
            "visibility": null,
            "width": null
          }
        },
        "7b986efa648c4474a73fb539050fffff": {
          "model_module": "@jupyter-widgets/controls",
          "model_name": "DescriptionStyleModel",
          "model_module_version": "1.5.0",
          "state": {
            "_model_module": "@jupyter-widgets/controls",
            "_model_module_version": "1.5.0",
            "_model_name": "DescriptionStyleModel",
            "_view_count": null,
            "_view_module": "@jupyter-widgets/base",
            "_view_module_version": "1.2.0",
            "_view_name": "StyleView",
            "description_width": ""
          }
        },
        "2f59b7c28a2a492ebc3e6ea891e97a9c": {
          "model_module": "@jupyter-widgets/base",
          "model_name": "LayoutModel",
          "model_module_version": "1.2.0",
          "state": {
            "_model_module": "@jupyter-widgets/base",
            "_model_module_version": "1.2.0",
            "_model_name": "LayoutModel",
            "_view_count": null,
            "_view_module": "@jupyter-widgets/base",
            "_view_module_version": "1.2.0",
            "_view_name": "LayoutView",
            "align_content": null,
            "align_items": null,
            "align_self": null,
            "border": null,
            "bottom": null,
            "display": null,
            "flex": null,
            "flex_flow": null,
            "grid_area": null,
            "grid_auto_columns": null,
            "grid_auto_flow": null,
            "grid_auto_rows": null,
            "grid_column": null,
            "grid_gap": null,
            "grid_row": null,
            "grid_template_areas": null,
            "grid_template_columns": null,
            "grid_template_rows": null,
            "height": null,
            "justify_content": null,
            "justify_items": null,
            "left": null,
            "margin": null,
            "max_height": null,
            "max_width": null,
            "min_height": null,
            "min_width": null,
            "object_fit": null,
            "object_position": null,
            "order": null,
            "overflow": null,
            "overflow_x": null,
            "overflow_y": null,
            "padding": null,
            "right": null,
            "top": null,
            "visibility": null,
            "width": null
          }
        },
        "a768d6e1741f4e3bbf737f9f781aeaa0": {
          "model_module": "@jupyter-widgets/controls",
          "model_name": "ProgressStyleModel",
          "model_module_version": "1.5.0",
          "state": {
            "_model_module": "@jupyter-widgets/controls",
            "_model_module_version": "1.5.0",
            "_model_name": "ProgressStyleModel",
            "_view_count": null,
            "_view_module": "@jupyter-widgets/base",
            "_view_module_version": "1.2.0",
            "_view_name": "StyleView",
            "bar_color": null,
            "description_width": ""
          }
        },
        "2f5345bf8bd2465aaccb607b34a595a9": {
          "model_module": "@jupyter-widgets/base",
          "model_name": "LayoutModel",
          "model_module_version": "1.2.0",
          "state": {
            "_model_module": "@jupyter-widgets/base",
            "_model_module_version": "1.2.0",
            "_model_name": "LayoutModel",
            "_view_count": null,
            "_view_module": "@jupyter-widgets/base",
            "_view_module_version": "1.2.0",
            "_view_name": "LayoutView",
            "align_content": null,
            "align_items": null,
            "align_self": null,
            "border": null,
            "bottom": null,
            "display": null,
            "flex": null,
            "flex_flow": null,
            "grid_area": null,
            "grid_auto_columns": null,
            "grid_auto_flow": null,
            "grid_auto_rows": null,
            "grid_column": null,
            "grid_gap": null,
            "grid_row": null,
            "grid_template_areas": null,
            "grid_template_columns": null,
            "grid_template_rows": null,
            "height": null,
            "justify_content": null,
            "justify_items": null,
            "left": null,
            "margin": null,
            "max_height": null,
            "max_width": null,
            "min_height": null,
            "min_width": null,
            "object_fit": null,
            "object_position": null,
            "order": null,
            "overflow": null,
            "overflow_x": null,
            "overflow_y": null,
            "padding": null,
            "right": null,
            "top": null,
            "visibility": null,
            "width": null
          }
        },
        "90092a6c6c14491dacd44c69ac4f35a6": {
          "model_module": "@jupyter-widgets/controls",
          "model_name": "DescriptionStyleModel",
          "model_module_version": "1.5.0",
          "state": {
            "_model_module": "@jupyter-widgets/controls",
            "_model_module_version": "1.5.0",
            "_model_name": "DescriptionStyleModel",
            "_view_count": null,
            "_view_module": "@jupyter-widgets/base",
            "_view_module_version": "1.2.0",
            "_view_name": "StyleView",
            "description_width": ""
          }
        }
      }
    }
  },
  "nbformat": 4,
  "nbformat_minor": 0
}